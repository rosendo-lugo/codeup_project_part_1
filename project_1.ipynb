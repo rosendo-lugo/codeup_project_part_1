{
 "cells": [
  {
   "cell_type": "markdown",
   "id": "02ac43b5-bc19-46d1-9820-5eb7034da4f1",
   "metadata": {},
   "source": [
    "# Telco Project Part I"
   ]
  },
  {
   "cell_type": "markdown",
   "id": "975d299d-a11f-4f4f-8206-dffbb5aaf400",
   "metadata": {},
   "source": [
    "## Goals:\n",
    "\n",
    ">- To identify the factors that contribute to customer churn in the Telco dataset.\n",
    ">- To develop strategies for retaining customers who are at high risk of churning, based on their tenure and other characteristics.\n",
    ">- To determine whether there are specific payment methods that are associated with higher rates of churn and to develop recommendations for improving retention for customers who use those payment methods.\n",
    ">- To investigate whether there is a relationship between the customers that have tech support and their likelihood of churning, and to develop strategies for retaining customers who are at high risk of churning based on their tech support service."
   ]
  },
  {
   "cell_type": "markdown",
   "id": "9e0c853e-2764-4da4-ab11-f96b37a90e6d",
   "metadata": {},
   "source": [
    "## Imports"
   ]
  },
  {
   "cell_type": "code",
   "execution_count": 1,
   "id": "6ddf971c-fc82-43e4-bd33-c1ded8373973",
   "metadata": {},
   "outputs": [],
   "source": [
    "# Standard imports\n",
    "import pandas as pd\n",
    "import numpy as np\n",
    "\n",
    "# Graph imports\n",
    "import matplotlib.pyplot as plt\n",
    "import seaborn as sns\n",
    "\n",
    "\n",
    "# SKLearn imports\n",
    "from sklearn.model_selection import train_test_split\n",
    "import sklearn.preprocessing\n",
    "from sklearn.tree import DecisionTreeClassifier\n",
    "from sklearn.ensemble import RandomForestClassifier\n",
    "from sklearn.neighbors import KNeighborsClassifier\n",
    "from sklearn.linear_model import LogisticRegression\n",
    "\n",
    "#import this for the decision tree!\n",
    "from sklearn.tree import DecisionTreeClassifier\n",
    "from sklearn.metrics import classification_report, confusion_matrix, plot_confusion_matrix\n",
    "from sklearn.tree import plot_tree\n",
    "\n",
    "# Import to ignore warnings\n",
    "import warnings\n",
    "warnings.filterwarnings(\"ignore\")\n",
    "\n",
    "# Stats import\n",
    "import scipy.stats as stats\n",
    "from scipy.stats import chi2_contingency\n",
    "\n",
    "# My imports\n",
    "import wrangle as w\n",
    "import prepare as p\n",
    "import acquire as a\n",
    "import model as m\n",
    "import explore as e"
   ]
  },
  {
   "cell_type": "markdown",
   "id": "1624e7c7-02df-4a38-ae60-1c1296b60a12",
   "metadata": {
    "jp-MarkdownHeadingCollapsed": true,
    "tags": []
   },
   "source": [
    "### Acquire"
   ]
  },
  {
   "cell_type": "markdown",
   "id": "8386b4cf-ac5d-4bdb-916b-96d079067f38",
   "metadata": {},
   "source": [
    ">- Got the data from a telco company's database in MySQL.\n",
    ">- The dataset has information on 7,043 customers and 24 different features, including personal information and details about the services they're using.\n",
    ">- The data types include floats, integers, and objects.\n",
    ">- Each row in the dataset represents a single customer.\n",
    ">- Each column in the dataset represents a specific feature of the customer or their services."
   ]
  },
  {
   "cell_type": "markdown",
   "id": "7fe2fb9a-29ec-4f3b-8a34-e3f43bd5f5b3",
   "metadata": {},
   "source": [
    "### Prepare"
   ]
  },
  {
   "cell_type": "markdown",
   "id": "76dee32d-9bd1-4809-9ce2-487590ca2f2a",
   "metadata": {},
   "source": [
    ">- Prepared the data by applying a series of transformations using a custom functions defined in the prepare file. The function removed unnecessary columns, added new columns as needed, and renamed some of the columns for clarity.\n",
    "\n",
    ">- Also performed some data cleaning steps to ensure the quality of the dataset. Specifically, checked for missing values and duplicates, but found none.\n",
    "\n",
    ">- To make the dataset more consistent, I standardized the column names by replacing spaces with underscores and converting all text to lowercase.\n",
    "\n",
    ">- Replaced nulls with zeros. "
   ]
  },
  {
   "cell_type": "code",
   "execution_count": 2,
   "id": "1b240d95-d35c-43a2-a968-8fbb602472d7",
   "metadata": {},
   "outputs": [
    {
     "name": "stdout",
     "output_type": "stream",
     "text": [
      "csv file found and loaded\n"
     ]
    },
    {
     "data": {
      "text/html": [
       "<style type=\"text/css\">\n",
       "#T_b9069 th {\n",
       "  text-align: left;\n",
       "}\n",
       "#T_b9069_row0_col0, #T_b9069_row0_col1, #T_b9069_row1_col0, #T_b9069_row1_col1, #T_b9069_row2_col0, #T_b9069_row2_col1, #T_b9069_row3_col0, #T_b9069_row3_col1, #T_b9069_row4_col0, #T_b9069_row4_col1, #T_b9069_row5_col0, #T_b9069_row5_col1, #T_b9069_row6_col0, #T_b9069_row6_col1, #T_b9069_row7_col0, #T_b9069_row7_col1, #T_b9069_row8_col0, #T_b9069_row8_col1, #T_b9069_row9_col0, #T_b9069_row9_col1, #T_b9069_row10_col0, #T_b9069_row10_col1, #T_b9069_row11_col0, #T_b9069_row11_col1, #T_b9069_row12_col0, #T_b9069_row12_col1, #T_b9069_row13_col0, #T_b9069_row13_col1, #T_b9069_row14_col0, #T_b9069_row14_col1, #T_b9069_row15_col0, #T_b9069_row15_col1, #T_b9069_row16_col0, #T_b9069_row16_col1, #T_b9069_row17_col0, #T_b9069_row17_col1, #T_b9069_row18_col0, #T_b9069_row18_col1, #T_b9069_row19_col0, #T_b9069_row19_col1, #T_b9069_row20_col0, #T_b9069_row20_col1, #T_b9069_row21_col0, #T_b9069_row21_col1, #T_b9069_row22_col0, #T_b9069_row22_col1, #T_b9069_row23_col0, #T_b9069_row23_col1 {\n",
       "  text-align: left;\n",
       "}\n",
       "</style>\n",
       "<table id=\"T_b9069\">\n",
       "  <thead>\n",
       "    <tr>\n",
       "      <th id=\"T_b9069_level0_col0\" class=\"col_heading level0 col0\" >features</th>\n",
       "      <th id=\"T_b9069_level0_col1\" class=\"col_heading level0 col1\" >definition</th>\n",
       "    </tr>\n",
       "  </thead>\n",
       "  <tbody>\n",
       "    <tr>\n",
       "      <td id=\"T_b9069_row0_col0\" class=\"data row0 col0\" >payment_type_id</td>\n",
       "      <td id=\"T_b9069_row0_col1\" class=\"data row0 col1\" >Payment type ID</td>\n",
       "    </tr>\n",
       "    <tr>\n",
       "      <td id=\"T_b9069_row1_col0\" class=\"data row1 col0\" >internet_service_type_id</td>\n",
       "      <td id=\"T_b9069_row1_col1\" class=\"data row1 col1\" >Internet service type ID</td>\n",
       "    </tr>\n",
       "    <tr>\n",
       "      <td id=\"T_b9069_row2_col0\" class=\"data row2 col0\" >contract_type_id</td>\n",
       "      <td id=\"T_b9069_row2_col1\" class=\"data row2 col1\" >Contract type ID</td>\n",
       "    </tr>\n",
       "    <tr>\n",
       "      <td id=\"T_b9069_row3_col0\" class=\"data row3 col0\" >customer_id</td>\n",
       "      <td id=\"T_b9069_row3_col1\" class=\"data row3 col1\" >Customer ID</td>\n",
       "    </tr>\n",
       "    <tr>\n",
       "      <td id=\"T_b9069_row4_col0\" class=\"data row4 col0\" >gender</td>\n",
       "      <td id=\"T_b9069_row4_col1\" class=\"data row4 col1\" >Whether the customer is a male or a female</td>\n",
       "    </tr>\n",
       "    <tr>\n",
       "      <td id=\"T_b9069_row5_col0\" class=\"data row5 col0\" >senior_citizen</td>\n",
       "      <td id=\"T_b9069_row5_col1\" class=\"data row5 col1\" >Whether the customer is a senior citizen or not</td>\n",
       "    </tr>\n",
       "    <tr>\n",
       "      <td id=\"T_b9069_row6_col0\" class=\"data row6 col0\" >partner</td>\n",
       "      <td id=\"T_b9069_row6_col1\" class=\"data row6 col1\" >Whether the customer has a partner or not</td>\n",
       "    </tr>\n",
       "    <tr>\n",
       "      <td id=\"T_b9069_row7_col0\" class=\"data row7 col0\" >dependents</td>\n",
       "      <td id=\"T_b9069_row7_col1\" class=\"data row7 col1\" >Whether the customer has dependents or not</td>\n",
       "    </tr>\n",
       "    <tr>\n",
       "      <td id=\"T_b9069_row8_col0\" class=\"data row8 col0\" >tenure</td>\n",
       "      <td id=\"T_b9069_row8_col1\" class=\"data row8 col1\" >Number of months the customer has stayed with the company</td>\n",
       "    </tr>\n",
       "    <tr>\n",
       "      <td id=\"T_b9069_row9_col0\" class=\"data row9 col0\" >phone_service</td>\n",
       "      <td id=\"T_b9069_row9_col1\" class=\"data row9 col1\" >Whether the customer has a phone service or not</td>\n",
       "    </tr>\n",
       "    <tr>\n",
       "      <td id=\"T_b9069_row10_col0\" class=\"data row10 col0\" >multiple_lines</td>\n",
       "      <td id=\"T_b9069_row10_col1\" class=\"data row10 col1\" >Whether the customer has multiple lines or not</td>\n",
       "    </tr>\n",
       "    <tr>\n",
       "      <td id=\"T_b9069_row11_col0\" class=\"data row11 col0\" >online_security</td>\n",
       "      <td id=\"T_b9069_row11_col1\" class=\"data row11 col1\" >Whether the customer has online security or not</td>\n",
       "    </tr>\n",
       "    <tr>\n",
       "      <td id=\"T_b9069_row12_col0\" class=\"data row12 col0\" >online_backup</td>\n",
       "      <td id=\"T_b9069_row12_col1\" class=\"data row12 col1\" >Whether the customer has online backup or not</td>\n",
       "    </tr>\n",
       "    <tr>\n",
       "      <td id=\"T_b9069_row13_col0\" class=\"data row13 col0\" >device_protection</td>\n",
       "      <td id=\"T_b9069_row13_col1\" class=\"data row13 col1\" >Whether the customer has device protection or not</td>\n",
       "    </tr>\n",
       "    <tr>\n",
       "      <td id=\"T_b9069_row14_col0\" class=\"data row14 col0\" >tech_support</td>\n",
       "      <td id=\"T_b9069_row14_col1\" class=\"data row14 col1\" >Whether the customer has tech support or not</td>\n",
       "    </tr>\n",
       "    <tr>\n",
       "      <td id=\"T_b9069_row15_col0\" class=\"data row15 col0\" >streaming_tv</td>\n",
       "      <td id=\"T_b9069_row15_col1\" class=\"data row15 col1\" >Whether the customer has streaming TV or not</td>\n",
       "    </tr>\n",
       "    <tr>\n",
       "      <td id=\"T_b9069_row16_col0\" class=\"data row16 col0\" >streaming_movies</td>\n",
       "      <td id=\"T_b9069_row16_col1\" class=\"data row16 col1\" >Whether the customer has streaming movies or not</td>\n",
       "    </tr>\n",
       "    <tr>\n",
       "      <td id=\"T_b9069_row17_col0\" class=\"data row17 col0\" >paperless_billing</td>\n",
       "      <td id=\"T_b9069_row17_col1\" class=\"data row17 col1\" >Whether the customer has paperless billing or not</td>\n",
       "    </tr>\n",
       "    <tr>\n",
       "      <td id=\"T_b9069_row18_col0\" class=\"data row18 col0\" >monthly_charges</td>\n",
       "      <td id=\"T_b9069_row18_col1\" class=\"data row18 col1\" >The amount charged to the customer monthly</td>\n",
       "    </tr>\n",
       "    <tr>\n",
       "      <td id=\"T_b9069_row19_col0\" class=\"data row19 col0\" >total_charges</td>\n",
       "      <td id=\"T_b9069_row19_col1\" class=\"data row19 col1\" >The total amount charged to the customer</td>\n",
       "    </tr>\n",
       "    <tr>\n",
       "      <td id=\"T_b9069_row20_col0\" class=\"data row20 col0\" >churn</td>\n",
       "      <td id=\"T_b9069_row20_col1\" class=\"data row20 col1\" >Whether the customer churned or not</td>\n",
       "    </tr>\n",
       "    <tr>\n",
       "      <td id=\"T_b9069_row21_col0\" class=\"data row21 col0\" >contract_type</td>\n",
       "      <td id=\"T_b9069_row21_col1\" class=\"data row21 col1\" >The contract term of the customer (Month-to-month, One year, Two year)</td>\n",
       "    </tr>\n",
       "    <tr>\n",
       "      <td id=\"T_b9069_row22_col0\" class=\"data row22 col0\" >internet_service_type</td>\n",
       "      <td id=\"T_b9069_row22_col1\" class=\"data row22 col1\" >Customer’s internet service provider (DSL, Fiber optic, No)</td>\n",
       "    </tr>\n",
       "    <tr>\n",
       "      <td id=\"T_b9069_row23_col0\" class=\"data row23 col0\" >payment_type</td>\n",
       "      <td id=\"T_b9069_row23_col1\" class=\"data row23 col1\" >The customer’s payment method (Electronic check, Mailed check, Bank transfer (automatic), Credit card (automatic))</td>\n",
       "    </tr>\n",
       "  </tbody>\n",
       "</table>\n"
      ],
      "text/plain": [
       "<pandas.io.formats.style.Styler at 0x10da820d0>"
      ]
     },
     "metadata": {},
     "output_type": "display_data"
    }
   ],
   "source": [
    "# Get your telco data\n",
    "telco_df = a.get_telco_data()\n",
    "\n",
    "# acquire the data dictionary\n",
    "data_dictionary = w.data_dictionary(telco_df)"
   ]
  },
  {
   "cell_type": "code",
   "execution_count": 3,
   "id": "5e1ee2e8-2b61-48ac-b40a-05d0c456c8ea",
   "metadata": {},
   "outputs": [],
   "source": [
    "# Clean the new dataset using the new function called prep_telco\n",
    "telco_df = p.prep_telco(telco_df)\n",
    "\n",
    "# Split your data into train, validate and test\n",
    "train, validate, test = p.split_function(telco_df, 'churn')"
   ]
  },
  {
   "cell_type": "markdown",
   "id": "ee1d255a-4f0f-4d4d-a72e-8869f81bcdda",
   "metadata": {},
   "source": [
    "### Take a look at the data"
   ]
  },
  {
   "cell_type": "code",
   "execution_count": 4,
   "id": "10c37af6-3b13-4284-9e23-fea0c64303f3",
   "metadata": {},
   "outputs": [
    {
     "data": {
      "text/html": [
       "<div>\n",
       "<style scoped>\n",
       "    .dataframe tbody tr th:only-of-type {\n",
       "        vertical-align: middle;\n",
       "    }\n",
       "\n",
       "    .dataframe tbody tr th {\n",
       "        vertical-align: top;\n",
       "    }\n",
       "\n",
       "    .dataframe thead th {\n",
       "        text-align: right;\n",
       "    }\n",
       "</style>\n",
       "<table border=\"1\" class=\"dataframe\">\n",
       "  <thead>\n",
       "    <tr style=\"text-align: right;\">\n",
       "      <th></th>\n",
       "      <th>customer_id</th>\n",
       "      <th>senior_citizen</th>\n",
       "      <th>tenure</th>\n",
       "      <th>monthly_charges</th>\n",
       "      <th>total_charges</th>\n",
       "      <th>payment_type</th>\n",
       "      <th>gender_male</th>\n",
       "      <th>partner_yes</th>\n",
       "      <th>dependents_yes</th>\n",
       "      <th>phone_service_yes</th>\n",
       "      <th>...</th>\n",
       "      <th>streaming_movies_yes</th>\n",
       "      <th>paperless_billing_yes</th>\n",
       "      <th>churn</th>\n",
       "      <th>contract_type_one_year</th>\n",
       "      <th>contract_type_two_year</th>\n",
       "      <th>internet_service_type_fiber_optic</th>\n",
       "      <th>internet_service_type_none</th>\n",
       "      <th>payment_type_credit_card_(automatic)</th>\n",
       "      <th>payment_type_electronic_check</th>\n",
       "      <th>payment_type_mailed_check</th>\n",
       "    </tr>\n",
       "  </thead>\n",
       "  <tbody>\n",
       "    <tr>\n",
       "      <th>5310</th>\n",
       "      <td>7503-MIOGA</td>\n",
       "      <td>1</td>\n",
       "      <td>72</td>\n",
       "      <td>89.85</td>\n",
       "      <td>6697.35</td>\n",
       "      <td>Bank transfer (automatic)</td>\n",
       "      <td>0</td>\n",
       "      <td>1</td>\n",
       "      <td>0</td>\n",
       "      <td>1</td>\n",
       "      <td>...</td>\n",
       "      <td>1</td>\n",
       "      <td>1</td>\n",
       "      <td>0</td>\n",
       "      <td>0</td>\n",
       "      <td>1</td>\n",
       "      <td>0</td>\n",
       "      <td>0</td>\n",
       "      <td>0</td>\n",
       "      <td>0</td>\n",
       "      <td>0</td>\n",
       "    </tr>\n",
       "    <tr>\n",
       "      <th>3790</th>\n",
       "      <td>5329-KRDTM</td>\n",
       "      <td>1</td>\n",
       "      <td>72</td>\n",
       "      <td>77.35</td>\n",
       "      <td>5396.25</td>\n",
       "      <td>Credit card (automatic)</td>\n",
       "      <td>1</td>\n",
       "      <td>1</td>\n",
       "      <td>0</td>\n",
       "      <td>1</td>\n",
       "      <td>...</td>\n",
       "      <td>0</td>\n",
       "      <td>0</td>\n",
       "      <td>0</td>\n",
       "      <td>0</td>\n",
       "      <td>1</td>\n",
       "      <td>0</td>\n",
       "      <td>0</td>\n",
       "      <td>1</td>\n",
       "      <td>0</td>\n",
       "      <td>0</td>\n",
       "    </tr>\n",
       "    <tr>\n",
       "      <th>4398</th>\n",
       "      <td>6199-IWKGC</td>\n",
       "      <td>1</td>\n",
       "      <td>46</td>\n",
       "      <td>100.25</td>\n",
       "      <td>4753.85</td>\n",
       "      <td>Electronic check</td>\n",
       "      <td>0</td>\n",
       "      <td>1</td>\n",
       "      <td>0</td>\n",
       "      <td>1</td>\n",
       "      <td>...</td>\n",
       "      <td>1</td>\n",
       "      <td>0</td>\n",
       "      <td>0</td>\n",
       "      <td>1</td>\n",
       "      <td>0</td>\n",
       "      <td>1</td>\n",
       "      <td>0</td>\n",
       "      <td>0</td>\n",
       "      <td>1</td>\n",
       "      <td>0</td>\n",
       "    </tr>\n",
       "    <tr>\n",
       "      <th>2635</th>\n",
       "      <td>3748-FVMZZ</td>\n",
       "      <td>0</td>\n",
       "      <td>4</td>\n",
       "      <td>40.05</td>\n",
       "      <td>162.45</td>\n",
       "      <td>Electronic check</td>\n",
       "      <td>1</td>\n",
       "      <td>0</td>\n",
       "      <td>0</td>\n",
       "      <td>0</td>\n",
       "      <td>...</td>\n",
       "      <td>1</td>\n",
       "      <td>1</td>\n",
       "      <td>0</td>\n",
       "      <td>0</td>\n",
       "      <td>0</td>\n",
       "      <td>0</td>\n",
       "      <td>0</td>\n",
       "      <td>0</td>\n",
       "      <td>1</td>\n",
       "      <td>0</td>\n",
       "    </tr>\n",
       "    <tr>\n",
       "      <th>2986</th>\n",
       "      <td>4280-DLSHD</td>\n",
       "      <td>0</td>\n",
       "      <td>8</td>\n",
       "      <td>54.75</td>\n",
       "      <td>445.85</td>\n",
       "      <td>Mailed check</td>\n",
       "      <td>1</td>\n",
       "      <td>1</td>\n",
       "      <td>0</td>\n",
       "      <td>1</td>\n",
       "      <td>...</td>\n",
       "      <td>0</td>\n",
       "      <td>1</td>\n",
       "      <td>0</td>\n",
       "      <td>0</td>\n",
       "      <td>0</td>\n",
       "      <td>0</td>\n",
       "      <td>0</td>\n",
       "      <td>0</td>\n",
       "      <td>0</td>\n",
       "      <td>1</td>\n",
       "    </tr>\n",
       "  </tbody>\n",
       "</table>\n",
       "<p>5 rows × 33 columns</p>\n",
       "</div>"
      ],
      "text/plain": [
       "     customer_id  senior_citizen  tenure  monthly_charges  total_charges  \\\n",
       "5310  7503-MIOGA               1      72            89.85        6697.35   \n",
       "3790  5329-KRDTM               1      72            77.35        5396.25   \n",
       "4398  6199-IWKGC               1      46           100.25        4753.85   \n",
       "2635  3748-FVMZZ               0       4            40.05         162.45   \n",
       "2986  4280-DLSHD               0       8            54.75         445.85   \n",
       "\n",
       "                   payment_type  gender_male  partner_yes  dependents_yes  \\\n",
       "5310  Bank transfer (automatic)            0            1               0   \n",
       "3790    Credit card (automatic)            1            1               0   \n",
       "4398           Electronic check            0            1               0   \n",
       "2635           Electronic check            1            0               0   \n",
       "2986               Mailed check            1            1               0   \n",
       "\n",
       "      phone_service_yes  ...  streaming_movies_yes  paperless_billing_yes  \\\n",
       "5310                  1  ...                     1                      1   \n",
       "3790                  1  ...                     0                      0   \n",
       "4398                  1  ...                     1                      0   \n",
       "2635                  0  ...                     1                      1   \n",
       "2986                  1  ...                     0                      1   \n",
       "\n",
       "      churn  contract_type_one_year  contract_type_two_year  \\\n",
       "5310      0                       0                       1   \n",
       "3790      0                       0                       1   \n",
       "4398      0                       1                       0   \n",
       "2635      0                       0                       0   \n",
       "2986      0                       0                       0   \n",
       "\n",
       "      internet_service_type_fiber_optic  internet_service_type_none  \\\n",
       "5310                                  0                           0   \n",
       "3790                                  0                           0   \n",
       "4398                                  1                           0   \n",
       "2635                                  0                           0   \n",
       "2986                                  0                           0   \n",
       "\n",
       "      payment_type_credit_card_(automatic)  payment_type_electronic_check  \\\n",
       "5310                                     0                              0   \n",
       "3790                                     1                              0   \n",
       "4398                                     0                              1   \n",
       "2635                                     0                              1   \n",
       "2986                                     0                              0   \n",
       "\n",
       "      payment_type_mailed_check  \n",
       "5310                          0  \n",
       "3790                          0  \n",
       "4398                          0  \n",
       "2635                          0  \n",
       "2986                          1  \n",
       "\n",
       "[5 rows x 33 columns]"
      ]
     },
     "execution_count": 4,
     "metadata": {},
     "output_type": "execute_result"
    }
   ],
   "source": [
    "# Pull only the five first rows of the data\n",
    "train.head()"
   ]
  },
  {
   "cell_type": "markdown",
   "id": "09c5ef4a-be01-4407-a7fc-68163b254b2f",
   "metadata": {},
   "source": [
    "### Description of the Data"
   ]
  },
  {
   "cell_type": "code",
   "execution_count": 5,
   "id": "3d3e915c-e58a-44c2-b7cb-381e38300357",
   "metadata": {},
   "outputs": [
    {
     "data": {
      "text/html": [
       "<div>\n",
       "<style scoped>\n",
       "    .dataframe tbody tr th:only-of-type {\n",
       "        vertical-align: middle;\n",
       "    }\n",
       "\n",
       "    .dataframe tbody tr th {\n",
       "        vertical-align: top;\n",
       "    }\n",
       "\n",
       "    .dataframe thead th {\n",
       "        text-align: right;\n",
       "    }\n",
       "</style>\n",
       "<table border=\"1\" class=\"dataframe\">\n",
       "  <thead>\n",
       "    <tr style=\"text-align: right;\">\n",
       "      <th></th>\n",
       "      <th>senior_citizen</th>\n",
       "      <th>tenure</th>\n",
       "      <th>monthly_charges</th>\n",
       "      <th>total_charges</th>\n",
       "      <th>gender_male</th>\n",
       "      <th>partner_yes</th>\n",
       "      <th>dependents_yes</th>\n",
       "      <th>phone_service_yes</th>\n",
       "      <th>multiple_lines_no_phone_service</th>\n",
       "      <th>multiple_lines_yes</th>\n",
       "      <th>...</th>\n",
       "      <th>streaming_movies_yes</th>\n",
       "      <th>paperless_billing_yes</th>\n",
       "      <th>churn</th>\n",
       "      <th>contract_type_one_year</th>\n",
       "      <th>contract_type_two_year</th>\n",
       "      <th>internet_service_type_fiber_optic</th>\n",
       "      <th>internet_service_type_none</th>\n",
       "      <th>payment_type_credit_card_(automatic)</th>\n",
       "      <th>payment_type_electronic_check</th>\n",
       "      <th>payment_type_mailed_check</th>\n",
       "    </tr>\n",
       "  </thead>\n",
       "  <tbody>\n",
       "    <tr>\n",
       "      <th>count</th>\n",
       "      <td>3943.000000</td>\n",
       "      <td>3943.000000</td>\n",
       "      <td>3943.000000</td>\n",
       "      <td>3943.000000</td>\n",
       "      <td>3943.000000</td>\n",
       "      <td>3943.000000</td>\n",
       "      <td>3943.000000</td>\n",
       "      <td>3943.000000</td>\n",
       "      <td>3943.000000</td>\n",
       "      <td>3943.000000</td>\n",
       "      <td>...</td>\n",
       "      <td>3943.000000</td>\n",
       "      <td>3943.000000</td>\n",
       "      <td>3943.000000</td>\n",
       "      <td>3943.000000</td>\n",
       "      <td>3943.000000</td>\n",
       "      <td>3943.000000</td>\n",
       "      <td>3943.000000</td>\n",
       "      <td>3943.000000</td>\n",
       "      <td>3943.000000</td>\n",
       "      <td>3943.000000</td>\n",
       "    </tr>\n",
       "    <tr>\n",
       "      <th>mean</th>\n",
       "      <td>0.162820</td>\n",
       "      <td>32.473244</td>\n",
       "      <td>65.328937</td>\n",
       "      <td>2310.297451</td>\n",
       "      <td>0.509003</td>\n",
       "      <td>0.486685</td>\n",
       "      <td>0.307634</td>\n",
       "      <td>0.907431</td>\n",
       "      <td>0.092569</td>\n",
       "      <td>0.430383</td>\n",
       "      <td>...</td>\n",
       "      <td>0.396906</td>\n",
       "      <td>0.594725</td>\n",
       "      <td>0.265280</td>\n",
       "      <td>0.215318</td>\n",
       "      <td>0.234339</td>\n",
       "      <td>0.442556</td>\n",
       "      <td>0.215318</td>\n",
       "      <td>0.219376</td>\n",
       "      <td>0.336799</td>\n",
       "      <td>0.222419</td>\n",
       "    </tr>\n",
       "    <tr>\n",
       "      <th>std</th>\n",
       "      <td>0.369248</td>\n",
       "      <td>24.551176</td>\n",
       "      <td>30.261023</td>\n",
       "      <td>2282.121687</td>\n",
       "      <td>0.499982</td>\n",
       "      <td>0.499886</td>\n",
       "      <td>0.461573</td>\n",
       "      <td>0.289864</td>\n",
       "      <td>0.289864</td>\n",
       "      <td>0.495193</td>\n",
       "      <td>...</td>\n",
       "      <td>0.489318</td>\n",
       "      <td>0.491007</td>\n",
       "      <td>0.441538</td>\n",
       "      <td>0.411095</td>\n",
       "      <td>0.423639</td>\n",
       "      <td>0.496752</td>\n",
       "      <td>0.411095</td>\n",
       "      <td>0.413876</td>\n",
       "      <td>0.472676</td>\n",
       "      <td>0.415924</td>\n",
       "    </tr>\n",
       "    <tr>\n",
       "      <th>min</th>\n",
       "      <td>0.000000</td>\n",
       "      <td>0.000000</td>\n",
       "      <td>18.250000</td>\n",
       "      <td>0.000000</td>\n",
       "      <td>0.000000</td>\n",
       "      <td>0.000000</td>\n",
       "      <td>0.000000</td>\n",
       "      <td>0.000000</td>\n",
       "      <td>0.000000</td>\n",
       "      <td>0.000000</td>\n",
       "      <td>...</td>\n",
       "      <td>0.000000</td>\n",
       "      <td>0.000000</td>\n",
       "      <td>0.000000</td>\n",
       "      <td>0.000000</td>\n",
       "      <td>0.000000</td>\n",
       "      <td>0.000000</td>\n",
       "      <td>0.000000</td>\n",
       "      <td>0.000000</td>\n",
       "      <td>0.000000</td>\n",
       "      <td>0.000000</td>\n",
       "    </tr>\n",
       "    <tr>\n",
       "      <th>25%</th>\n",
       "      <td>0.000000</td>\n",
       "      <td>9.000000</td>\n",
       "      <td>35.900000</td>\n",
       "      <td>413.125000</td>\n",
       "      <td>0.000000</td>\n",
       "      <td>0.000000</td>\n",
       "      <td>0.000000</td>\n",
       "      <td>1.000000</td>\n",
       "      <td>0.000000</td>\n",
       "      <td>0.000000</td>\n",
       "      <td>...</td>\n",
       "      <td>0.000000</td>\n",
       "      <td>0.000000</td>\n",
       "      <td>0.000000</td>\n",
       "      <td>0.000000</td>\n",
       "      <td>0.000000</td>\n",
       "      <td>0.000000</td>\n",
       "      <td>0.000000</td>\n",
       "      <td>0.000000</td>\n",
       "      <td>0.000000</td>\n",
       "      <td>0.000000</td>\n",
       "    </tr>\n",
       "    <tr>\n",
       "      <th>50%</th>\n",
       "      <td>0.000000</td>\n",
       "      <td>29.000000</td>\n",
       "      <td>70.550000</td>\n",
       "      <td>1404.650000</td>\n",
       "      <td>1.000000</td>\n",
       "      <td>0.000000</td>\n",
       "      <td>0.000000</td>\n",
       "      <td>1.000000</td>\n",
       "      <td>0.000000</td>\n",
       "      <td>0.000000</td>\n",
       "      <td>...</td>\n",
       "      <td>0.000000</td>\n",
       "      <td>1.000000</td>\n",
       "      <td>0.000000</td>\n",
       "      <td>0.000000</td>\n",
       "      <td>0.000000</td>\n",
       "      <td>0.000000</td>\n",
       "      <td>0.000000</td>\n",
       "      <td>0.000000</td>\n",
       "      <td>0.000000</td>\n",
       "      <td>0.000000</td>\n",
       "    </tr>\n",
       "    <tr>\n",
       "      <th>75%</th>\n",
       "      <td>0.000000</td>\n",
       "      <td>55.000000</td>\n",
       "      <td>90.250000</td>\n",
       "      <td>3910.000000</td>\n",
       "      <td>1.000000</td>\n",
       "      <td>1.000000</td>\n",
       "      <td>1.000000</td>\n",
       "      <td>1.000000</td>\n",
       "      <td>0.000000</td>\n",
       "      <td>1.000000</td>\n",
       "      <td>...</td>\n",
       "      <td>1.000000</td>\n",
       "      <td>1.000000</td>\n",
       "      <td>1.000000</td>\n",
       "      <td>0.000000</td>\n",
       "      <td>0.000000</td>\n",
       "      <td>1.000000</td>\n",
       "      <td>0.000000</td>\n",
       "      <td>0.000000</td>\n",
       "      <td>1.000000</td>\n",
       "      <td>0.000000</td>\n",
       "    </tr>\n",
       "    <tr>\n",
       "      <th>max</th>\n",
       "      <td>1.000000</td>\n",
       "      <td>72.000000</td>\n",
       "      <td>118.750000</td>\n",
       "      <td>8672.450000</td>\n",
       "      <td>1.000000</td>\n",
       "      <td>1.000000</td>\n",
       "      <td>1.000000</td>\n",
       "      <td>1.000000</td>\n",
       "      <td>1.000000</td>\n",
       "      <td>1.000000</td>\n",
       "      <td>...</td>\n",
       "      <td>1.000000</td>\n",
       "      <td>1.000000</td>\n",
       "      <td>1.000000</td>\n",
       "      <td>1.000000</td>\n",
       "      <td>1.000000</td>\n",
       "      <td>1.000000</td>\n",
       "      <td>1.000000</td>\n",
       "      <td>1.000000</td>\n",
       "      <td>1.000000</td>\n",
       "      <td>1.000000</td>\n",
       "    </tr>\n",
       "  </tbody>\n",
       "</table>\n",
       "<p>8 rows × 31 columns</p>\n",
       "</div>"
      ],
      "text/plain": [
       "       senior_citizen       tenure  monthly_charges  total_charges  \\\n",
       "count     3943.000000  3943.000000      3943.000000    3943.000000   \n",
       "mean         0.162820    32.473244        65.328937    2310.297451   \n",
       "std          0.369248    24.551176        30.261023    2282.121687   \n",
       "min          0.000000     0.000000        18.250000       0.000000   \n",
       "25%          0.000000     9.000000        35.900000     413.125000   \n",
       "50%          0.000000    29.000000        70.550000    1404.650000   \n",
       "75%          0.000000    55.000000        90.250000    3910.000000   \n",
       "max          1.000000    72.000000       118.750000    8672.450000   \n",
       "\n",
       "       gender_male  partner_yes  dependents_yes  phone_service_yes  \\\n",
       "count  3943.000000  3943.000000     3943.000000        3943.000000   \n",
       "mean      0.509003     0.486685        0.307634           0.907431   \n",
       "std       0.499982     0.499886        0.461573           0.289864   \n",
       "min       0.000000     0.000000        0.000000           0.000000   \n",
       "25%       0.000000     0.000000        0.000000           1.000000   \n",
       "50%       1.000000     0.000000        0.000000           1.000000   \n",
       "75%       1.000000     1.000000        1.000000           1.000000   \n",
       "max       1.000000     1.000000        1.000000           1.000000   \n",
       "\n",
       "       multiple_lines_no_phone_service  multiple_lines_yes  ...  \\\n",
       "count                      3943.000000         3943.000000  ...   \n",
       "mean                          0.092569            0.430383  ...   \n",
       "std                           0.289864            0.495193  ...   \n",
       "min                           0.000000            0.000000  ...   \n",
       "25%                           0.000000            0.000000  ...   \n",
       "50%                           0.000000            0.000000  ...   \n",
       "75%                           0.000000            1.000000  ...   \n",
       "max                           1.000000            1.000000  ...   \n",
       "\n",
       "       streaming_movies_yes  paperless_billing_yes        churn  \\\n",
       "count           3943.000000            3943.000000  3943.000000   \n",
       "mean               0.396906               0.594725     0.265280   \n",
       "std                0.489318               0.491007     0.441538   \n",
       "min                0.000000               0.000000     0.000000   \n",
       "25%                0.000000               0.000000     0.000000   \n",
       "50%                0.000000               1.000000     0.000000   \n",
       "75%                1.000000               1.000000     1.000000   \n",
       "max                1.000000               1.000000     1.000000   \n",
       "\n",
       "       contract_type_one_year  contract_type_two_year  \\\n",
       "count             3943.000000             3943.000000   \n",
       "mean                 0.215318                0.234339   \n",
       "std                  0.411095                0.423639   \n",
       "min                  0.000000                0.000000   \n",
       "25%                  0.000000                0.000000   \n",
       "50%                  0.000000                0.000000   \n",
       "75%                  0.000000                0.000000   \n",
       "max                  1.000000                1.000000   \n",
       "\n",
       "       internet_service_type_fiber_optic  internet_service_type_none  \\\n",
       "count                        3943.000000                 3943.000000   \n",
       "mean                            0.442556                    0.215318   \n",
       "std                             0.496752                    0.411095   \n",
       "min                             0.000000                    0.000000   \n",
       "25%                             0.000000                    0.000000   \n",
       "50%                             0.000000                    0.000000   \n",
       "75%                             1.000000                    0.000000   \n",
       "max                             1.000000                    1.000000   \n",
       "\n",
       "       payment_type_credit_card_(automatic)  payment_type_electronic_check  \\\n",
       "count                           3943.000000                    3943.000000   \n",
       "mean                               0.219376                       0.336799   \n",
       "std                                0.413876                       0.472676   \n",
       "min                                0.000000                       0.000000   \n",
       "25%                                0.000000                       0.000000   \n",
       "50%                                0.000000                       0.000000   \n",
       "75%                                0.000000                       1.000000   \n",
       "max                                1.000000                       1.000000   \n",
       "\n",
       "       payment_type_mailed_check  \n",
       "count                3943.000000  \n",
       "mean                    0.222419  \n",
       "std                     0.415924  \n",
       "min                     0.000000  \n",
       "25%                     0.000000  \n",
       "50%                     0.000000  \n",
       "75%                     0.000000  \n",
       "max                     1.000000  \n",
       "\n",
       "[8 rows x 31 columns]"
      ]
     },
     "execution_count": 5,
     "metadata": {},
     "output_type": "execute_result"
    }
   ],
   "source": [
    "# Describe the train data\n",
    "train.describe()"
   ]
  },
  {
   "cell_type": "markdown",
   "id": "32ae33af-8635-42f1-be0d-ff7fc6564c67",
   "metadata": {},
   "source": [
    "## Explore"
   ]
  },
  {
   "cell_type": "markdown",
   "id": "3a1662e7-ee71-422b-9f48-94df92d9e457",
   "metadata": {},
   "source": [
    "#### 1. Is there a significan difference between gender and churn?"
   ]
  },
  {
   "cell_type": "code",
   "execution_count": 6,
   "id": "de526cad-68e6-4c8e-a3bd-5cb44e810d22",
   "metadata": {},
   "outputs": [
    {
     "data": {
      "image/png": "[encoded data removed]",
      "text/plain": [
       "<Figure size 640x480 with 1 Axes>"
      ]
     },
     "metadata": {},
     "output_type": "display_data"
    }
   ],
   "source": [
    "# the gender vs churn \n",
    "e.get_q_one_countplot2(train)"
   ]
  },
  {
   "cell_type": "markdown",
   "id": "09238f4a-8b8a-447f-adcd-3dcb7d2c571d",
   "metadata": {},
   "source": [
    ">- Females and Males are leaving at the same rate."
   ]
  },
  {
   "cell_type": "code",
   "execution_count": 7,
   "id": "c3d82813-b1fc-4cc2-bcfa-b4d3f61e108c",
   "metadata": {
    "tags": []
   },
   "outputs": [
    {
     "data": {
      "text/html": [
       "<div>\n",
       "<style scoped>\n",
       "    .dataframe tbody tr th:only-of-type {\n",
       "        vertical-align: middle;\n",
       "    }\n",
       "\n",
       "    .dataframe tbody tr th {\n",
       "        vertical-align: top;\n",
       "    }\n",
       "\n",
       "    .dataframe thead th {\n",
       "        text-align: right;\n",
       "    }\n",
       "</style>\n",
       "<table border=\"1\" class=\"dataframe\">\n",
       "  <thead>\n",
       "    <tr style=\"text-align: right;\">\n",
       "      <th></th>\n",
       "      <th>gender_male</th>\n",
       "      <th>senior_citizen</th>\n",
       "      <th>partner_yes</th>\n",
       "      <th>dependents_yes</th>\n",
       "      <th>total_customers</th>\n",
       "      <th>churn_ratio</th>\n",
       "    </tr>\n",
       "  </thead>\n",
       "  <tbody>\n",
       "    <tr>\n",
       "      <th>8</th>\n",
       "      <td>1</td>\n",
       "      <td>0</td>\n",
       "      <td>0</td>\n",
       "      <td>0</td>\n",
       "      <td>131</td>\n",
       "      <td>21.9%</td>\n",
       "    </tr>\n",
       "    <tr>\n",
       "      <th>0</th>\n",
       "      <td>0</td>\n",
       "      <td>0</td>\n",
       "      <td>0</td>\n",
       "      <td>0</td>\n",
       "      <td>123</td>\n",
       "      <td>20.6%</td>\n",
       "    </tr>\n",
       "  </tbody>\n",
       "</table>\n",
       "</div>"
      ],
      "text/plain": [
       "   gender_male  senior_citizen  partner_yes  dependents_yes  total_customers  \\\n",
       "8            1               0            0               0              131   \n",
       "0            0               0            0               0              123   \n",
       "\n",
       "  churn_ratio  \n",
       "8       21.9%  \n",
       "0       20.6%  "
      ]
     },
     "execution_count": 7,
     "metadata": {},
     "output_type": "execute_result"
    }
   ],
   "source": [
    "e.get_q_three_demographic_group(train).head(2)"
   ]
  },
  {
   "cell_type": "markdown",
   "id": "42bc55c5-d9dc-4ce6-80b0-2b1a72e86720",
   "metadata": {},
   "source": [
    ">- Customers (male or female) that are not senior citizens with no partners or dependents have the highest churn rate."
   ]
  },
  {
   "cell_type": "markdown",
   "id": "1d68da99-862a-44b9-9d8b-96723897ff78",
   "metadata": {},
   "source": [
    "#### 2. How does tenure relate to customer churn?"
   ]
  },
  {
   "cell_type": "code",
   "execution_count": 8,
   "id": "cf18e7e1-0bd1-44f9-aa22-67b1ae6fa95b",
   "metadata": {},
   "outputs": [
    {
     "data": {
      "image/png": "[encoded data removed]",
      "text/plain": [
       "<Figure size 640x480 with 1 Axes>"
      ]
     },
     "metadata": {},
     "output_type": "display_data"
    }
   ],
   "source": [
    "# This Box plot shows the relationship between the tenure and customer churn. \n",
    "e.get_q_two(train)"
   ]
  },
  {
   "cell_type": "markdown",
   "id": "de4d50f7-c733-4cd3-8f6f-7bd5a2227224",
   "metadata": {},
   "source": [
    "# T-test"
   ]
  },
  {
   "cell_type": "markdown",
   "id": "37fbda9e-457a-4fe1-8cf0-8e5af0e18a7a",
   "metadata": {},
   "source": [
    "         $H_{0}$ : There is no relationship between customers tenure and churn .\n",
    "\n",
    "         $H_{a}$ : There is a relationship between customers tenure and churn."
   ]
  },
  {
   "cell_type": "code",
   "execution_count": 9,
   "id": "c3cfeb1b-d081-4ba3-a1d8-17506b21cbf0",
   "metadata": {},
   "outputs": [
    {
     "name": "stdout",
     "output_type": "stream",
     "text": [
      "p-value 2.526007622614454e-111\n",
      "We reject the null hypothesis\n",
      ".\n"
     ]
    }
   ],
   "source": [
    "# A t-test is used to evaluate the significant difference in the mean tenure\n",
    "# between customers who churn vs those who don't churn.\n",
    "e.get_q_two_t_test(train)"
   ]
  },
  {
   "cell_type": "markdown",
   "id": "717c51b3-3b0b-4750-bb9f-2a9988294fef",
   "metadata": {},
   "source": [
    ">- Customers with shorter tenure are more likely to churn than those with longer tenure.\n",
    ">- The company should focus on improving customer retention efforts for customers with shorter tenure."
   ]
  },
  {
   "cell_type": "markdown",
   "id": "a06bd864-9248-4c63-984e-96f99d7d63b2",
   "metadata": {},
   "source": [
    "#### 3. Is there a relationship between the payment method and churn?"
   ]
  },
  {
   "cell_type": "code",
   "execution_count": 10,
   "id": "46a9f67a-4e3f-47d7-b1fb-c0f1720a383f",
   "metadata": {},
   "outputs": [
    {
     "data": {
      "image/png": "[encoded data removed]",
      "text/plain": [
       "<Figure size 1000x500 with 1 Axes>"
      ]
     },
     "metadata": {},
     "output_type": "display_data"
    }
   ],
   "source": [
    "e.get_q_three_figure(train)"
   ]
  },
  {
   "cell_type": "code",
   "execution_count": 11,
   "id": "30b17a82-6eee-4996-a311-4eca0eeb2490",
   "metadata": {},
   "outputs": [
    {
     "data": {
      "image/png": "[encoded data removed]",
      "text/plain": [
       "<Figure size 1000x500 with 1 Axes>"
      ]
     },
     "metadata": {},
     "output_type": "display_data"
    }
   ],
   "source": [
    "e.get_q_three_churn_rates(train)"
   ]
  },
  {
   "cell_type": "markdown",
   "id": "926a3ae6-59a9-454f-85cc-5d72ec2b375c",
   "metadata": {},
   "source": [
    ">- Customers who use electronic checks as their payment method are more likely to churn than customers using other payment methods.\n",
    ">- Electronic check payment method has the highest churn rate, while the credit card payment method has the lowest churn rate.\n",
    ">- The electronic check payment method has a churn rate of 44.95%, while the churn rate difference between the other payment methods is 27.79%."
   ]
  },
  {
   "cell_type": "markdown",
   "id": "f2d02384-2973-48ab-bd19-6b4b2f69d9ca",
   "metadata": {},
   "source": [
    "# Chi2 test"
   ]
  },
  {
   "cell_type": "markdown",
   "id": "d25faf7f-2a84-4b07-a2da-4e08e205c651",
   "metadata": {},
   "source": [
    "         $H_{0}$ : There is not a relationship between payment method and churn.\n",
    "\n",
    "         $H_{a}$ : There is a relationship between payment method and churn."
   ]
  },
  {
   "cell_type": "code",
   "execution_count": 12,
   "id": "f435be26-e14d-40d1-aa00-730551dff0af",
   "metadata": {},
   "outputs": [
    {
     "name": "stdout",
     "output_type": "stream",
     "text": [
      "p-value 1.5202665381285794e-76\n",
      "We reject the null hypothesis\n",
      "\n"
     ]
    }
   ],
   "source": [
    "# Get the chi2 result for question 3\n",
    "e.get_q_three_chi2(train)"
   ]
  },
  {
   "cell_type": "markdown",
   "id": "b3ab0a4e-b2f8-4167-acd7-4f603ac3ee4a",
   "metadata": {},
   "source": [
    ">- The chi-squared test confirms that the relationship between the payment method and churn is statistically significant."
   ]
  },
  {
   "cell_type": "markdown",
   "id": "b32b5787-49b8-4dd4-aa51-cafbfacb65e9",
   "metadata": {
    "tags": []
   },
   "source": [
    "#### 4. Do customers with tech support churn less often than those without tech support?"
   ]
  },
  {
   "cell_type": "code",
   "execution_count": 13,
   "id": "594cbf98-63e5-48ff-bbe3-85d9f050723c",
   "metadata": {},
   "outputs": [
    {
     "data": {
      "image/png": "[encoded data removed]",
      "text/plain": [
       "<Figure size 640x480 with 1 Axes>"
      ]
     },
     "metadata": {},
     "output_type": "display_data"
    }
   ],
   "source": [
    "e.get_q_four_countplot(train)"
   ]
  },
  {
   "cell_type": "markdown",
   "id": "b2b6b396-a65c-42c8-8428-46fbe235dbe6",
   "metadata": {},
   "source": [
    "# Chi2 test"
   ]
  },
  {
   "cell_type": "markdown",
   "id": "d4a0985d-9597-4f18-938e-b727d3138c45",
   "metadata": {},
   "source": [
    "     $H_{0}$ : churn is not affected by tech support.\n",
    "\n",
    "     $H_{a}$ : churn is affected by tech support."
   ]
  },
  {
   "cell_type": "code",
   "execution_count": 14,
   "id": "08cea74d-85d6-4248-a700-38105d420f71",
   "metadata": {},
   "outputs": [
    {
     "name": "stdout",
     "output_type": "stream",
     "text": [
      "p-value 4.338232148650809e-21\n",
      "We reject the null hypothesis\n",
      ".\n"
     ]
    }
   ],
   "source": [
    "e.get_q_four_chi2(train)"
   ]
  },
  {
   "cell_type": "markdown",
   "id": "e9a1f203-13fa-4a51-a8b9-0fe24f09ad08",
   "metadata": {},
   "source": [
    ">- Customers with tech support tend to churn less often than those without tech support.\n",
    ">- Having tech support is associated with a lower churn rate."
   ]
  },
  {
   "cell_type": "markdown",
   "id": "1b3bd922-ab07-457f-92de-df0cfb259209",
   "metadata": {},
   "source": [
    "### Exploration Summary\n",
    "During the exploration section, I analyzed the Telco Customer Churn dataset to understand the relationships between customer churn and various features. Here are my key findings:\n",
    "\n",
    ">- The dataset contains 7,043 observations and 23 columns.\n",
    ">- The dataset is has 73% of customers unchurn and 27% of customers churning.\n",
    ">- The features that are strongly associated with churn are: gender_male, tenure, and payment type.\n",
    ">- Customers with shorter tenure are more likely to churn.\n",
    ">- Customers with tech support are less likely to churn than those without.\n",
    "\n",
    "\n",
    "Based on these findings, I have decided to include the following features in my modeling:\n",
    "\n",
    ">- gender_male\n",
    ">- tenure\n",
    ">- payment_type\n",
    ">- has_tech_support"
   ]
  },
  {
   "cell_type": "markdown",
   "id": "c4ffa9e6-9520-4afc-87f2-e9b7d05123ca",
   "metadata": {},
   "source": [
    "## Modeling"
   ]
  },
  {
   "cell_type": "markdown",
   "id": "50ff3971-f627-43b9-b3d3-9af889c0b2f0",
   "metadata": {},
   "source": [
    ">- Decision Tree:\n",
    ">- Random Forest:\n",
    ">- Logistic Regression:"
   ]
  },
  {
   "cell_type": "code",
   "execution_count": 15,
   "id": "646903e5-3605-46ea-b7d4-22b3aa9a054e",
   "metadata": {},
   "outputs": [],
   "source": [
    "# Lets drop columns that are objects and don't add any value to the data. Also, we need to remove the 'churn_Yes' column because is our TARGET.\n",
    "# Also, lets convert train to X_train.\n",
    "X_train, X_validate, X_test, y_train, y_validate, y_test = m.get_Xs_ys(train, validate, test)"
   ]
  },
  {
   "cell_type": "markdown",
   "id": "97187b17-abf4-4ba3-838e-edc53ab45549",
   "metadata": {},
   "source": [
    "#### Decision Tree Model"
   ]
  },
  {
   "cell_type": "code",
   "execution_count": 16,
   "id": "7cf907a9-41f5-4b37-a491-2c277d1ee831",
   "metadata": {},
   "outputs": [
    {
     "name": "stdout",
     "output_type": "stream",
     "text": [
      "Baseline: 0.7347197565305605\n",
      "train data prediction: 0.8244991123510018\n",
      "validation data prediction: 0.7953873447664104\n",
      "unseen data prediction: 0.7785663591199432\n"
     ]
    }
   ],
   "source": [
    "# Dataframe comparancen between several max depths to find the best max depth\n",
    "m.get_dt_score(train, X_train, y_train, X_validate, y_validate, X_test, y_test)"
   ]
  },
  {
   "cell_type": "markdown",
   "id": "0b8cedad-f28d-407c-8a04-f7381435a0a2",
   "metadata": {},
   "source": [
    ">- The model with the max depth of 6 is the ideal one and it performs better than the baseline. "
   ]
  },
  {
   "cell_type": "markdown",
   "id": "661c7fe4-8e4c-47e3-9010-abc178db93bc",
   "metadata": {},
   "source": [
    "#### Random Forest Model Type"
   ]
  },
  {
   "cell_type": "code",
   "execution_count": 17,
   "id": "dfdf7e98-0f10-49b3-875d-d498276a0d39",
   "metadata": {
    "tags": []
   },
   "outputs": [
    {
     "name": "stdout",
     "output_type": "stream",
     "text": [
      "Baseline: 0.7347197565305605\n",
      "train data prediction: 0.7547552624904895\n",
      "validation data prediction: 0.7545830869308102\n"
     ]
    }
   ],
   "source": [
    "m.get_rf_train_val_acc(train, X_train, y_train, X_validate, y_validate)"
   ]
  },
  {
   "cell_type": "markdown",
   "id": "52f234ee-efcb-4683-b464-0e1db13bdae2",
   "metadata": {},
   "source": [
    ">- The model that has a max depth of 2 with min samples leaf 9 is the best model to use."
   ]
  },
  {
   "cell_type": "markdown",
   "id": "b478370c-dca9-47e8-8781-e3ff5b64a9aa",
   "metadata": {},
   "source": [
    "#### Logistic Regression Model Type"
   ]
  },
  {
   "cell_type": "code",
   "execution_count": 18,
   "id": "c19fcf8d-0f21-4004-a0d3-aa2317c73c87",
   "metadata": {},
   "outputs": [
    {
     "name": "stdout",
     "output_type": "stream",
     "text": [
      "Baseline: 0.7347197565305605\n",
      "train data prediction: 0.751965508496069\n",
      "validation data prediction: 0.7616794795978711\n"
     ]
    }
   ],
   "source": [
    "# Baseline accuracy\n",
    "# Logit train and validate data prediction\n",
    "m.get_logit_score(train, X_train, y_train, X_validate, y_validate)"
   ]
  },
  {
   "cell_type": "markdown",
   "id": "ca0f1a8d-5cac-404b-8b43-9019f7161d3b",
   "metadata": {},
   "source": [
    ">- The logistic Regression model performs better than the baseline using the hyperparameter class weight = 'balanced'."
   ]
  },
  {
   "cell_type": "markdown",
   "id": "f88fedfb-61bb-4a91-ba82-f1b6afd34716",
   "metadata": {},
   "source": [
    ">- The Decission Tree Model performs better than the other models."
   ]
  },
  {
   "cell_type": "markdown",
   "id": "76c26e74-340d-4e06-a5aa-cc8627f5d48e",
   "metadata": {},
   "source": [
    "## Conclusion"
   ]
  },
  {
   "cell_type": "markdown",
   "id": "77a14dcd-e16b-4d20-8c0a-dded4911267b",
   "metadata": {},
   "source": [
    "Based on the exploration and modeling performed, it appears that the Decission Tree Classifier was the most effective model for predicting customer churn for the given Telco customer dataset. The accuracy score achieved by the Decission Tree Classifier was 82%, indicating that the model was able to correctly identify a significant portion of the true positives and true negative. \n",
    "\n",
    "During the exploration phase, several features were identified as being the most significant predictors of customer churn. These features included tenure, payment method, and tech support. Customers with shorter tenure lengths, without tech support, and electronic check as their payment method were more likely to churn."
   ]
  },
  {
   "cell_type": "markdown",
   "id": "3f36a06b-858b-4469-b643-2e45b576482e",
   "metadata": {},
   "source": [
    "### Recommendations"
   ]
  },
  {
   "cell_type": "markdown",
   "id": "afe60c47-1c34-41f3-b06d-7c5d0c973f88",
   "metadata": {},
   "source": [
    "Based on the findings, it is recommended that the company focus on retaining customers with shorter tenure lengths and payment methods. Offering incentives such as loyalty rewards or discounts for customers who sign longer contracts or use electronic payment methods could also help reduce churn."
   ]
  },
  {
   "cell_type": "markdown",
   "id": "2b378034-2a17-4c89-ba9d-fcd081c47a45",
   "metadata": {},
   "source": [
    "### Next Steps"
   ]
  },
  {
   "cell_type": "markdown",
   "id": "f6203531-e8e7-495e-bacb-708189382758",
   "metadata": {},
   "source": [
    "Next steps could include further exploration of feature engineering and selection, as well as testing additional models. It may also be useful to gather additional data, such as customer satisfaction ratings or competitor analysis, to gain a more comprehensive understanding of the factors that influence customer churn in this market.\n",
    "\n",
    "The company should also examine the factors that contribute to longer tenure for customers who do not churn in order to replicate those successes for other customers."
   ]
  },
  {
   "cell_type": "markdown",
   "id": "641258d7-09db-49e6-9952-a080a347da59",
   "metadata": {},
   "source": [
    "## Predictions (.csv)"
   ]
  },
  {
   "cell_type": "code",
   "execution_count": 20,
   "id": "4f8ce589-e037-47bc-942a-3e52666a73df",
   "metadata": {},
   "outputs": [
    {
     "data": {
      "text/html": [
       "<div>\n",
       "<style scoped>\n",
       "    .dataframe tbody tr th:only-of-type {\n",
       "        vertical-align: middle;\n",
       "    }\n",
       "\n",
       "    .dataframe tbody tr th {\n",
       "        vertical-align: top;\n",
       "    }\n",
       "\n",
       "    .dataframe thead th {\n",
       "        text-align: right;\n",
       "    }\n",
       "</style>\n",
       "<table border=\"1\" class=\"dataframe\">\n",
       "  <thead>\n",
       "    <tr style=\"text-align: right;\">\n",
       "      <th></th>\n",
       "      <th>customer_id</th>\n",
       "      <th>probability_of_churn</th>\n",
       "      <th>prediction_of_churn</th>\n",
       "    </tr>\n",
       "  </thead>\n",
       "  <tbody>\n",
       "    <tr>\n",
       "      <th>0</th>\n",
       "      <td>4531-AUZNK</td>\n",
       "      <td>0.15</td>\n",
       "      <td>not_churn</td>\n",
       "    </tr>\n",
       "    <tr>\n",
       "      <th>1</th>\n",
       "      <td>2296-DKZFP</td>\n",
       "      <td>0.05</td>\n",
       "      <td>not_churn</td>\n",
       "    </tr>\n",
       "    <tr>\n",
       "      <th>2</th>\n",
       "      <td>9692-TUSXH</td>\n",
       "      <td>0.46</td>\n",
       "      <td>not_churn</td>\n",
       "    </tr>\n",
       "    <tr>\n",
       "      <th>3</th>\n",
       "      <td>5129-JLPIS</td>\n",
       "      <td>0.46</td>\n",
       "      <td>not_churn</td>\n",
       "    </tr>\n",
       "    <tr>\n",
       "      <th>4</th>\n",
       "      <td>1273-MTETI</td>\n",
       "      <td>0.89</td>\n",
       "      <td>churn</td>\n",
       "    </tr>\n",
       "    <tr>\n",
       "      <th>...</th>\n",
       "      <td>...</td>\n",
       "      <td>...</td>\n",
       "      <td>...</td>\n",
       "    </tr>\n",
       "    <tr>\n",
       "      <th>1404</th>\n",
       "      <td>1597-FZREH</td>\n",
       "      <td>0.40</td>\n",
       "      <td>not_churn</td>\n",
       "    </tr>\n",
       "    <tr>\n",
       "      <th>1405</th>\n",
       "      <td>9117-SHLZX</td>\n",
       "      <td>0.68</td>\n",
       "      <td>churn</td>\n",
       "    </tr>\n",
       "    <tr>\n",
       "      <th>1406</th>\n",
       "      <td>8441-SHIPE</td>\n",
       "      <td>0.00</td>\n",
       "      <td>not_churn</td>\n",
       "    </tr>\n",
       "    <tr>\n",
       "      <th>1407</th>\n",
       "      <td>3511-BFTJW</td>\n",
       "      <td>0.02</td>\n",
       "      <td>not_churn</td>\n",
       "    </tr>\n",
       "    <tr>\n",
       "      <th>1408</th>\n",
       "      <td>1428-GTBJJ</td>\n",
       "      <td>0.75</td>\n",
       "      <td>churn</td>\n",
       "    </tr>\n",
       "  </tbody>\n",
       "</table>\n",
       "<p>1409 rows × 3 columns</p>\n",
       "</div>"
      ],
      "text/plain": [
       "     customer_id  probability_of_churn prediction_of_churn\n",
       "0     4531-AUZNK                  0.15           not_churn\n",
       "1     2296-DKZFP                  0.05           not_churn\n",
       "2     9692-TUSXH                  0.46           not_churn\n",
       "3     5129-JLPIS                  0.46           not_churn\n",
       "4     1273-MTETI                  0.89               churn\n",
       "...          ...                   ...                 ...\n",
       "1404  1597-FZREH                  0.40           not_churn\n",
       "1405  9117-SHLZX                  0.68               churn\n",
       "1406  8441-SHIPE                  0.00           not_churn\n",
       "1407  3511-BFTJW                  0.02           not_churn\n",
       "1408  1428-GTBJJ                  0.75               churn\n",
       "\n",
       "[1409 rows x 3 columns]"
      ]
     },
     "execution_count": 20,
     "metadata": {},
     "output_type": "execute_result"
    }
   ],
   "source": [
    "# Customer prediction churn utilizing the random forest model\n",
    "rf = m.get_rf(X_train, y_train)\n",
    "predictions_df = w.get_predictions_df(rf,X_test,test)\n",
    "predictions_df"
   ]
  },
  {
   "cell_type": "code",
   "execution_count": null,
   "id": "770fc0e3-69f2-40f3-b016-c68eb3ea6ccf",
   "metadata": {},
   "outputs": [],
   "source": []
  }
 ],
 "metadata": {
  "kernelspec": {
   "display_name": "Python 3 (ipykernel)",
   "language": "python",
   "name": "python3"
  },
  "language_info": {
   "codemirror_mode": {
    "name": "ipython",
    "version": 3
   },
   "file_extension": ".py",
   "mimetype": "text/x-python",
   "name": "python",
   "nbconvert_exporter": "python",
   "pygments_lexer": "ipython3",
   "version": "3.9.13"
  }
 },
 "nbformat": 4,
 "nbformat_minor": 5
}
