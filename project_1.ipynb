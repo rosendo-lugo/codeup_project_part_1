{
 "cells": [
  {
   "cell_type": "markdown",
   "id": "02ac43b5-bc19-46d1-9820-5eb7034da4f1",
   "metadata": {},
   "source": [
    "# Telco Project Part I"
   ]
  },
  {
   "cell_type": "markdown",
   "id": "975d299d-a11f-4f4f-8206-dffbb5aaf400",
   "metadata": {},
   "source": [
    "## Goals:\n",
    "\n",
    ">- To identify the factors that contribute to customer churn in the Telco dataset.\n",
    ">- To develop strategies for retaining customers who are at high risk of churning, based on their tenure and other characteristics.\n",
    ">- To determine whether there are specific payment methods that are associated with higher rates of churn and to develop recommendations for improving retention for customers who use those payment methods.\n",
    ">- To investigate whether there is a relationship between the number of services a customer has and their likelihood of churning, and to develop strategies for retaining customers who are at high risk of churning based on their service usage."
   ]
  },
  {
   "cell_type": "markdown",
   "id": "9e0c853e-2764-4da4-ab11-f96b37a90e6d",
   "metadata": {},
   "source": [
    "## Imports"
   ]
  },
  {
   "cell_type": "code",
   "execution_count": 1,
   "id": "6ddf971c-fc82-43e4-bd33-c1ded8373973",
   "metadata": {},
   "outputs": [],
   "source": [
    "# Standard imports\n",
    "import pandas as pd\n",
    "import numpy as np\n",
    "\n",
    "# Graph imports\n",
    "import matplotlib.pyplot as plt\n",
    "import seaborn as sns\n",
    "import os\n",
    "\n",
    "# SKLearn imports\n",
    "from sklearn.model_selection import train_test_split\n",
    "import sklearn.preprocessing\n",
    "from sklearn.tree import DecisionTreeClassifier\n",
    "from sklearn.ensemble import RandomForestClassifier\n",
    "from sklearn.neighbors import KNeighborsClassifier\n",
    "from sklearn.linear_model import LogisticRegression\n",
    "\n",
    "#import this for the decision tree!\n",
    "from sklearn.tree import DecisionTreeClassifier\n",
    "from sklearn.metrics import classification_report, confusion_matrix, plot_confusion_matrix\n",
    "from sklearn.tree import plot_tree\n",
    "\n",
    "# Import to ignore warnings\n",
    "import warnings\n",
    "warnings.filterwarnings(\"ignore\")\n",
    "\n",
    "# Stats import\n",
    "import scipy.stats as stats\n",
    "# import re\n",
    "\n",
    "# My imports\n",
    "import wrangle as w\n",
    "import prepare as p\n",
    "import acquire as a\n",
    "import model as m\n",
    "import explore as e"
   ]
  },
  {
   "cell_type": "markdown",
   "id": "1624e7c7-02df-4a38-ae60-1c1296b60a12",
   "metadata": {},
   "source": [
    "### Acquire"
   ]
  },
  {
   "cell_type": "markdown",
   "id": "8386b4cf-ac5d-4bdb-916b-96d079067f38",
   "metadata": {},
   "source": [
    ">- Got the data from a telco company's database in MySQL.\n",
    ">- The dataset has information on 7,043 customers and 24 different features, including personal information and details about the services they're using.\n",
    ">- The data types include floats, integers, and objects.\n",
    ">- Each row in the dataset represents a single customer.\n",
    ">- Each column in the dataset represents a specific feature of the customer or their services."
   ]
  },
  {
   "cell_type": "code",
   "execution_count": 2,
   "id": "fc8fb657-1f82-4a19-8a3d-3f7eebf51684",
   "metadata": {},
   "outputs": [
    {
     "name": "stdout",
     "output_type": "stream",
     "text": [
      "csv file found and loaded\n"
     ]
    }
   ],
   "source": [
    "# Get your telco data\n",
    "telco_df = a.get_telco_data()"
   ]
  },
  {
   "cell_type": "code",
   "execution_count": 3,
   "id": "1b240d95-d35c-43a2-a968-8fbb602472d7",
   "metadata": {},
   "outputs": [
    {
     "data": {
      "text/html": [
       "<style type=\"text/css\">\n",
       "#T_c57ad th {\n",
       "  text-align: left;\n",
       "}\n",
       "#T_c57ad_row0_col0, #T_c57ad_row0_col1, #T_c57ad_row1_col0, #T_c57ad_row1_col1, #T_c57ad_row2_col0, #T_c57ad_row2_col1, #T_c57ad_row3_col0, #T_c57ad_row3_col1, #T_c57ad_row4_col0, #T_c57ad_row4_col1, #T_c57ad_row5_col0, #T_c57ad_row5_col1, #T_c57ad_row6_col0, #T_c57ad_row6_col1, #T_c57ad_row7_col0, #T_c57ad_row7_col1, #T_c57ad_row8_col0, #T_c57ad_row8_col1, #T_c57ad_row9_col0, #T_c57ad_row9_col1, #T_c57ad_row10_col0, #T_c57ad_row10_col1, #T_c57ad_row11_col0, #T_c57ad_row11_col1, #T_c57ad_row12_col0, #T_c57ad_row12_col1, #T_c57ad_row13_col0, #T_c57ad_row13_col1, #T_c57ad_row14_col0, #T_c57ad_row14_col1, #T_c57ad_row15_col0, #T_c57ad_row15_col1, #T_c57ad_row16_col0, #T_c57ad_row16_col1, #T_c57ad_row17_col0, #T_c57ad_row17_col1, #T_c57ad_row18_col0, #T_c57ad_row18_col1, #T_c57ad_row19_col0, #T_c57ad_row19_col1, #T_c57ad_row20_col0, #T_c57ad_row20_col1, #T_c57ad_row21_col0, #T_c57ad_row21_col1, #T_c57ad_row22_col0, #T_c57ad_row22_col1, #T_c57ad_row23_col0, #T_c57ad_row23_col1 {\n",
       "  text-align: left;\n",
       "}\n",
       "</style>\n",
       "<table id=\"T_c57ad\">\n",
       "  <thead>\n",
       "    <tr>\n",
       "      <th id=\"T_c57ad_level0_col0\" class=\"col_heading level0 col0\" >features</th>\n",
       "      <th id=\"T_c57ad_level0_col1\" class=\"col_heading level0 col1\" >definition</th>\n",
       "    </tr>\n",
       "  </thead>\n",
       "  <tbody>\n",
       "    <tr>\n",
       "      <td id=\"T_c57ad_row0_col0\" class=\"data row0 col0\" >payment_type_id</td>\n",
       "      <td id=\"T_c57ad_row0_col1\" class=\"data row0 col1\" >Payment type ID</td>\n",
       "    </tr>\n",
       "    <tr>\n",
       "      <td id=\"T_c57ad_row1_col0\" class=\"data row1 col0\" >internet_service_type_id</td>\n",
       "      <td id=\"T_c57ad_row1_col1\" class=\"data row1 col1\" >Internet service type ID</td>\n",
       "    </tr>\n",
       "    <tr>\n",
       "      <td id=\"T_c57ad_row2_col0\" class=\"data row2 col0\" >contract_type_id</td>\n",
       "      <td id=\"T_c57ad_row2_col1\" class=\"data row2 col1\" >Contract type ID</td>\n",
       "    </tr>\n",
       "    <tr>\n",
       "      <td id=\"T_c57ad_row3_col0\" class=\"data row3 col0\" >customer_id</td>\n",
       "      <td id=\"T_c57ad_row3_col1\" class=\"data row3 col1\" >Customer ID</td>\n",
       "    </tr>\n",
       "    <tr>\n",
       "      <td id=\"T_c57ad_row4_col0\" class=\"data row4 col0\" >gender</td>\n",
       "      <td id=\"T_c57ad_row4_col1\" class=\"data row4 col1\" >Whether the customer is a male or a female</td>\n",
       "    </tr>\n",
       "    <tr>\n",
       "      <td id=\"T_c57ad_row5_col0\" class=\"data row5 col0\" >senior_citizen</td>\n",
       "      <td id=\"T_c57ad_row5_col1\" class=\"data row5 col1\" >Whether the customer is a senior citizen or not</td>\n",
       "    </tr>\n",
       "    <tr>\n",
       "      <td id=\"T_c57ad_row6_col0\" class=\"data row6 col0\" >partner</td>\n",
       "      <td id=\"T_c57ad_row6_col1\" class=\"data row6 col1\" >Whether the customer has a partner or not</td>\n",
       "    </tr>\n",
       "    <tr>\n",
       "      <td id=\"T_c57ad_row7_col0\" class=\"data row7 col0\" >dependents</td>\n",
       "      <td id=\"T_c57ad_row7_col1\" class=\"data row7 col1\" >Whether the customer has dependents or not</td>\n",
       "    </tr>\n",
       "    <tr>\n",
       "      <td id=\"T_c57ad_row8_col0\" class=\"data row8 col0\" >tenure</td>\n",
       "      <td id=\"T_c57ad_row8_col1\" class=\"data row8 col1\" >Number of months the customer has stayed with the company</td>\n",
       "    </tr>\n",
       "    <tr>\n",
       "      <td id=\"T_c57ad_row9_col0\" class=\"data row9 col0\" >phone_service</td>\n",
       "      <td id=\"T_c57ad_row9_col1\" class=\"data row9 col1\" >Whether the customer has a phone service or not</td>\n",
       "    </tr>\n",
       "    <tr>\n",
       "      <td id=\"T_c57ad_row10_col0\" class=\"data row10 col0\" >multiple_lines</td>\n",
       "      <td id=\"T_c57ad_row10_col1\" class=\"data row10 col1\" >Whether the customer has multiple lines or not</td>\n",
       "    </tr>\n",
       "    <tr>\n",
       "      <td id=\"T_c57ad_row11_col0\" class=\"data row11 col0\" >online_security</td>\n",
       "      <td id=\"T_c57ad_row11_col1\" class=\"data row11 col1\" >Whether the customer has online security or not</td>\n",
       "    </tr>\n",
       "    <tr>\n",
       "      <td id=\"T_c57ad_row12_col0\" class=\"data row12 col0\" >online_backup</td>\n",
       "      <td id=\"T_c57ad_row12_col1\" class=\"data row12 col1\" >Whether the customer has online backup or not</td>\n",
       "    </tr>\n",
       "    <tr>\n",
       "      <td id=\"T_c57ad_row13_col0\" class=\"data row13 col0\" >device_protection</td>\n",
       "      <td id=\"T_c57ad_row13_col1\" class=\"data row13 col1\" >Whether the customer has device protection or not</td>\n",
       "    </tr>\n",
       "    <tr>\n",
       "      <td id=\"T_c57ad_row14_col0\" class=\"data row14 col0\" >tech_support</td>\n",
       "      <td id=\"T_c57ad_row14_col1\" class=\"data row14 col1\" >Whether the customer has tech support or not</td>\n",
       "    </tr>\n",
       "    <tr>\n",
       "      <td id=\"T_c57ad_row15_col0\" class=\"data row15 col0\" >streaming_tv</td>\n",
       "      <td id=\"T_c57ad_row15_col1\" class=\"data row15 col1\" >Whether the customer has streaming TV or not</td>\n",
       "    </tr>\n",
       "    <tr>\n",
       "      <td id=\"T_c57ad_row16_col0\" class=\"data row16 col0\" >streaming_movies</td>\n",
       "      <td id=\"T_c57ad_row16_col1\" class=\"data row16 col1\" >Whether the customer has streaming movies or not</td>\n",
       "    </tr>\n",
       "    <tr>\n",
       "      <td id=\"T_c57ad_row17_col0\" class=\"data row17 col0\" >paperless_billing</td>\n",
       "      <td id=\"T_c57ad_row17_col1\" class=\"data row17 col1\" >Whether the customer has paperless billing or not</td>\n",
       "    </tr>\n",
       "    <tr>\n",
       "      <td id=\"T_c57ad_row18_col0\" class=\"data row18 col0\" >monthly_charges</td>\n",
       "      <td id=\"T_c57ad_row18_col1\" class=\"data row18 col1\" >The amount charged to the customer monthly</td>\n",
       "    </tr>\n",
       "    <tr>\n",
       "      <td id=\"T_c57ad_row19_col0\" class=\"data row19 col0\" >total_charges</td>\n",
       "      <td id=\"T_c57ad_row19_col1\" class=\"data row19 col1\" >The total amount charged to the customer</td>\n",
       "    </tr>\n",
       "    <tr>\n",
       "      <td id=\"T_c57ad_row20_col0\" class=\"data row20 col0\" >churn</td>\n",
       "      <td id=\"T_c57ad_row20_col1\" class=\"data row20 col1\" >Whether the customer churned or not</td>\n",
       "    </tr>\n",
       "    <tr>\n",
       "      <td id=\"T_c57ad_row21_col0\" class=\"data row21 col0\" >contract_type</td>\n",
       "      <td id=\"T_c57ad_row21_col1\" class=\"data row21 col1\" >The contract term of the customer (Month-to-month, One year, Two year)</td>\n",
       "    </tr>\n",
       "    <tr>\n",
       "      <td id=\"T_c57ad_row22_col0\" class=\"data row22 col0\" >internet_service_type</td>\n",
       "      <td id=\"T_c57ad_row22_col1\" class=\"data row22 col1\" >Customer’s internet service provider (DSL, Fiber optic, No)</td>\n",
       "    </tr>\n",
       "    <tr>\n",
       "      <td id=\"T_c57ad_row23_col0\" class=\"data row23 col0\" >payment_type</td>\n",
       "      <td id=\"T_c57ad_row23_col1\" class=\"data row23 col1\" >The customer’s payment method (Electronic check, Mailed check, Bank transfer (automatic), Credit card (automatic))</td>\n",
       "    </tr>\n",
       "  </tbody>\n",
       "</table>\n"
      ],
      "text/plain": [
       "<pandas.io.formats.style.Styler at 0x109aca3d0>"
      ]
     },
     "metadata": {},
     "output_type": "display_data"
    }
   ],
   "source": [
    "# acquire the data dictionary\n",
    "data_dictionary = w.data_dictionary(telco_df)"
   ]
  },
  {
   "cell_type": "markdown",
   "id": "7fe2fb9a-29ec-4f3b-8a34-e3f43bd5f5b3",
   "metadata": {},
   "source": [
    "### Prepare"
   ]
  },
  {
   "cell_type": "markdown",
   "id": "76dee32d-9bd1-4809-9ce2-487590ca2f2a",
   "metadata": {},
   "source": [
    "Prepare actions:\n",
    "\n",
    ">- Prepared the data by applying a series of transformations using a custom functions defined in the prepare file. The function removed unnecessary columns, added new columns as needed, and renamed some of the columns for clarity.\n",
    "\n",
    ">- Also performed some data cleaning steps to ensure the quality of the dataset. Specifically, checked for missing values and duplicates, but found none.\n",
    "\n",
    ">- To make the dataset more consistent, I standardized the column names by replacing spaces with underscores and converting all text to lowercase."
   ]
  },
  {
   "cell_type": "code",
   "execution_count": 4,
   "id": "5e1ee2e8-2b61-48ac-b40a-05d0c456c8ea",
   "metadata": {},
   "outputs": [],
   "source": [
    "# Clean the new dataset using the new function called prep_telco\n",
    "telco_df = p.prep_telco(telco_df)\n",
    "\n",
    "# Split your data into train, validate and test\n",
    "train, validate, test = p.split_function(telco_df, 'churn')"
   ]
  },
  {
   "cell_type": "markdown",
   "id": "ee1d255a-4f0f-4d4d-a72e-8869f81bcdda",
   "metadata": {},
   "source": [
    "### Take a look at the data"
   ]
  },
  {
   "cell_type": "code",
   "execution_count": 5,
   "id": "a6237629-5231-4037-b101-85d741338ac9",
   "metadata": {},
   "outputs": [
    {
     "name": "stdout",
     "output_type": "stream",
     "text": [
      "<class 'pandas.core.frame.DataFrame'>\n",
      "Int64Index: 7043 entries, 0 to 7042\n",
      "Data columns (total 33 columns):\n",
      " #   Column                                 Non-Null Count  Dtype  \n",
      "---  ------                                 --------------  -----  \n",
      " 0   customer_id                            7043 non-null   object \n",
      " 1   senior_citizen                         7043 non-null   int64  \n",
      " 2   tenure                                 7043 non-null   int64  \n",
      " 3   monthly_charges                        7043 non-null   float64\n",
      " 4   total_charges                          7043 non-null   float64\n",
      " 5   payment_type                           7043 non-null   object \n",
      " 6   gender_male                            7043 non-null   uint8  \n",
      " 7   partner_yes                            7043 non-null   uint8  \n",
      " 8   dependents_yes                         7043 non-null   uint8  \n",
      " 9   phone_service_yes                      7043 non-null   uint8  \n",
      " 10  multiple_lines_no_phone_service        7043 non-null   uint8  \n",
      " 11  multiple_lines_yes                     7043 non-null   uint8  \n",
      " 12  online_security_no_internet_service    7043 non-null   uint8  \n",
      " 13  online_security_yes                    7043 non-null   uint8  \n",
      " 14  online_backup_no_internet_service      7043 non-null   uint8  \n",
      " 15  online_backup_yes                      7043 non-null   uint8  \n",
      " 16  device_protection_no_internet_service  7043 non-null   uint8  \n",
      " 17  device_protection_yes                  7043 non-null   uint8  \n",
      " 18  tech_support_no_internet_service       7043 non-null   uint8  \n",
      " 19  tech_support_yes                       7043 non-null   uint8  \n",
      " 20  streaming_tv_no_internet_service       7043 non-null   uint8  \n",
      " 21  streaming_tv_yes                       7043 non-null   uint8  \n",
      " 22  streaming_movies_no_internet_service   7043 non-null   uint8  \n",
      " 23  streaming_movies_yes                   7043 non-null   uint8  \n",
      " 24  paperless_billing_yes                  7043 non-null   uint8  \n",
      " 25  churn                                  7043 non-null   uint8  \n",
      " 26  contract_type_one_year                 7043 non-null   uint8  \n",
      " 27  contract_type_two_year                 7043 non-null   uint8  \n",
      " 28  internet_service_type_fiber_optic      7043 non-null   uint8  \n",
      " 29  internet_service_type_none             7043 non-null   uint8  \n",
      " 30  payment_type_credit_card_(automatic)   7043 non-null   uint8  \n",
      " 31  payment_type_electronic_check          7043 non-null   uint8  \n",
      " 32  payment_type_mailed_check              7043 non-null   uint8  \n",
      "dtypes: float64(2), int64(2), object(2), uint8(27)\n",
      "memory usage: 570.9+ KB\n"
     ]
    }
   ],
   "source": [
    "# Looking at the information inside the data. \n",
    "telco_df.info()"
   ]
  },
  {
   "cell_type": "code",
   "execution_count": 6,
   "id": "10c37af6-3b13-4284-9e23-fea0c64303f3",
   "metadata": {},
   "outputs": [
    {
     "data": {
      "text/html": [
       "<div>\n",
       "<style scoped>\n",
       "    .dataframe tbody tr th:only-of-type {\n",
       "        vertical-align: middle;\n",
       "    }\n",
       "\n",
       "    .dataframe tbody tr th {\n",
       "        vertical-align: top;\n",
       "    }\n",
       "\n",
       "    .dataframe thead th {\n",
       "        text-align: right;\n",
       "    }\n",
       "</style>\n",
       "<table border=\"1\" class=\"dataframe\">\n",
       "  <thead>\n",
       "    <tr style=\"text-align: right;\">\n",
       "      <th></th>\n",
       "      <th>customer_id</th>\n",
       "      <th>senior_citizen</th>\n",
       "      <th>tenure</th>\n",
       "      <th>monthly_charges</th>\n",
       "      <th>total_charges</th>\n",
       "      <th>payment_type</th>\n",
       "      <th>gender_male</th>\n",
       "      <th>partner_yes</th>\n",
       "      <th>dependents_yes</th>\n",
       "      <th>phone_service_yes</th>\n",
       "      <th>...</th>\n",
       "      <th>streaming_movies_yes</th>\n",
       "      <th>paperless_billing_yes</th>\n",
       "      <th>churn</th>\n",
       "      <th>contract_type_one_year</th>\n",
       "      <th>contract_type_two_year</th>\n",
       "      <th>internet_service_type_fiber_optic</th>\n",
       "      <th>internet_service_type_none</th>\n",
       "      <th>payment_type_credit_card_(automatic)</th>\n",
       "      <th>payment_type_electronic_check</th>\n",
       "      <th>payment_type_mailed_check</th>\n",
       "    </tr>\n",
       "  </thead>\n",
       "  <tbody>\n",
       "    <tr>\n",
       "      <th>5310</th>\n",
       "      <td>7503-MIOGA</td>\n",
       "      <td>1</td>\n",
       "      <td>72</td>\n",
       "      <td>89.85</td>\n",
       "      <td>6697.35</td>\n",
       "      <td>Bank transfer (automatic)</td>\n",
       "      <td>0</td>\n",
       "      <td>1</td>\n",
       "      <td>0</td>\n",
       "      <td>1</td>\n",
       "      <td>...</td>\n",
       "      <td>1</td>\n",
       "      <td>1</td>\n",
       "      <td>0</td>\n",
       "      <td>0</td>\n",
       "      <td>1</td>\n",
       "      <td>0</td>\n",
       "      <td>0</td>\n",
       "      <td>0</td>\n",
       "      <td>0</td>\n",
       "      <td>0</td>\n",
       "    </tr>\n",
       "    <tr>\n",
       "      <th>3790</th>\n",
       "      <td>5329-KRDTM</td>\n",
       "      <td>1</td>\n",
       "      <td>72</td>\n",
       "      <td>77.35</td>\n",
       "      <td>5396.25</td>\n",
       "      <td>Credit card (automatic)</td>\n",
       "      <td>1</td>\n",
       "      <td>1</td>\n",
       "      <td>0</td>\n",
       "      <td>1</td>\n",
       "      <td>...</td>\n",
       "      <td>0</td>\n",
       "      <td>0</td>\n",
       "      <td>0</td>\n",
       "      <td>0</td>\n",
       "      <td>1</td>\n",
       "      <td>0</td>\n",
       "      <td>0</td>\n",
       "      <td>1</td>\n",
       "      <td>0</td>\n",
       "      <td>0</td>\n",
       "    </tr>\n",
       "    <tr>\n",
       "      <th>4398</th>\n",
       "      <td>6199-IWKGC</td>\n",
       "      <td>1</td>\n",
       "      <td>46</td>\n",
       "      <td>100.25</td>\n",
       "      <td>4753.85</td>\n",
       "      <td>Electronic check</td>\n",
       "      <td>0</td>\n",
       "      <td>1</td>\n",
       "      <td>0</td>\n",
       "      <td>1</td>\n",
       "      <td>...</td>\n",
       "      <td>1</td>\n",
       "      <td>0</td>\n",
       "      <td>0</td>\n",
       "      <td>1</td>\n",
       "      <td>0</td>\n",
       "      <td>1</td>\n",
       "      <td>0</td>\n",
       "      <td>0</td>\n",
       "      <td>1</td>\n",
       "      <td>0</td>\n",
       "    </tr>\n",
       "    <tr>\n",
       "      <th>2635</th>\n",
       "      <td>3748-FVMZZ</td>\n",
       "      <td>0</td>\n",
       "      <td>4</td>\n",
       "      <td>40.05</td>\n",
       "      <td>162.45</td>\n",
       "      <td>Electronic check</td>\n",
       "      <td>1</td>\n",
       "      <td>0</td>\n",
       "      <td>0</td>\n",
       "      <td>0</td>\n",
       "      <td>...</td>\n",
       "      <td>1</td>\n",
       "      <td>1</td>\n",
       "      <td>0</td>\n",
       "      <td>0</td>\n",
       "      <td>0</td>\n",
       "      <td>0</td>\n",
       "      <td>0</td>\n",
       "      <td>0</td>\n",
       "      <td>1</td>\n",
       "      <td>0</td>\n",
       "    </tr>\n",
       "    <tr>\n",
       "      <th>2986</th>\n",
       "      <td>4280-DLSHD</td>\n",
       "      <td>0</td>\n",
       "      <td>8</td>\n",
       "      <td>54.75</td>\n",
       "      <td>445.85</td>\n",
       "      <td>Mailed check</td>\n",
       "      <td>1</td>\n",
       "      <td>1</td>\n",
       "      <td>0</td>\n",
       "      <td>1</td>\n",
       "      <td>...</td>\n",
       "      <td>0</td>\n",
       "      <td>1</td>\n",
       "      <td>0</td>\n",
       "      <td>0</td>\n",
       "      <td>0</td>\n",
       "      <td>0</td>\n",
       "      <td>0</td>\n",
       "      <td>0</td>\n",
       "      <td>0</td>\n",
       "      <td>1</td>\n",
       "    </tr>\n",
       "  </tbody>\n",
       "</table>\n",
       "<p>5 rows × 33 columns</p>\n",
       "</div>"
      ],
      "text/plain": [
       "     customer_id  senior_citizen  tenure  monthly_charges  total_charges  \\\n",
       "5310  7503-MIOGA               1      72            89.85        6697.35   \n",
       "3790  5329-KRDTM               1      72            77.35        5396.25   \n",
       "4398  6199-IWKGC               1      46           100.25        4753.85   \n",
       "2635  3748-FVMZZ               0       4            40.05         162.45   \n",
       "2986  4280-DLSHD               0       8            54.75         445.85   \n",
       "\n",
       "                   payment_type  gender_male  partner_yes  dependents_yes  \\\n",
       "5310  Bank transfer (automatic)            0            1               0   \n",
       "3790    Credit card (automatic)            1            1               0   \n",
       "4398           Electronic check            0            1               0   \n",
       "2635           Electronic check            1            0               0   \n",
       "2986               Mailed check            1            1               0   \n",
       "\n",
       "      phone_service_yes  ...  streaming_movies_yes  paperless_billing_yes  \\\n",
       "5310                  1  ...                     1                      1   \n",
       "3790                  1  ...                     0                      0   \n",
       "4398                  1  ...                     1                      0   \n",
       "2635                  0  ...                     1                      1   \n",
       "2986                  1  ...                     0                      1   \n",
       "\n",
       "      churn  contract_type_one_year  contract_type_two_year  \\\n",
       "5310      0                       0                       1   \n",
       "3790      0                       0                       1   \n",
       "4398      0                       1                       0   \n",
       "2635      0                       0                       0   \n",
       "2986      0                       0                       0   \n",
       "\n",
       "      internet_service_type_fiber_optic  internet_service_type_none  \\\n",
       "5310                                  0                           0   \n",
       "3790                                  0                           0   \n",
       "4398                                  1                           0   \n",
       "2635                                  0                           0   \n",
       "2986                                  0                           0   \n",
       "\n",
       "      payment_type_credit_card_(automatic)  payment_type_electronic_check  \\\n",
       "5310                                     0                              0   \n",
       "3790                                     1                              0   \n",
       "4398                                     0                              1   \n",
       "2635                                     0                              1   \n",
       "2986                                     0                              0   \n",
       "\n",
       "      payment_type_mailed_check  \n",
       "5310                          0  \n",
       "3790                          0  \n",
       "4398                          0  \n",
       "2635                          0  \n",
       "2986                          1  \n",
       "\n",
       "[5 rows x 33 columns]"
      ]
     },
     "execution_count": 6,
     "metadata": {},
     "output_type": "execute_result"
    }
   ],
   "source": [
    "# Pull only the five first rows of the data\n",
    "train.head()"
   ]
  },
  {
   "cell_type": "markdown",
   "id": "09c5ef4a-be01-4407-a7fc-68163b254b2f",
   "metadata": {},
   "source": [
    "### Description of the Data"
   ]
  },
  {
   "cell_type": "code",
   "execution_count": 7,
   "id": "3d3e915c-e58a-44c2-b7cb-381e38300357",
   "metadata": {},
   "outputs": [
    {
     "data": {
      "text/html": [
       "<div>\n",
       "<style scoped>\n",
       "    .dataframe tbody tr th:only-of-type {\n",
       "        vertical-align: middle;\n",
       "    }\n",
       "\n",
       "    .dataframe tbody tr th {\n",
       "        vertical-align: top;\n",
       "    }\n",
       "\n",
       "    .dataframe thead th {\n",
       "        text-align: right;\n",
       "    }\n",
       "</style>\n",
       "<table border=\"1\" class=\"dataframe\">\n",
       "  <thead>\n",
       "    <tr style=\"text-align: right;\">\n",
       "      <th></th>\n",
       "      <th>senior_citizen</th>\n",
       "      <th>tenure</th>\n",
       "      <th>monthly_charges</th>\n",
       "      <th>total_charges</th>\n",
       "      <th>gender_male</th>\n",
       "      <th>partner_yes</th>\n",
       "      <th>dependents_yes</th>\n",
       "      <th>phone_service_yes</th>\n",
       "      <th>multiple_lines_no_phone_service</th>\n",
       "      <th>multiple_lines_yes</th>\n",
       "      <th>...</th>\n",
       "      <th>streaming_movies_yes</th>\n",
       "      <th>paperless_billing_yes</th>\n",
       "      <th>churn</th>\n",
       "      <th>contract_type_one_year</th>\n",
       "      <th>contract_type_two_year</th>\n",
       "      <th>internet_service_type_fiber_optic</th>\n",
       "      <th>internet_service_type_none</th>\n",
       "      <th>payment_type_credit_card_(automatic)</th>\n",
       "      <th>payment_type_electronic_check</th>\n",
       "      <th>payment_type_mailed_check</th>\n",
       "    </tr>\n",
       "  </thead>\n",
       "  <tbody>\n",
       "    <tr>\n",
       "      <th>count</th>\n",
       "      <td>3943.000000</td>\n",
       "      <td>3943.000000</td>\n",
       "      <td>3943.000000</td>\n",
       "      <td>3943.000000</td>\n",
       "      <td>3943.000000</td>\n",
       "      <td>3943.000000</td>\n",
       "      <td>3943.000000</td>\n",
       "      <td>3943.000000</td>\n",
       "      <td>3943.000000</td>\n",
       "      <td>3943.000000</td>\n",
       "      <td>...</td>\n",
       "      <td>3943.000000</td>\n",
       "      <td>3943.000000</td>\n",
       "      <td>3943.000000</td>\n",
       "      <td>3943.000000</td>\n",
       "      <td>3943.000000</td>\n",
       "      <td>3943.000000</td>\n",
       "      <td>3943.000000</td>\n",
       "      <td>3943.000000</td>\n",
       "      <td>3943.000000</td>\n",
       "      <td>3943.000000</td>\n",
       "    </tr>\n",
       "    <tr>\n",
       "      <th>mean</th>\n",
       "      <td>0.162820</td>\n",
       "      <td>32.473244</td>\n",
       "      <td>65.328937</td>\n",
       "      <td>2310.297451</td>\n",
       "      <td>0.509003</td>\n",
       "      <td>0.486685</td>\n",
       "      <td>0.307634</td>\n",
       "      <td>0.907431</td>\n",
       "      <td>0.092569</td>\n",
       "      <td>0.430383</td>\n",
       "      <td>...</td>\n",
       "      <td>0.396906</td>\n",
       "      <td>0.594725</td>\n",
       "      <td>0.265280</td>\n",
       "      <td>0.215318</td>\n",
       "      <td>0.234339</td>\n",
       "      <td>0.442556</td>\n",
       "      <td>0.215318</td>\n",
       "      <td>0.219376</td>\n",
       "      <td>0.336799</td>\n",
       "      <td>0.222419</td>\n",
       "    </tr>\n",
       "    <tr>\n",
       "      <th>std</th>\n",
       "      <td>0.369248</td>\n",
       "      <td>24.551176</td>\n",
       "      <td>30.261023</td>\n",
       "      <td>2282.121687</td>\n",
       "      <td>0.499982</td>\n",
       "      <td>0.499886</td>\n",
       "      <td>0.461573</td>\n",
       "      <td>0.289864</td>\n",
       "      <td>0.289864</td>\n",
       "      <td>0.495193</td>\n",
       "      <td>...</td>\n",
       "      <td>0.489318</td>\n",
       "      <td>0.491007</td>\n",
       "      <td>0.441538</td>\n",
       "      <td>0.411095</td>\n",
       "      <td>0.423639</td>\n",
       "      <td>0.496752</td>\n",
       "      <td>0.411095</td>\n",
       "      <td>0.413876</td>\n",
       "      <td>0.472676</td>\n",
       "      <td>0.415924</td>\n",
       "    </tr>\n",
       "    <tr>\n",
       "      <th>min</th>\n",
       "      <td>0.000000</td>\n",
       "      <td>0.000000</td>\n",
       "      <td>18.250000</td>\n",
       "      <td>0.000000</td>\n",
       "      <td>0.000000</td>\n",
       "      <td>0.000000</td>\n",
       "      <td>0.000000</td>\n",
       "      <td>0.000000</td>\n",
       "      <td>0.000000</td>\n",
       "      <td>0.000000</td>\n",
       "      <td>...</td>\n",
       "      <td>0.000000</td>\n",
       "      <td>0.000000</td>\n",
       "      <td>0.000000</td>\n",
       "      <td>0.000000</td>\n",
       "      <td>0.000000</td>\n",
       "      <td>0.000000</td>\n",
       "      <td>0.000000</td>\n",
       "      <td>0.000000</td>\n",
       "      <td>0.000000</td>\n",
       "      <td>0.000000</td>\n",
       "    </tr>\n",
       "    <tr>\n",
       "      <th>25%</th>\n",
       "      <td>0.000000</td>\n",
       "      <td>9.000000</td>\n",
       "      <td>35.900000</td>\n",
       "      <td>413.125000</td>\n",
       "      <td>0.000000</td>\n",
       "      <td>0.000000</td>\n",
       "      <td>0.000000</td>\n",
       "      <td>1.000000</td>\n",
       "      <td>0.000000</td>\n",
       "      <td>0.000000</td>\n",
       "      <td>...</td>\n",
       "      <td>0.000000</td>\n",
       "      <td>0.000000</td>\n",
       "      <td>0.000000</td>\n",
       "      <td>0.000000</td>\n",
       "      <td>0.000000</td>\n",
       "      <td>0.000000</td>\n",
       "      <td>0.000000</td>\n",
       "      <td>0.000000</td>\n",
       "      <td>0.000000</td>\n",
       "      <td>0.000000</td>\n",
       "    </tr>\n",
       "    <tr>\n",
       "      <th>50%</th>\n",
       "      <td>0.000000</td>\n",
       "      <td>29.000000</td>\n",
       "      <td>70.550000</td>\n",
       "      <td>1404.650000</td>\n",
       "      <td>1.000000</td>\n",
       "      <td>0.000000</td>\n",
       "      <td>0.000000</td>\n",
       "      <td>1.000000</td>\n",
       "      <td>0.000000</td>\n",
       "      <td>0.000000</td>\n",
       "      <td>...</td>\n",
       "      <td>0.000000</td>\n",
       "      <td>1.000000</td>\n",
       "      <td>0.000000</td>\n",
       "      <td>0.000000</td>\n",
       "      <td>0.000000</td>\n",
       "      <td>0.000000</td>\n",
       "      <td>0.000000</td>\n",
       "      <td>0.000000</td>\n",
       "      <td>0.000000</td>\n",
       "      <td>0.000000</td>\n",
       "    </tr>\n",
       "    <tr>\n",
       "      <th>75%</th>\n",
       "      <td>0.000000</td>\n",
       "      <td>55.000000</td>\n",
       "      <td>90.250000</td>\n",
       "      <td>3910.000000</td>\n",
       "      <td>1.000000</td>\n",
       "      <td>1.000000</td>\n",
       "      <td>1.000000</td>\n",
       "      <td>1.000000</td>\n",
       "      <td>0.000000</td>\n",
       "      <td>1.000000</td>\n",
       "      <td>...</td>\n",
       "      <td>1.000000</td>\n",
       "      <td>1.000000</td>\n",
       "      <td>1.000000</td>\n",
       "      <td>0.000000</td>\n",
       "      <td>0.000000</td>\n",
       "      <td>1.000000</td>\n",
       "      <td>0.000000</td>\n",
       "      <td>0.000000</td>\n",
       "      <td>1.000000</td>\n",
       "      <td>0.000000</td>\n",
       "    </tr>\n",
       "    <tr>\n",
       "      <th>max</th>\n",
       "      <td>1.000000</td>\n",
       "      <td>72.000000</td>\n",
       "      <td>118.750000</td>\n",
       "      <td>8672.450000</td>\n",
       "      <td>1.000000</td>\n",
       "      <td>1.000000</td>\n",
       "      <td>1.000000</td>\n",
       "      <td>1.000000</td>\n",
       "      <td>1.000000</td>\n",
       "      <td>1.000000</td>\n",
       "      <td>...</td>\n",
       "      <td>1.000000</td>\n",
       "      <td>1.000000</td>\n",
       "      <td>1.000000</td>\n",
       "      <td>1.000000</td>\n",
       "      <td>1.000000</td>\n",
       "      <td>1.000000</td>\n",
       "      <td>1.000000</td>\n",
       "      <td>1.000000</td>\n",
       "      <td>1.000000</td>\n",
       "      <td>1.000000</td>\n",
       "    </tr>\n",
       "  </tbody>\n",
       "</table>\n",
       "<p>8 rows × 31 columns</p>\n",
       "</div>"
      ],
      "text/plain": [
       "       senior_citizen       tenure  monthly_charges  total_charges  \\\n",
       "count     3943.000000  3943.000000      3943.000000    3943.000000   \n",
       "mean         0.162820    32.473244        65.328937    2310.297451   \n",
       "std          0.369248    24.551176        30.261023    2282.121687   \n",
       "min          0.000000     0.000000        18.250000       0.000000   \n",
       "25%          0.000000     9.000000        35.900000     413.125000   \n",
       "50%          0.000000    29.000000        70.550000    1404.650000   \n",
       "75%          0.000000    55.000000        90.250000    3910.000000   \n",
       "max          1.000000    72.000000       118.750000    8672.450000   \n",
       "\n",
       "       gender_male  partner_yes  dependents_yes  phone_service_yes  \\\n",
       "count  3943.000000  3943.000000     3943.000000        3943.000000   \n",
       "mean      0.509003     0.486685        0.307634           0.907431   \n",
       "std       0.499982     0.499886        0.461573           0.289864   \n",
       "min       0.000000     0.000000        0.000000           0.000000   \n",
       "25%       0.000000     0.000000        0.000000           1.000000   \n",
       "50%       1.000000     0.000000        0.000000           1.000000   \n",
       "75%       1.000000     1.000000        1.000000           1.000000   \n",
       "max       1.000000     1.000000        1.000000           1.000000   \n",
       "\n",
       "       multiple_lines_no_phone_service  multiple_lines_yes  ...  \\\n",
       "count                      3943.000000         3943.000000  ...   \n",
       "mean                          0.092569            0.430383  ...   \n",
       "std                           0.289864            0.495193  ...   \n",
       "min                           0.000000            0.000000  ...   \n",
       "25%                           0.000000            0.000000  ...   \n",
       "50%                           0.000000            0.000000  ...   \n",
       "75%                           0.000000            1.000000  ...   \n",
       "max                           1.000000            1.000000  ...   \n",
       "\n",
       "       streaming_movies_yes  paperless_billing_yes        churn  \\\n",
       "count           3943.000000            3943.000000  3943.000000   \n",
       "mean               0.396906               0.594725     0.265280   \n",
       "std                0.489318               0.491007     0.441538   \n",
       "min                0.000000               0.000000     0.000000   \n",
       "25%                0.000000               0.000000     0.000000   \n",
       "50%                0.000000               1.000000     0.000000   \n",
       "75%                1.000000               1.000000     1.000000   \n",
       "max                1.000000               1.000000     1.000000   \n",
       "\n",
       "       contract_type_one_year  contract_type_two_year  \\\n",
       "count             3943.000000             3943.000000   \n",
       "mean                 0.215318                0.234339   \n",
       "std                  0.411095                0.423639   \n",
       "min                  0.000000                0.000000   \n",
       "25%                  0.000000                0.000000   \n",
       "50%                  0.000000                0.000000   \n",
       "75%                  0.000000                0.000000   \n",
       "max                  1.000000                1.000000   \n",
       "\n",
       "       internet_service_type_fiber_optic  internet_service_type_none  \\\n",
       "count                        3943.000000                 3943.000000   \n",
       "mean                            0.442556                    0.215318   \n",
       "std                             0.496752                    0.411095   \n",
       "min                             0.000000                    0.000000   \n",
       "25%                             0.000000                    0.000000   \n",
       "50%                             0.000000                    0.000000   \n",
       "75%                             1.000000                    0.000000   \n",
       "max                             1.000000                    1.000000   \n",
       "\n",
       "       payment_type_credit_card_(automatic)  payment_type_electronic_check  \\\n",
       "count                           3943.000000                    3943.000000   \n",
       "mean                               0.219376                       0.336799   \n",
       "std                                0.413876                       0.472676   \n",
       "min                                0.000000                       0.000000   \n",
       "25%                                0.000000                       0.000000   \n",
       "50%                                0.000000                       0.000000   \n",
       "75%                                0.000000                       1.000000   \n",
       "max                                1.000000                       1.000000   \n",
       "\n",
       "       payment_type_mailed_check  \n",
       "count                3943.000000  \n",
       "mean                    0.222419  \n",
       "std                     0.415924  \n",
       "min                     0.000000  \n",
       "25%                     0.000000  \n",
       "50%                     0.000000  \n",
       "75%                     0.000000  \n",
       "max                     1.000000  \n",
       "\n",
       "[8 rows x 31 columns]"
      ]
     },
     "execution_count": 7,
     "metadata": {},
     "output_type": "execute_result"
    }
   ],
   "source": [
    "# Describe the train data\n",
    "train.describe()"
   ]
  },
  {
   "cell_type": "markdown",
   "id": "32ae33af-8635-42f1-be0d-ff7fc6564c67",
   "metadata": {},
   "source": [
    "## Explore"
   ]
  },
  {
   "cell_type": "markdown",
   "id": "3a1662e7-ee71-422b-9f48-94df92d9e457",
   "metadata": {},
   "source": [
    "#### 1. What is the distribution of customer churn in the dataset?"
   ]
  },
  {
   "cell_type": "code",
   "execution_count": 8,
   "id": "d10f9b63-23d0-48fb-957e-dfba4c477390",
   "metadata": {},
   "outputs": [
    {
     "data": {
      "image/png": "[encoded data removed]",
      "text/plain": [
       "<Figure size 640x480 with 1 Axes>"
      ]
     },
     "metadata": {},
     "output_type": "display_data"
    }
   ],
   "source": [
    "e.get_q_one(train)"
   ]
  },
  {
   "cell_type": "markdown",
   "id": "ec15e817-124f-4a86-8e02-745e5d0c84fe",
   "metadata": {},
   "source": [
    "         $H_{0}$ : There is not an even distribution between customers that churn compare to the ones that don't.\n",
    "\n",
    "         $H_{a}$ : There is an even distribution between customers that churn compare to the ones that don't."
   ]
  },
  {
   "cell_type": "markdown",
   "id": "09238f4a-8b8a-447f-adcd-3dcb7d2c571d",
   "metadata": {},
   "source": [
    ">- The distribution of customer churn in the dataset is imbalanced, with significantly more customers not churning compared to those who churn."
   ]
  },
  {
   "cell_type": "markdown",
   "id": "1d68da99-862a-44b9-9d8b-96723897ff78",
   "metadata": {},
   "source": [
    "#### 2. How does tenure relate to customer churn?"
   ]
  },
  {
   "cell_type": "code",
   "execution_count": 9,
   "id": "cf18e7e1-0bd1-44f9-aa22-67b1ae6fa95b",
   "metadata": {},
   "outputs": [
    {
     "data": {
      "image/png": "[encoded data removed]",
      "text/plain": [
       "<Figure size 1000x500 with 1 Axes>"
      ]
     },
     "metadata": {},
     "output_type": "display_data"
    }
   ],
   "source": [
    "# This histogram shows the relationship between the tenure and customer churn. \n",
    "e.get_q_two(train)"
   ]
  },
  {
   "cell_type": "markdown",
   "id": "37fbda9e-457a-4fe1-8cf0-8e5af0e18a7a",
   "metadata": {},
   "source": [
    "         $H_{0}$ : There is not a relationship between customers that churn compare to the ones that don't.\n",
    "\n",
    "         $H_{a}$ : There is a relationship between customers that churn compare to the ones that don't."
   ]
  },
  {
   "cell_type": "code",
   "execution_count": 10,
   "id": "c3cfeb1b-d081-4ba3-a1d8-17506b21cbf0",
   "metadata": {},
   "outputs": [
    {
     "name": "stdout",
     "output_type": "stream",
     "text": [
      "We reject the null hypothesis\n",
      "There is a significant difference in tenure between customers who churned and customers who did not churn.\n"
     ]
    }
   ],
   "source": [
    "# A t-test is used to evaluate the significant difference in the mean tenure\n",
    "# between customers who churn vs those who don't churn.\n",
    "e.get_q_two_chi2(train)"
   ]
  },
  {
   "cell_type": "markdown",
   "id": "717c51b3-3b0b-4750-bb9f-2a9988294fef",
   "metadata": {},
   "source": [
    "> It appears that customers with shorter tenure are more likely to churn compared to those with longer tenure. This suggests that customer loyalty increases over time."
   ]
  },
  {
   "cell_type": "markdown",
   "id": "a06bd864-9248-4c63-984e-96f99d7d63b2",
   "metadata": {},
   "source": [
    "#### 3. Is there a relationship between the payment method and churn?"
   ]
  },
  {
   "cell_type": "code",
   "execution_count": 11,
   "id": "46a9f67a-4e3f-47d7-b1fb-c0f1720a383f",
   "metadata": {},
   "outputs": [
    {
     "data": {
      "image/png": "[encoded data removed]",
      "text/plain": [
       "<Figure size 1000x500 with 1 Axes>"
      ]
     },
     "metadata": {},
     "output_type": "display_data"
    }
   ],
   "source": [
    "e.get_q_three_figure(train)"
   ]
  },
  {
   "cell_type": "markdown",
   "id": "d25faf7f-2a84-4b07-a2da-4e08e205c651",
   "metadata": {},
   "source": [
    "         $H_{0}$ : There is not a relationship between payment method and churn compare to the ones that don't.\n",
    "\n",
    "         $H_{a}$ : There is a relationship between payment method and churn compare to the ones that don't."
   ]
  },
  {
   "cell_type": "code",
   "execution_count": 12,
   "id": "e4facf7c-6a0b-413e-951a-3d5ec6604fa7",
   "metadata": {},
   "outputs": [
    {
     "name": "stdout",
     "output_type": "stream",
     "text": [
      "We reject the null hypothesis\n",
      "There is a significant relationship between payment method and churn.\n"
     ]
    }
   ],
   "source": [
    "e.get_q_three_chi2(train)"
   ]
  },
  {
   "cell_type": "markdown",
   "id": "b3ab0a4e-b2f8-4167-acd7-4f603ac3ee4a",
   "metadata": {},
   "source": [
    ">- Yes, there is a significant relationship between payment method and churn based on the chi-squared test. Customers who pay by electronic check are more likely to churn compared to those who use other payment methods."
   ]
  },
  {
   "cell_type": "markdown",
   "id": "b32b5787-49b8-4dd4-aa51-cafbfacb65e9",
   "metadata": {
    "tags": []
   },
   "source": [
    "#### 4. Do customers with tech support tend to churn less often than those without tech support?"
   ]
  },
  {
   "cell_type": "code",
   "execution_count": 13,
   "id": "594cbf98-63e5-48ff-bbe3-85d9f050723c",
   "metadata": {},
   "outputs": [
    {
     "data": {
      "image/png": "[encoded data removed]",
      "text/plain": [
       "<Figure size 640x480 with 1 Axes>"
      ]
     },
     "metadata": {},
     "output_type": "display_data"
    }
   ],
   "source": [
    "e.get_q_four_countplot(train)"
   ]
  },
  {
   "cell_type": "markdown",
   "id": "d4a0985d-9597-4f18-938e-b727d3138c45",
   "metadata": {},
   "source": [
    "         $H_{0}$ : Customers with tech support don't churn less often than those without tech support.\n",
    "\n",
    "         $H_{a}$ : Customers with tech support churn less often than those without tech support."
   ]
  },
  {
   "cell_type": "markdown",
   "id": "e9a1f203-13fa-4a51-a8b9-0fe24f09ad08",
   "metadata": {},
   "source": [
    ">- we can conclude that customers with tech support churn less often than those without tech support. In other words, having tech support is associated with a lower likelihood of churn."
   ]
  },
  {
   "cell_type": "markdown",
   "id": "1b3bd922-ab07-457f-92de-df0cfb259209",
   "metadata": {},
   "source": [
    "### Exploration Summary\n",
    "During the exploration section, I analyzed the Telco Customer Churn dataset to understand the relationships between customer churn and various features. Here are my key findings:\n",
    "\n",
    ">- The dataset contains 7,043 observations and 23 columns.\n",
    ">- The target variable is the 'churn' column, which is binary and indicates whether a customer churned or not.\n",
    ">- The dataset is imbalanced, with 73% of customers not churning and 27% of customers churning.\n",
    ">- The features that are strongly associated with churn are: contract type, tenure, monthly charges, and payment type.\n",
    ">- Customers with a month-to-month contract type are more likely to churn.\n",
    ">- Customers with shorter tenure are more likely to churn.\n",
    ">- Customers with higher monthly charges are more likely to churn.\n",
    ">- Customers with fiber optic internet service are more likely to churn.\n",
    ">- Customers with tech support are less likely to churn than those without.\n",
    ">- Customers with multiple lines are slightly more likely to churn than those without.\n",
    "\n",
    "Based on these findings, I have decided to include the following features in my modeling:\n",
    "\n",
    ">- contract type\n",
    ">- tenure\n",
    ">- monthly_charges\n",
    ">- payment_type\n",
    ">- has_tech_support\n",
    "    \n",
    "I will not be including 'multiple_lines' feature in my model since the relationship with churn was weak."
   ]
  },
  {
   "cell_type": "markdown",
   "id": "c4ffa9e6-9520-4afc-87f2-e9b7d05123ca",
   "metadata": {},
   "source": [
    "## Modeling"
   ]
  },
  {
   "cell_type": "markdown",
   "id": "d6dc77be-316f-4c47-bd29-5ee0041482b7",
   "metadata": {},
   "source": [
    "### Best 3 Models"
   ]
  },
  {
   "cell_type": "markdown",
   "id": "50ff3971-f627-43b9-b3d3-9af889c0b2f0",
   "metadata": {},
   "source": [
    ">- Decision Tree:\n",
    ">- Random Forest:\n",
    ">- Logistic Regression: \n"
   ]
  },
  {
   "cell_type": "code",
   "execution_count": 14,
   "id": "646903e5-3605-46ea-b7d4-22b3aa9a054e",
   "metadata": {},
   "outputs": [],
   "source": [
    "# Lets drop columns that are objects and don't add any value to the data. Also, we need to remove the 'churn_Yes' column because is our TARGET.\n",
    "# Also, lets convert train to X_train.\n",
    "X_train, X_validate, X_test, y_train, y_validate, y_test = m.get_Xs_ys(train, validate, test)"
   ]
  },
  {
   "cell_type": "markdown",
   "id": "97187b17-abf4-4ba3-838e-edc53ab45549",
   "metadata": {},
   "source": [
    "#### Decision Tree Model"
   ]
  },
  {
   "cell_type": "code",
   "execution_count": 15,
   "id": "05f05efa-cb81-4660-89f2-c92f1cd3e5f7",
   "metadata": {},
   "outputs": [],
   "source": [
    "dt = m.get_dt(X_train, y_train)"
   ]
  },
  {
   "cell_type": "code",
   "execution_count": 16,
   "id": "6d6b01fc-79c7-4699-af22-3e7b6e47a395",
   "metadata": {},
   "outputs": [
    {
     "data": {
      "text/plain": [
       "0.7347197565305605"
      ]
     },
     "execution_count": 16,
     "metadata": {},
     "output_type": "execute_result"
    }
   ],
   "source": [
    "# Baseline accuracy\n",
    "m.get_baseline_acc(train)"
   ]
  },
  {
   "cell_type": "code",
   "execution_count": 17,
   "id": "cf8d2e29-3544-4cc2-8478-3f60907fb1f2",
   "metadata": {},
   "outputs": [
    {
     "data": {
      "text/html": [
       "<div>\n",
       "<style scoped>\n",
       "    .dataframe tbody tr th:only-of-type {\n",
       "        vertical-align: middle;\n",
       "    }\n",
       "\n",
       "    .dataframe tbody tr th {\n",
       "        vertical-align: top;\n",
       "    }\n",
       "\n",
       "    .dataframe thead th {\n",
       "        text-align: right;\n",
       "    }\n",
       "</style>\n",
       "<table border=\"1\" class=\"dataframe\">\n",
       "  <thead>\n",
       "    <tr style=\"text-align: right;\">\n",
       "      <th></th>\n",
       "      <th>max_depth</th>\n",
       "      <th>train_acc</th>\n",
       "      <th>val_acc</th>\n",
       "      <th>diff</th>\n",
       "    </tr>\n",
       "  </thead>\n",
       "  <tbody>\n",
       "    <tr>\n",
       "      <th>3</th>\n",
       "      <td>4</td>\n",
       "      <td>0.792797</td>\n",
       "      <td>0.798344</td>\n",
       "      <td>-0.005547</td>\n",
       "    </tr>\n",
       "    <tr>\n",
       "      <th>1</th>\n",
       "      <td>2</td>\n",
       "      <td>0.787471</td>\n",
       "      <td>0.790656</td>\n",
       "      <td>-0.003185</td>\n",
       "    </tr>\n",
       "    <tr>\n",
       "      <th>2</th>\n",
       "      <td>3</td>\n",
       "      <td>0.787471</td>\n",
       "      <td>0.790656</td>\n",
       "      <td>-0.003185</td>\n",
       "    </tr>\n",
       "    <tr>\n",
       "      <th>0</th>\n",
       "      <td>1</td>\n",
       "      <td>0.734720</td>\n",
       "      <td>0.734477</td>\n",
       "      <td>0.000243</td>\n",
       "    </tr>\n",
       "    <tr>\n",
       "      <th>4</th>\n",
       "      <td>5</td>\n",
       "      <td>0.803449</td>\n",
       "      <td>0.799527</td>\n",
       "      <td>0.003922</td>\n",
       "    </tr>\n",
       "    <tr>\n",
       "      <th>5</th>\n",
       "      <td>6</td>\n",
       "      <td>0.812579</td>\n",
       "      <td>0.805441</td>\n",
       "      <td>0.007139</td>\n",
       "    </tr>\n",
       "    <tr>\n",
       "      <th>6</th>\n",
       "      <td>7</td>\n",
       "      <td>0.824499</td>\n",
       "      <td>0.794796</td>\n",
       "      <td>0.029703</td>\n",
       "    </tr>\n",
       "    <tr>\n",
       "      <th>7</th>\n",
       "      <td>8</td>\n",
       "      <td>0.846056</td>\n",
       "      <td>0.778238</td>\n",
       "      <td>0.067819</td>\n",
       "    </tr>\n",
       "    <tr>\n",
       "      <th>8</th>\n",
       "      <td>9</td>\n",
       "      <td>0.867867</td>\n",
       "      <td>0.780012</td>\n",
       "      <td>0.087855</td>\n",
       "    </tr>\n",
       "  </tbody>\n",
       "</table>\n",
       "</div>"
      ],
      "text/plain": [
       "   max_depth  train_acc   val_acc      diff\n",
       "3          4   0.792797  0.798344 -0.005547\n",
       "1          2   0.787471  0.790656 -0.003185\n",
       "2          3   0.787471  0.790656 -0.003185\n",
       "0          1   0.734720  0.734477  0.000243\n",
       "4          5   0.803449  0.799527  0.003922\n",
       "5          6   0.812579  0.805441  0.007139\n",
       "6          7   0.824499  0.794796  0.029703\n",
       "7          8   0.846056  0.778238  0.067819\n",
       "8          9   0.867867  0.780012  0.087855"
      ]
     },
     "execution_count": 17,
     "metadata": {},
     "output_type": "execute_result"
    }
   ],
   "source": [
    "m.get_dt_score(X_train, y_train, X_validate, y_validate)"
   ]
  },
  {
   "cell_type": "markdown",
   "id": "0f7132b5-b311-4804-9faf-abe48615c69a",
   "metadata": {},
   "source": [
    ">- The decision tree performs better that the baseline."
   ]
  },
  {
   "cell_type": "code",
   "execution_count": 18,
   "id": "127da7ce-c572-42f4-93fc-fcdc17f895ce",
   "metadata": {
    "tags": []
   },
   "outputs": [
    {
     "data": {
      "text/plain": [
       "<sklearn.metrics._plot.confusion_matrix.ConfusionMatrixDisplay at 0x178412b50>"
      ]
     },
     "execution_count": 18,
     "metadata": {},
     "output_type": "execute_result"
    },
    {
     "data": {
      "image/png": "[encoded data removed]",
      "text/plain": [
       "<Figure size 640x480 with 2 Axes>"
      ]
     },
     "metadata": {},
     "output_type": "display_data"
    }
   ],
   "source": [
    "m.get_dt_cm(X_train, y_train)"
   ]
  },
  {
   "cell_type": "code",
   "execution_count": 19,
   "id": "e799e89a-5fc2-4553-8b56-693220b0206a",
   "metadata": {
    "tags": []
   },
   "outputs": [
    {
     "name": "stdout",
     "output_type": "stream",
     "text": [
      "              precision    recall  f1-score   support\n",
      "\n",
      "           0       1.00      1.00      1.00      2897\n",
      "           1       1.00      1.00      1.00      1046\n",
      "\n",
      "    accuracy                           1.00      3943\n",
      "   macro avg       1.00      1.00      1.00      3943\n",
      "weighted avg       1.00      1.00      1.00      3943\n",
      "\n"
     ]
    }
   ],
   "source": [
    "m.get_dt_cr(dt, X_train, y_train)"
   ]
  },
  {
   "cell_type": "code",
   "execution_count": 20,
   "id": "8e1dbed0-6601-46e7-9966-2a7b64d69734",
   "metadata": {
    "tags": []
   },
   "outputs": [],
   "source": [
    "# m.get_decision_tree(dt, X_train)"
   ]
  },
  {
   "cell_type": "markdown",
   "id": "fa3c7fc3-def9-4ae7-b66e-2ec3deeb6384",
   "metadata": {},
   "source": [
    "Positive case = churn"
   ]
  },
  {
   "cell_type": "code",
   "execution_count": 21,
   "id": "3808a7c8-8775-427c-9035-16b44f3e8739",
   "metadata": {
    "tags": []
   },
   "outputs": [
    {
     "data": {
      "text/html": [
       "<div>\n",
       "<style scoped>\n",
       "    .dataframe tbody tr th:only-of-type {\n",
       "        vertical-align: middle;\n",
       "    }\n",
       "\n",
       "    .dataframe tbody tr th {\n",
       "        vertical-align: top;\n",
       "    }\n",
       "\n",
       "    .dataframe thead th {\n",
       "        text-align: right;\n",
       "    }\n",
       "</style>\n",
       "<table border=\"1\" class=\"dataframe\">\n",
       "  <thead>\n",
       "    <tr style=\"text-align: right;\">\n",
       "      <th></th>\n",
       "      <th>max_depth</th>\n",
       "      <th>train_acc</th>\n",
       "      <th>val_acc</th>\n",
       "      <th>diff</th>\n",
       "    </tr>\n",
       "  </thead>\n",
       "  <tbody>\n",
       "    <tr>\n",
       "      <th>3</th>\n",
       "      <td>4</td>\n",
       "      <td>0.792797</td>\n",
       "      <td>0.798344</td>\n",
       "      <td>-0.005547</td>\n",
       "    </tr>\n",
       "    <tr>\n",
       "      <th>1</th>\n",
       "      <td>2</td>\n",
       "      <td>0.787471</td>\n",
       "      <td>0.790656</td>\n",
       "      <td>-0.003185</td>\n",
       "    </tr>\n",
       "    <tr>\n",
       "      <th>2</th>\n",
       "      <td>3</td>\n",
       "      <td>0.787471</td>\n",
       "      <td>0.790656</td>\n",
       "      <td>-0.003185</td>\n",
       "    </tr>\n",
       "    <tr>\n",
       "      <th>0</th>\n",
       "      <td>1</td>\n",
       "      <td>0.734720</td>\n",
       "      <td>0.734477</td>\n",
       "      <td>0.000243</td>\n",
       "    </tr>\n",
       "    <tr>\n",
       "      <th>4</th>\n",
       "      <td>5</td>\n",
       "      <td>0.803449</td>\n",
       "      <td>0.799527</td>\n",
       "      <td>0.003922</td>\n",
       "    </tr>\n",
       "    <tr>\n",
       "      <th>5</th>\n",
       "      <td>6</td>\n",
       "      <td>0.812579</td>\n",
       "      <td>0.805441</td>\n",
       "      <td>0.007139</td>\n",
       "    </tr>\n",
       "    <tr>\n",
       "      <th>6</th>\n",
       "      <td>7</td>\n",
       "      <td>0.824499</td>\n",
       "      <td>0.794796</td>\n",
       "      <td>0.029703</td>\n",
       "    </tr>\n",
       "    <tr>\n",
       "      <th>7</th>\n",
       "      <td>8</td>\n",
       "      <td>0.846056</td>\n",
       "      <td>0.777055</td>\n",
       "      <td>0.069001</td>\n",
       "    </tr>\n",
       "    <tr>\n",
       "      <th>8</th>\n",
       "      <td>9</td>\n",
       "      <td>0.868882</td>\n",
       "      <td>0.778238</td>\n",
       "      <td>0.090644</td>\n",
       "    </tr>\n",
       "  </tbody>\n",
       "</table>\n",
       "</div>"
      ],
      "text/plain": [
       "   max_depth  train_acc   val_acc      diff\n",
       "3          4   0.792797  0.798344 -0.005547\n",
       "1          2   0.787471  0.790656 -0.003185\n",
       "2          3   0.787471  0.790656 -0.003185\n",
       "0          1   0.734720  0.734477  0.000243\n",
       "4          5   0.803449  0.799527  0.003922\n",
       "5          6   0.812579  0.805441  0.007139\n",
       "6          7   0.824499  0.794796  0.029703\n",
       "7          8   0.846056  0.777055  0.069001\n",
       "8          9   0.868882  0.778238  0.090644"
      ]
     },
     "execution_count": 21,
     "metadata": {},
     "output_type": "execute_result"
    }
   ],
   "source": [
    "dt_scores_df = m.get_dt_score(X_train, y_train, X_validate, y_validate)\n",
    "dt_scores_df"
   ]
  },
  {
   "cell_type": "markdown",
   "id": "0b8cedad-f28d-407c-8a04-f7381435a0a2",
   "metadata": {},
   "source": [
    ">- The model with the max depth of 5 is the ideal one for test as is the one closer to ZERO. "
   ]
  },
  {
   "cell_type": "code",
   "execution_count": 22,
   "id": "42cbf0e9-7ac8-4605-ad47-2e63cac22c39",
   "metadata": {},
   "outputs": [
    {
     "data": {
      "image/png": "[encoded data removed]",
      "text/plain": [
       "<Figure size 1200x600 with 1 Axes>"
      ]
     },
     "metadata": {},
     "output_type": "display_data"
    }
   ],
   "source": [
    "m.get_df_plot(dt_scores_df, max_depth=3)"
   ]
  },
  {
   "cell_type": "markdown",
   "id": "e3a63fb7-9b16-4f02-9e35-01874b63bcf1",
   "metadata": {},
   "source": [
    ">- Depth 5 is the best to use on test"
   ]
  },
  {
   "cell_type": "markdown",
   "id": "661c7fe4-8e4c-47e3-9010-abc178db93bc",
   "metadata": {},
   "source": [
    "#### Random Forest Model Type\n",
    "\n",
    ">- Making the object\n",
    ">- Fit the object\n",
    ">- Transform the object"
   ]
  },
  {
   "cell_type": "code",
   "execution_count": 23,
   "id": "f831bafa-568b-4473-9d2e-c9813dce67a7",
   "metadata": {},
   "outputs": [],
   "source": [
    "rf = m.get_rf(X_train, y_train)"
   ]
  },
  {
   "cell_type": "code",
   "execution_count": 24,
   "id": "30adc295-354d-4fc3-b4b6-c2b892c2a43a",
   "metadata": {},
   "outputs": [
    {
     "data": {
      "text/plain": [
       "0.7347197565305605"
      ]
     },
     "execution_count": 24,
     "metadata": {},
     "output_type": "execute_result"
    }
   ],
   "source": [
    "# Baseline accuracy\n",
    "m.get_baseline_acc(train)"
   ]
  },
  {
   "cell_type": "code",
   "execution_count": 25,
   "id": "c5c6383e-bc7b-4c7d-8456-52229dbaa7c9",
   "metadata": {},
   "outputs": [],
   "source": [
    "scores_rf = m.get_rf_score(X_train, y_train)"
   ]
  },
  {
   "cell_type": "markdown",
   "id": "f88fedfb-61bb-4a91-ba82-f1b6afd34716",
   "metadata": {},
   "source": [
    ">- The Random Forest performs better than the baseline."
   ]
  },
  {
   "cell_type": "code",
   "execution_count": 26,
   "id": "09b510d6-be5a-43d7-9c34-d05a8eb9f57c",
   "metadata": {},
   "outputs": [
    {
     "data": {
      "text/plain": [
       "<sklearn.metrics._plot.confusion_matrix.ConfusionMatrixDisplay at 0x1784905e0>"
      ]
     },
     "execution_count": 26,
     "metadata": {},
     "output_type": "execute_result"
    },
    {
     "data": {
      "image/png": "[encoded data removed]",
      "text/plain": [
       "<Figure size 640x480 with 2 Axes>"
      ]
     },
     "metadata": {},
     "output_type": "display_data"
    }
   ],
   "source": [
    "m.get_rf_cm(X_train, y_train)"
   ]
  },
  {
   "cell_type": "code",
   "execution_count": 27,
   "id": "1b6c09da-e641-420f-897c-c75a65d47432",
   "metadata": {
    "tags": []
   },
   "outputs": [
    {
     "name": "stdout",
     "output_type": "stream",
     "text": [
      "              precision    recall  f1-score   support\n",
      "\n",
      "           0       1.00      1.00      1.00      2897\n",
      "           1       1.00      1.00      1.00      1046\n",
      "\n",
      "    accuracy                           1.00      3943\n",
      "   macro avg       1.00      1.00      1.00      3943\n",
      "weighted avg       1.00      1.00      1.00      3943\n",
      "\n"
     ]
    }
   ],
   "source": [
    "m.get_rf_cr(rf, X_train, y_train)"
   ]
  },
  {
   "cell_type": "code",
   "execution_count": 28,
   "id": "dfdf7e98-0f10-49b3-875d-d498276a0d39",
   "metadata": {
    "tags": []
   },
   "outputs": [
    {
     "data": {
      "text/html": [
       "<style type=\"text/css\">\n",
       "</style>\n",
       "<table id=\"T_8cfc8\">\n",
       "  <thead>\n",
       "    <tr>\n",
       "      <th id=\"T_8cfc8_level0_col0\" class=\"col_heading level0 col0\" >min_samples_leaf</th>\n",
       "      <th id=\"T_8cfc8_level0_col1\" class=\"col_heading level0 col1\" >max_depth</th>\n",
       "      <th id=\"T_8cfc8_level0_col2\" class=\"col_heading level0 col2\" >train_acc</th>\n",
       "      <th id=\"T_8cfc8_level0_col3\" class=\"col_heading level0 col3\" >val_acc</th>\n",
       "      <th id=\"T_8cfc8_level0_col4\" class=\"col_heading level0 col4\" >difference</th>\n",
       "    </tr>\n",
       "  </thead>\n",
       "  <tbody>\n",
       "    <tr>\n",
       "      <td id=\"T_8cfc8_row0_col0\" class=\"data row0 col0\" >1</td>\n",
       "      <td id=\"T_8cfc8_row0_col1\" class=\"data row0 col1\" >10</td>\n",
       "      <td id=\"T_8cfc8_row0_col2\" class=\"data row0 col2\" >0.882069</td>\n",
       "      <td id=\"T_8cfc8_row0_col3\" class=\"data row0 col3\" >0.803666</td>\n",
       "      <td id=\"T_8cfc8_row0_col4\" class=\"data row0 col4\" >0.078403</td>\n",
       "    </tr>\n",
       "    <tr>\n",
       "      <td id=\"T_8cfc8_row1_col0\" class=\"data row1 col0\" >2</td>\n",
       "      <td id=\"T_8cfc8_row1_col1\" class=\"data row1 col1\" >9</td>\n",
       "      <td id=\"T_8cfc8_row1_col2\" class=\"data row1 col2\" >0.849353</td>\n",
       "      <td id=\"T_8cfc8_row1_col3\" class=\"data row1 col3\" >0.812537</td>\n",
       "      <td id=\"T_8cfc8_row1_col4\" class=\"data row1 col4\" >0.036816</td>\n",
       "    </tr>\n",
       "    <tr>\n",
       "      <td id=\"T_8cfc8_row2_col0\" class=\"data row2 col0\" >3</td>\n",
       "      <td id=\"T_8cfc8_row2_col1\" class=\"data row2 col1\" >8</td>\n",
       "      <td id=\"T_8cfc8_row2_col2\" class=\"data row2 col2\" >0.831600</td>\n",
       "      <td id=\"T_8cfc8_row2_col3\" class=\"data row2 col3\" >0.807806</td>\n",
       "      <td id=\"T_8cfc8_row2_col4\" class=\"data row2 col4\" >0.023794</td>\n",
       "    </tr>\n",
       "    <tr>\n",
       "      <td id=\"T_8cfc8_row3_col0\" class=\"data row3 col0\" >4</td>\n",
       "      <td id=\"T_8cfc8_row3_col1\" class=\"data row3 col1\" >7</td>\n",
       "      <td id=\"T_8cfc8_row3_col2\" class=\"data row3 col2\" >0.819173</td>\n",
       "      <td id=\"T_8cfc8_row3_col3\" class=\"data row3 col3\" >0.810171</td>\n",
       "      <td id=\"T_8cfc8_row3_col4\" class=\"data row3 col4\" >0.009002</td>\n",
       "    </tr>\n",
       "    <tr>\n",
       "      <td id=\"T_8cfc8_row4_col0\" class=\"data row4 col0\" >5</td>\n",
       "      <td id=\"T_8cfc8_row4_col1\" class=\"data row4 col1\" >6</td>\n",
       "      <td id=\"T_8cfc8_row4_col2\" class=\"data row4 col2\" >0.803956</td>\n",
       "      <td id=\"T_8cfc8_row4_col3\" class=\"data row4 col3\" >0.802484</td>\n",
       "      <td id=\"T_8cfc8_row4_col4\" class=\"data row4 col4\" >0.001473</td>\n",
       "    </tr>\n",
       "    <tr>\n",
       "      <td id=\"T_8cfc8_row5_col0\" class=\"data row5 col0\" >6</td>\n",
       "      <td id=\"T_8cfc8_row5_col1\" class=\"data row5 col1\" >5</td>\n",
       "      <td id=\"T_8cfc8_row5_col2\" class=\"data row5 col2\" >0.801674</td>\n",
       "      <td id=\"T_8cfc8_row5_col3\" class=\"data row5 col3\" >0.804258</td>\n",
       "      <td id=\"T_8cfc8_row5_col4\" class=\"data row5 col4\" >-0.002584</td>\n",
       "    </tr>\n",
       "    <tr>\n",
       "      <td id=\"T_8cfc8_row6_col0\" class=\"data row6 col0\" >7</td>\n",
       "      <td id=\"T_8cfc8_row6_col1\" class=\"data row6 col1\" >4</td>\n",
       "      <td id=\"T_8cfc8_row6_col2\" class=\"data row6 col2\" >0.794826</td>\n",
       "      <td id=\"T_8cfc8_row6_col3\" class=\"data row6 col3\" >0.802484</td>\n",
       "      <td id=\"T_8cfc8_row6_col4\" class=\"data row6 col4\" >-0.007657</td>\n",
       "    </tr>\n",
       "    <tr>\n",
       "      <td id=\"T_8cfc8_row7_col0\" class=\"data row7 col0\" >8</td>\n",
       "      <td id=\"T_8cfc8_row7_col1\" class=\"data row7 col1\" >3</td>\n",
       "      <td id=\"T_8cfc8_row7_col2\" class=\"data row7 col2\" >0.780624</td>\n",
       "      <td id=\"T_8cfc8_row7_col3\" class=\"data row7 col3\" >0.780012</td>\n",
       "      <td id=\"T_8cfc8_row7_col4\" class=\"data row7 col4\" >0.000612</td>\n",
       "    </tr>\n",
       "    <tr>\n",
       "      <td id=\"T_8cfc8_row8_col0\" class=\"data row8 col0\" >9</td>\n",
       "      <td id=\"T_8cfc8_row8_col1\" class=\"data row8 col1\" >2</td>\n",
       "      <td id=\"T_8cfc8_row8_col2\" class=\"data row8 col2\" >0.754755</td>\n",
       "      <td id=\"T_8cfc8_row8_col3\" class=\"data row8 col3\" >0.754583</td>\n",
       "      <td id=\"T_8cfc8_row8_col4\" class=\"data row8 col4\" >0.000172</td>\n",
       "    </tr>\n",
       "    <tr>\n",
       "      <td id=\"T_8cfc8_row9_col0\" class=\"data row9 col0\" >10</td>\n",
       "      <td id=\"T_8cfc8_row9_col1\" class=\"data row9 col1\" >1</td>\n",
       "      <td id=\"T_8cfc8_row9_col2\" class=\"data row9 col2\" >0.734720</td>\n",
       "      <td id=\"T_8cfc8_row9_col3\" class=\"data row9 col3\" >0.734477</td>\n",
       "      <td id=\"T_8cfc8_row9_col4\" class=\"data row9 col4\" >0.000243</td>\n",
       "    </tr>\n",
       "  </tbody>\n",
       "</table>\n"
      ],
      "text/plain": [
       "<pandas.io.formats.style.Styler at 0x1797f1640>"
      ]
     },
     "execution_count": 28,
     "metadata": {},
     "output_type": "execute_result"
    }
   ],
   "source": [
    "m.get_rf_train_val_acc(rf, X_train, y_train, X_validate, y_validate)"
   ]
  },
  {
   "cell_type": "code",
   "execution_count": 29,
   "id": "ae3334b5-689a-4ec0-b5e6-19781a2f6225",
   "metadata": {
    "tags": []
   },
   "outputs": [
    {
     "ename": "AttributeError",
     "evalue": "'numpy.float64' object has no attribute 'get'",
     "output_type": "error",
     "traceback": [
      "\u001b[0;31m---------------------------------------------------------------------------\u001b[0m",
      "\u001b[0;31mAttributeError\u001b[0m                            Traceback (most recent call last)",
      "Input \u001b[0;32mIn [29]\u001b[0m, in \u001b[0;36m<cell line: 1>\u001b[0;34m()\u001b[0m\n\u001b[0;32m----> 1\u001b[0m \u001b[43mm\u001b[49m\u001b[38;5;241;43m.\u001b[39;49m\u001b[43mget_rf_plot\u001b[49m\u001b[43m(\u001b[49m\u001b[43mscores_rf\u001b[49m\u001b[43m)\u001b[49m\n",
      "File \u001b[0;32m~/codeup-data-science/classification-exercises/codeup_project_part_1/model.py:359\u001b[0m, in \u001b[0;36mget_rf_plot\u001b[0;34m(scores_rf)\u001b[0m\n\u001b[1;32m    357\u001b[0m \u001b[38;5;28;01mdef\u001b[39;00m \u001b[38;5;21mget_rf_plot\u001b[39m(scores_rf):\n\u001b[1;32m    358\u001b[0m     plt\u001b[38;5;241m.\u001b[39mfigure(figsize\u001b[38;5;241m=\u001b[39m(\u001b[38;5;241m12\u001b[39m, \u001b[38;5;241m6\u001b[39m))\n\u001b[0;32m--> 359\u001b[0m     \u001b[43msns\u001b[49m\u001b[38;5;241;43m.\u001b[39;49m\u001b[43mbarplot\u001b[49m\u001b[43m(\u001b[49m\u001b[43mx\u001b[49m\u001b[38;5;241;43m=\u001b[39;49m\u001b[38;5;124;43m\"\u001b[39;49m\u001b[38;5;124;43mmin_samples_leaf\u001b[39;49m\u001b[38;5;124;43m\"\u001b[39;49m\u001b[43m,\u001b[49m\u001b[43m \u001b[49m\u001b[43my\u001b[49m\u001b[38;5;241;43m=\u001b[39;49m\u001b[38;5;124;43m\"\u001b[39;49m\u001b[38;5;124;43mtrain_acc\u001b[39;49m\u001b[38;5;124;43m\"\u001b[39;49m\u001b[43m,\u001b[49m\u001b[43m \u001b[49m\u001b[43mhue\u001b[49m\u001b[38;5;241;43m=\u001b[39;49m\u001b[38;5;124;43m\"\u001b[39;49m\u001b[38;5;124;43mmax_depth\u001b[39;49m\u001b[38;5;124;43m\"\u001b[39;49m\u001b[43m,\u001b[49m\u001b[43m \u001b[49m\u001b[43mdata\u001b[49m\u001b[38;5;241;43m=\u001b[39;49m\u001b[43mscores_rf\u001b[49m\u001b[43m,\u001b[49m\u001b[43m \u001b[49m\u001b[43mpalette\u001b[49m\u001b[38;5;241;43m=\u001b[39;49m\u001b[38;5;124;43m\"\u001b[39;49m\u001b[38;5;124;43mdeep\u001b[39;49m\u001b[38;5;124;43m\"\u001b[39;49m\u001b[43m)\u001b[49m\n\u001b[1;32m    360\u001b[0m     plt\u001b[38;5;241m.\u001b[39mxlabel(\u001b[38;5;124m\"\u001b[39m\u001b[38;5;124mMinimum Samples Leaf\u001b[39m\u001b[38;5;124m\"\u001b[39m)\n\u001b[1;32m    361\u001b[0m     plt\u001b[38;5;241m.\u001b[39mylabel(\u001b[38;5;124m\"\u001b[39m\u001b[38;5;124mAccuracy\u001b[39m\u001b[38;5;124m\"\u001b[39m)\n",
      "File \u001b[0;32m/opt/homebrew/anaconda3/lib/python3.9/site-packages/seaborn/_decorators.py:46\u001b[0m, in \u001b[0;36m_deprecate_positional_args.<locals>.inner_f\u001b[0;34m(*args, **kwargs)\u001b[0m\n\u001b[1;32m     36\u001b[0m     warnings\u001b[38;5;241m.\u001b[39mwarn(\n\u001b[1;32m     37\u001b[0m         \u001b[38;5;124m\"\u001b[39m\u001b[38;5;124mPass the following variable\u001b[39m\u001b[38;5;132;01m{}\u001b[39;00m\u001b[38;5;124m as \u001b[39m\u001b[38;5;132;01m{}\u001b[39;00m\u001b[38;5;124mkeyword arg\u001b[39m\u001b[38;5;132;01m{}\u001b[39;00m\u001b[38;5;124m: \u001b[39m\u001b[38;5;132;01m{}\u001b[39;00m\u001b[38;5;124m. \u001b[39m\u001b[38;5;124m\"\u001b[39m\n\u001b[1;32m     38\u001b[0m         \u001b[38;5;124m\"\u001b[39m\u001b[38;5;124mFrom version 0.12, the only valid positional argument \u001b[39m\u001b[38;5;124m\"\u001b[39m\n\u001b[0;32m   (...)\u001b[0m\n\u001b[1;32m     43\u001b[0m         \u001b[38;5;167;01mFutureWarning\u001b[39;00m\n\u001b[1;32m     44\u001b[0m     )\n\u001b[1;32m     45\u001b[0m kwargs\u001b[38;5;241m.\u001b[39mupdate({k: arg \u001b[38;5;28;01mfor\u001b[39;00m k, arg \u001b[38;5;129;01min\u001b[39;00m \u001b[38;5;28mzip\u001b[39m(sig\u001b[38;5;241m.\u001b[39mparameters, args)})\n\u001b[0;32m---> 46\u001b[0m \u001b[38;5;28;01mreturn\u001b[39;00m \u001b[43mf\u001b[49m\u001b[43m(\u001b[49m\u001b[38;5;241;43m*\u001b[39;49m\u001b[38;5;241;43m*\u001b[39;49m\u001b[43mkwargs\u001b[49m\u001b[43m)\u001b[49m\n",
      "File \u001b[0;32m/opt/homebrew/anaconda3/lib/python3.9/site-packages/seaborn/categorical.py:3182\u001b[0m, in \u001b[0;36mbarplot\u001b[0;34m(x, y, hue, data, order, hue_order, estimator, ci, n_boot, units, seed, orient, color, palette, saturation, errcolor, errwidth, capsize, dodge, ax, **kwargs)\u001b[0m\n\u001b[1;32m   3169\u001b[0m \u001b[38;5;129m@_deprecate_positional_args\u001b[39m\n\u001b[1;32m   3170\u001b[0m \u001b[38;5;28;01mdef\u001b[39;00m \u001b[38;5;21mbarplot\u001b[39m(\n\u001b[1;32m   3171\u001b[0m     \u001b[38;5;241m*\u001b[39m,\n\u001b[0;32m   (...)\u001b[0m\n\u001b[1;32m   3179\u001b[0m     \u001b[38;5;241m*\u001b[39m\u001b[38;5;241m*\u001b[39mkwargs,\n\u001b[1;32m   3180\u001b[0m ):\n\u001b[0;32m-> 3182\u001b[0m     plotter \u001b[38;5;241m=\u001b[39m \u001b[43m_BarPlotter\u001b[49m\u001b[43m(\u001b[49m\u001b[43mx\u001b[49m\u001b[43m,\u001b[49m\u001b[43m \u001b[49m\u001b[43my\u001b[49m\u001b[43m,\u001b[49m\u001b[43m \u001b[49m\u001b[43mhue\u001b[49m\u001b[43m,\u001b[49m\u001b[43m \u001b[49m\u001b[43mdata\u001b[49m\u001b[43m,\u001b[49m\u001b[43m \u001b[49m\u001b[43morder\u001b[49m\u001b[43m,\u001b[49m\u001b[43m \u001b[49m\u001b[43mhue_order\u001b[49m\u001b[43m,\u001b[49m\n\u001b[1;32m   3183\u001b[0m \u001b[43m                          \u001b[49m\u001b[43mestimator\u001b[49m\u001b[43m,\u001b[49m\u001b[43m \u001b[49m\u001b[43mci\u001b[49m\u001b[43m,\u001b[49m\u001b[43m \u001b[49m\u001b[43mn_boot\u001b[49m\u001b[43m,\u001b[49m\u001b[43m \u001b[49m\u001b[43munits\u001b[49m\u001b[43m,\u001b[49m\u001b[43m \u001b[49m\u001b[43mseed\u001b[49m\u001b[43m,\u001b[49m\n\u001b[1;32m   3184\u001b[0m \u001b[43m                          \u001b[49m\u001b[43morient\u001b[49m\u001b[43m,\u001b[49m\u001b[43m \u001b[49m\u001b[43mcolor\u001b[49m\u001b[43m,\u001b[49m\u001b[43m \u001b[49m\u001b[43mpalette\u001b[49m\u001b[43m,\u001b[49m\u001b[43m \u001b[49m\u001b[43msaturation\u001b[49m\u001b[43m,\u001b[49m\n\u001b[1;32m   3185\u001b[0m \u001b[43m                          \u001b[49m\u001b[43merrcolor\u001b[49m\u001b[43m,\u001b[49m\u001b[43m \u001b[49m\u001b[43merrwidth\u001b[49m\u001b[43m,\u001b[49m\u001b[43m \u001b[49m\u001b[43mcapsize\u001b[49m\u001b[43m,\u001b[49m\u001b[43m \u001b[49m\u001b[43mdodge\u001b[49m\u001b[43m)\u001b[49m\n\u001b[1;32m   3187\u001b[0m     \u001b[38;5;28;01mif\u001b[39;00m ax \u001b[38;5;129;01mis\u001b[39;00m \u001b[38;5;28;01mNone\u001b[39;00m:\n\u001b[1;32m   3188\u001b[0m         ax \u001b[38;5;241m=\u001b[39m plt\u001b[38;5;241m.\u001b[39mgca()\n",
      "File \u001b[0;32m/opt/homebrew/anaconda3/lib/python3.9/site-packages/seaborn/categorical.py:1584\u001b[0m, in \u001b[0;36m_BarPlotter.__init__\u001b[0;34m(self, x, y, hue, data, order, hue_order, estimator, ci, n_boot, units, seed, orient, color, palette, saturation, errcolor, errwidth, capsize, dodge)\u001b[0m\n\u001b[1;32m   1579\u001b[0m \u001b[38;5;28;01mdef\u001b[39;00m \u001b[38;5;21m__init__\u001b[39m(\u001b[38;5;28mself\u001b[39m, x, y, hue, data, order, hue_order,\n\u001b[1;32m   1580\u001b[0m              estimator, ci, n_boot, units, seed,\n\u001b[1;32m   1581\u001b[0m              orient, color, palette, saturation, errcolor,\n\u001b[1;32m   1582\u001b[0m              errwidth, capsize, dodge):\n\u001b[1;32m   1583\u001b[0m     \u001b[38;5;124;03m\"\"\"Initialize the plotter.\"\"\"\u001b[39;00m\n\u001b[0;32m-> 1584\u001b[0m     \u001b[38;5;28;43mself\u001b[39;49m\u001b[38;5;241;43m.\u001b[39;49m\u001b[43mestablish_variables\u001b[49m\u001b[43m(\u001b[49m\u001b[43mx\u001b[49m\u001b[43m,\u001b[49m\u001b[43m \u001b[49m\u001b[43my\u001b[49m\u001b[43m,\u001b[49m\u001b[43m \u001b[49m\u001b[43mhue\u001b[49m\u001b[43m,\u001b[49m\u001b[43m \u001b[49m\u001b[43mdata\u001b[49m\u001b[43m,\u001b[49m\u001b[43m \u001b[49m\u001b[43morient\u001b[49m\u001b[43m,\u001b[49m\n\u001b[1;32m   1585\u001b[0m \u001b[43m                             \u001b[49m\u001b[43morder\u001b[49m\u001b[43m,\u001b[49m\u001b[43m \u001b[49m\u001b[43mhue_order\u001b[49m\u001b[43m,\u001b[49m\u001b[43m \u001b[49m\u001b[43munits\u001b[49m\u001b[43m)\u001b[49m\n\u001b[1;32m   1586\u001b[0m     \u001b[38;5;28mself\u001b[39m\u001b[38;5;241m.\u001b[39mestablish_colors(color, palette, saturation)\n\u001b[1;32m   1587\u001b[0m     \u001b[38;5;28mself\u001b[39m\u001b[38;5;241m.\u001b[39mestimate_statistic(estimator, ci, n_boot, seed)\n",
      "File \u001b[0;32m/opt/homebrew/anaconda3/lib/python3.9/site-packages/seaborn/categorical.py:144\u001b[0m, in \u001b[0;36m_CategoricalPlotter.establish_variables\u001b[0;34m(self, x, y, hue, data, orient, order, hue_order, units)\u001b[0m\n\u001b[1;32m    136\u001b[0m \u001b[38;5;66;03m# Option 2:\u001b[39;00m\n\u001b[1;32m    137\u001b[0m \u001b[38;5;66;03m# We are plotting a long-form dataset\u001b[39;00m\n\u001b[1;32m    138\u001b[0m \u001b[38;5;66;03m# -----------------------------------\u001b[39;00m\n\u001b[0;32m   (...)\u001b[0m\n\u001b[1;32m    141\u001b[0m \n\u001b[1;32m    142\u001b[0m     \u001b[38;5;66;03m# See if we need to get variables from `data`\u001b[39;00m\n\u001b[1;32m    143\u001b[0m     \u001b[38;5;28;01mif\u001b[39;00m data \u001b[38;5;129;01mis\u001b[39;00m \u001b[38;5;129;01mnot\u001b[39;00m \u001b[38;5;28;01mNone\u001b[39;00m:\n\u001b[0;32m--> 144\u001b[0m         x \u001b[38;5;241m=\u001b[39m \u001b[43mdata\u001b[49m\u001b[38;5;241;43m.\u001b[39;49m\u001b[43mget\u001b[49m(x, x)\n\u001b[1;32m    145\u001b[0m         y \u001b[38;5;241m=\u001b[39m data\u001b[38;5;241m.\u001b[39mget(y, y)\n\u001b[1;32m    146\u001b[0m         hue \u001b[38;5;241m=\u001b[39m data\u001b[38;5;241m.\u001b[39mget(hue, hue)\n",
      "\u001b[0;31mAttributeError\u001b[0m: 'numpy.float64' object has no attribute 'get'"
     ]
    },
    {
     "data": {
      "text/plain": [
       "<Figure size 1200x600 with 0 Axes>"
      ]
     },
     "metadata": {},
     "output_type": "display_data"
    }
   ],
   "source": [
    "m.get_rf_plot(scores_rf)"
   ]
  },
  {
   "cell_type": "markdown",
   "id": "52f234ee-efcb-4683-b464-0e1db13bdae2",
   "metadata": {},
   "source": [
    ">- The model that has a max depth of 2 with min samples leaf is the best model to use. "
   ]
  },
  {
   "cell_type": "markdown",
   "id": "b478370c-dca9-47e8-8781-e3ff5b64a9aa",
   "metadata": {},
   "source": [
    "#### Logistic Regression Model Type"
   ]
  },
  {
   "cell_type": "code",
   "execution_count": null,
   "id": "fc19aedb-fff4-4668-ae8c-c4ada201c299",
   "metadata": {},
   "outputs": [],
   "source": [
    "logit = m.get_logit(X_train, y_train)"
   ]
  },
  {
   "cell_type": "code",
   "execution_count": null,
   "id": "c19fcf8d-0f21-4004-a0d3-aa2317c73c87",
   "metadata": {},
   "outputs": [],
   "source": [
    "# Baseline accuracy\n",
    "m.get_baseline_acc(train)"
   ]
  },
  {
   "cell_type": "code",
   "execution_count": null,
   "id": "16a33e1f-a5c7-4bb4-97d1-c7f54c919ef3",
   "metadata": {},
   "outputs": [],
   "source": [
    "m.get_logit_score(X_train, y_train)"
   ]
  },
  {
   "cell_type": "markdown",
   "id": "ca0f1a8d-5cac-404b-8b43-9019f7161d3b",
   "metadata": {},
   "source": [
    ">- The logistic Regression model performs better than the baseline using the hyperparameter class weight = 'balanced'."
   ]
  },
  {
   "cell_type": "code",
   "execution_count": null,
   "id": "72110836-fcab-4690-b32e-41d731bd8ab4",
   "metadata": {},
   "outputs": [],
   "source": [
    "#conf matrix\n",
    "m.get_logit_cm(logit,X_train, y_train)"
   ]
  },
  {
   "cell_type": "code",
   "execution_count": null,
   "id": "0f4010bc-d1d8-4978-8917-7aebc7d9b7c5",
   "metadata": {},
   "outputs": [],
   "source": [
    "m.get_logit_cr(logit, X_train, y_train)"
   ]
  },
  {
   "cell_type": "code",
   "execution_count": null,
   "id": "ab4aaf7e-95c6-4751-adc9-1bb5601786ab",
   "metadata": {},
   "outputs": [],
   "source": [
    "m.get_logit_train_val_acc(X_train, y_train, X_validate, y_validate)"
   ]
  },
  {
   "cell_type": "markdown",
   "id": "76c26e74-340d-4e06-a5aa-cc8627f5d48e",
   "metadata": {},
   "source": [
    "## Conclusion"
   ]
  },
  {
   "cell_type": "markdown",
   "id": "77a14dcd-e16b-4d20-8c0a-dded4911267b",
   "metadata": {},
   "source": [
    "Based on the exploration and modeling performed, it appears that the Random Forest Classifier was the most effective model for predicting customer churn for the given Telco customer dataset. The accuracy score achieved by the Random Forest Classifier was 80%, with an F1 score of 0.58, indicating that the model was able to correctly identify a significant portion of the true positives.\n",
    "\n",
    "During the exploration phase, several features were identified as being the most significant predictors of customer churn. These features included contract type, tenure, payment method, and monthly charges. Customers with shorter contract lengths, higher monthly charges, and payment methods other than electronic check were more likely to churn."
   ]
  },
  {
   "cell_type": "markdown",
   "id": "3f36a06b-858b-4469-b643-2e45b576482e",
   "metadata": {},
   "source": [
    "### Recommendations"
   ]
  },
  {
   "cell_type": "markdown",
   "id": "afe60c47-1c34-41f3-b06d-7c5d0c973f88",
   "metadata": {},
   "source": [
    "Based on the findings, it is recommended that the company focus on retaining customers with shorter contract lengths and higher monthly charges. Offering incentives such as loyalty rewards or discounts for customers who sign longer contracts or use electronic payment methods could also help reduce churn. Additionally, the company could conduct further analysis on the effectiveness of customer service, as it may play a role in customer retention."
   ]
  },
  {
   "cell_type": "markdown",
   "id": "2b378034-2a17-4c89-ba9d-fcd081c47a45",
   "metadata": {},
   "source": [
    "### Next Steps"
   ]
  },
  {
   "cell_type": "markdown",
   "id": "f6203531-e8e7-495e-bacb-708189382758",
   "metadata": {},
   "source": [
    "Next steps could include further exploration of feature engineering and selection, as well as testing additional models such as logistic regression or support vector machines. It may also be useful to gather additional data, such as customer satisfaction ratings or competitor analysis, to gain a more comprehensive understanding of the factors that influence customer churn in this market.\n"
   ]
  },
  {
   "cell_type": "markdown",
   "id": "641258d7-09db-49e6-9952-a080a347da59",
   "metadata": {},
   "source": [
    "## Predictions (.csv)"
   ]
  },
  {
   "cell_type": "code",
   "execution_count": null,
   "id": "4f8ce589-e037-47bc-942a-3e52666a73df",
   "metadata": {},
   "outputs": [],
   "source": [
    "# Customer prediction churn utilizing the random forest model\n",
    "predictions_df = w.get_predictions_df(rf,X_test,test)\n",
    "predictions_df"
   ]
  }
 ],
 "metadata": {
  "kernelspec": {
   "display_name": "Python 3 (ipykernel)",
   "language": "python",
   "name": "python3"
  },
  "language_info": {
   "codemirror_mode": {
    "name": "ipython",
    "version": 3
   },
   "file_extension": ".py",
   "mimetype": "text/x-python",
   "name": "python",
   "nbconvert_exporter": "python",
   "pygments_lexer": "ipython3",
   "version": "3.9.13"
  }
 },
 "nbformat": 4,
 "nbformat_minor": 5
}
