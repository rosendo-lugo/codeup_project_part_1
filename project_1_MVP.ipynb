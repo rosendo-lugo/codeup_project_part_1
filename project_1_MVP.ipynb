{
 "cells": [
  {
   "cell_type": "markdown",
   "id": "02ac43b5-bc19-46d1-9820-5eb7034da4f1",
   "metadata": {},
   "source": [
    "# Telco Project Part I"
   ]
  },
  {
   "cell_type": "markdown",
   "id": "975d299d-a11f-4f4f-8206-dffbb5aaf400",
   "metadata": {},
   "source": [
    "## Goals:\n",
    "\n",
    ">- To identify the factors that contribute to customer churn in the Telco dataset.\n",
    ">- To develop strategies for retaining customers who are at high risk of churning, based on their tenure and other characteristics.\n",
    ">- To determine whether there are specific payment methods that are associated with higher rates of churn and to develop recommendations for improving retention for customers who use those payment methods.\n",
    ">- To investigate whether there is a relationship between the number of services a customer has and their likelihood of churning, and to develop strategies for retaining customers who are at high risk of churning based on their service usage."
   ]
  },
  {
   "cell_type": "markdown",
   "id": "9e0c853e-2764-4da4-ab11-f96b37a90e6d",
   "metadata": {},
   "source": [
    "## Imports"
   ]
  },
  {
   "cell_type": "code",
   "execution_count": 1,
   "id": "6ddf971c-fc82-43e4-bd33-c1ded8373973",
   "metadata": {},
   "outputs": [],
   "source": [
    "# Standard imports\n",
    "import pandas as pd\n",
    "import numpy as np\n",
    "\n",
    "# Graph imports\n",
    "import matplotlib.pyplot as plt\n",
    "import seaborn as sns\n",
    "import os\n",
    "\n",
    "# SKLearn imports\n",
    "from sklearn.model_selection import train_test_split\n",
    "import sklearn.preprocessing\n",
    "from sklearn.tree import DecisionTreeClassifier\n",
    "from sklearn.ensemble import RandomForestClassifier\n",
    "from sklearn.neighbors import KNeighborsClassifier\n",
    "from sklearn.linear_model import LogisticRegression\n",
    "\n",
    "#import this for the decision tree!\n",
    "from sklearn.tree import DecisionTreeClassifier\n",
    "from sklearn.metrics import classification_report, confusion_matrix, plot_confusion_matrix\n",
    "from sklearn.tree import plot_tree\n",
    "\n",
    "# Import to ignore warnings\n",
    "import warnings\n",
    "warnings.filterwarnings(\"ignore\")\n",
    "\n",
    "# Stats import\n",
    "import scipy.stats as stats\n",
    "import re\n",
    "\n",
    "# My imports\n",
    "import wrangle as w\n",
    "import prepare as p\n",
    "import acquire as a"
   ]
  },
  {
   "cell_type": "markdown",
   "id": "1624e7c7-02df-4a38-ae60-1c1296b60a12",
   "metadata": {},
   "source": [
    "### Acquire"
   ]
  },
  {
   "cell_type": "markdown",
   "id": "8386b4cf-ac5d-4bdb-916b-96d079067f38",
   "metadata": {},
   "source": [
    ">- Got the data from a telco company's database in MySQL.\n",
    ">- The dataset has information on 7,043 customers and 24 different features, including personal information and details about the services they're using.\n",
    ">- The data types include floats, integers, and objects.\n",
    ">- Each row in the dataset represents a single customer.\n",
    ">- Each column in the dataset represents a specific feature of the customer or their services."
   ]
  },
  {
   "cell_type": "code",
   "execution_count": 2,
   "id": "fc8fb657-1f82-4a19-8a3d-3f7eebf51684",
   "metadata": {},
   "outputs": [
    {
     "name": "stdout",
     "output_type": "stream",
     "text": [
      "csv file found and loaded\n"
     ]
    }
   ],
   "source": [
    "# Get your telco data\n",
    "telco_df = a.get_telco_data()"
   ]
  },
  {
   "cell_type": "code",
   "execution_count": 3,
   "id": "1b240d95-d35c-43a2-a968-8fbb602472d7",
   "metadata": {},
   "outputs": [
    {
     "data": {
      "text/html": [
       "<style type=\"text/css\">\n",
       "#T_fbd93 th {\n",
       "  text-align: left;\n",
       "}\n",
       "#T_fbd93_row0_col0, #T_fbd93_row0_col1, #T_fbd93_row1_col0, #T_fbd93_row1_col1, #T_fbd93_row2_col0, #T_fbd93_row2_col1, #T_fbd93_row3_col0, #T_fbd93_row3_col1, #T_fbd93_row4_col0, #T_fbd93_row4_col1, #T_fbd93_row5_col0, #T_fbd93_row5_col1, #T_fbd93_row6_col0, #T_fbd93_row6_col1, #T_fbd93_row7_col0, #T_fbd93_row7_col1, #T_fbd93_row8_col0, #T_fbd93_row8_col1, #T_fbd93_row9_col0, #T_fbd93_row9_col1, #T_fbd93_row10_col0, #T_fbd93_row10_col1, #T_fbd93_row11_col0, #T_fbd93_row11_col1, #T_fbd93_row12_col0, #T_fbd93_row12_col1, #T_fbd93_row13_col0, #T_fbd93_row13_col1, #T_fbd93_row14_col0, #T_fbd93_row14_col1, #T_fbd93_row15_col0, #T_fbd93_row15_col1, #T_fbd93_row16_col0, #T_fbd93_row16_col1, #T_fbd93_row17_col0, #T_fbd93_row17_col1, #T_fbd93_row18_col0, #T_fbd93_row18_col1, #T_fbd93_row19_col0, #T_fbd93_row19_col1, #T_fbd93_row20_col0, #T_fbd93_row20_col1, #T_fbd93_row21_col0, #T_fbd93_row21_col1, #T_fbd93_row22_col0, #T_fbd93_row22_col1, #T_fbd93_row23_col0, #T_fbd93_row23_col1 {\n",
       "  text-align: left;\n",
       "}\n",
       "</style>\n",
       "<table id=\"T_fbd93\">\n",
       "  <thead>\n",
       "    <tr>\n",
       "      <th id=\"T_fbd93_level0_col0\" class=\"col_heading level0 col0\" >features</th>\n",
       "      <th id=\"T_fbd93_level0_col1\" class=\"col_heading level0 col1\" >definition</th>\n",
       "    </tr>\n",
       "  </thead>\n",
       "  <tbody>\n",
       "    <tr>\n",
       "      <td id=\"T_fbd93_row0_col0\" class=\"data row0 col0\" >payment_type_id</td>\n",
       "      <td id=\"T_fbd93_row0_col1\" class=\"data row0 col1\" >Payment type ID</td>\n",
       "    </tr>\n",
       "    <tr>\n",
       "      <td id=\"T_fbd93_row1_col0\" class=\"data row1 col0\" >internet_service_type_id</td>\n",
       "      <td id=\"T_fbd93_row1_col1\" class=\"data row1 col1\" >Internet service type ID</td>\n",
       "    </tr>\n",
       "    <tr>\n",
       "      <td id=\"T_fbd93_row2_col0\" class=\"data row2 col0\" >contract_type_id</td>\n",
       "      <td id=\"T_fbd93_row2_col1\" class=\"data row2 col1\" >Contract type ID</td>\n",
       "    </tr>\n",
       "    <tr>\n",
       "      <td id=\"T_fbd93_row3_col0\" class=\"data row3 col0\" >customer_id</td>\n",
       "      <td id=\"T_fbd93_row3_col1\" class=\"data row3 col1\" >Customer ID</td>\n",
       "    </tr>\n",
       "    <tr>\n",
       "      <td id=\"T_fbd93_row4_col0\" class=\"data row4 col0\" >gender</td>\n",
       "      <td id=\"T_fbd93_row4_col1\" class=\"data row4 col1\" >Whether the customer is a male or a female</td>\n",
       "    </tr>\n",
       "    <tr>\n",
       "      <td id=\"T_fbd93_row5_col0\" class=\"data row5 col0\" >senior_citizen</td>\n",
       "      <td id=\"T_fbd93_row5_col1\" class=\"data row5 col1\" >Whether the customer is a senior citizen or not</td>\n",
       "    </tr>\n",
       "    <tr>\n",
       "      <td id=\"T_fbd93_row6_col0\" class=\"data row6 col0\" >partner</td>\n",
       "      <td id=\"T_fbd93_row6_col1\" class=\"data row6 col1\" >Whether the customer has a partner or not</td>\n",
       "    </tr>\n",
       "    <tr>\n",
       "      <td id=\"T_fbd93_row7_col0\" class=\"data row7 col0\" >dependents</td>\n",
       "      <td id=\"T_fbd93_row7_col1\" class=\"data row7 col1\" >Whether the customer has dependents or not</td>\n",
       "    </tr>\n",
       "    <tr>\n",
       "      <td id=\"T_fbd93_row8_col0\" class=\"data row8 col0\" >tenure</td>\n",
       "      <td id=\"T_fbd93_row8_col1\" class=\"data row8 col1\" >Number of months the customer has stayed with the company</td>\n",
       "    </tr>\n",
       "    <tr>\n",
       "      <td id=\"T_fbd93_row9_col0\" class=\"data row9 col0\" >phone_service</td>\n",
       "      <td id=\"T_fbd93_row9_col1\" class=\"data row9 col1\" >Whether the customer has a phone service or not</td>\n",
       "    </tr>\n",
       "    <tr>\n",
       "      <td id=\"T_fbd93_row10_col0\" class=\"data row10 col0\" >multiple_lines</td>\n",
       "      <td id=\"T_fbd93_row10_col1\" class=\"data row10 col1\" >Whether the customer has multiple lines or not</td>\n",
       "    </tr>\n",
       "    <tr>\n",
       "      <td id=\"T_fbd93_row11_col0\" class=\"data row11 col0\" >online_security</td>\n",
       "      <td id=\"T_fbd93_row11_col1\" class=\"data row11 col1\" >Whether the customer has online security or not</td>\n",
       "    </tr>\n",
       "    <tr>\n",
       "      <td id=\"T_fbd93_row12_col0\" class=\"data row12 col0\" >online_backup</td>\n",
       "      <td id=\"T_fbd93_row12_col1\" class=\"data row12 col1\" >Whether the customer has online backup or not</td>\n",
       "    </tr>\n",
       "    <tr>\n",
       "      <td id=\"T_fbd93_row13_col0\" class=\"data row13 col0\" >device_protection</td>\n",
       "      <td id=\"T_fbd93_row13_col1\" class=\"data row13 col1\" >Whether the customer has device protection or not</td>\n",
       "    </tr>\n",
       "    <tr>\n",
       "      <td id=\"T_fbd93_row14_col0\" class=\"data row14 col0\" >tech_support</td>\n",
       "      <td id=\"T_fbd93_row14_col1\" class=\"data row14 col1\" >Whether the customer has tech support or not</td>\n",
       "    </tr>\n",
       "    <tr>\n",
       "      <td id=\"T_fbd93_row15_col0\" class=\"data row15 col0\" >streaming_tv</td>\n",
       "      <td id=\"T_fbd93_row15_col1\" class=\"data row15 col1\" >Whether the customer has streaming TV or not</td>\n",
       "    </tr>\n",
       "    <tr>\n",
       "      <td id=\"T_fbd93_row16_col0\" class=\"data row16 col0\" >streaming_movies</td>\n",
       "      <td id=\"T_fbd93_row16_col1\" class=\"data row16 col1\" >Whether the customer has streaming movies or not</td>\n",
       "    </tr>\n",
       "    <tr>\n",
       "      <td id=\"T_fbd93_row17_col0\" class=\"data row17 col0\" >paperless_billing</td>\n",
       "      <td id=\"T_fbd93_row17_col1\" class=\"data row17 col1\" >Whether the customer has paperless billing or not</td>\n",
       "    </tr>\n",
       "    <tr>\n",
       "      <td id=\"T_fbd93_row18_col0\" class=\"data row18 col0\" >monthly_charges</td>\n",
       "      <td id=\"T_fbd93_row18_col1\" class=\"data row18 col1\" >The amount charged to the customer monthly</td>\n",
       "    </tr>\n",
       "    <tr>\n",
       "      <td id=\"T_fbd93_row19_col0\" class=\"data row19 col0\" >total_charges</td>\n",
       "      <td id=\"T_fbd93_row19_col1\" class=\"data row19 col1\" >The total amount charged to the customer</td>\n",
       "    </tr>\n",
       "    <tr>\n",
       "      <td id=\"T_fbd93_row20_col0\" class=\"data row20 col0\" >churn</td>\n",
       "      <td id=\"T_fbd93_row20_col1\" class=\"data row20 col1\" >Whether the customer churned or not</td>\n",
       "    </tr>\n",
       "    <tr>\n",
       "      <td id=\"T_fbd93_row21_col0\" class=\"data row21 col0\" >contract_type</td>\n",
       "      <td id=\"T_fbd93_row21_col1\" class=\"data row21 col1\" >The contract term of the customer (Month-to-month, One year, Two year)</td>\n",
       "    </tr>\n",
       "    <tr>\n",
       "      <td id=\"T_fbd93_row22_col0\" class=\"data row22 col0\" >internet_service_type</td>\n",
       "      <td id=\"T_fbd93_row22_col1\" class=\"data row22 col1\" >Customer’s internet service provider (DSL, Fiber optic, No)</td>\n",
       "    </tr>\n",
       "    <tr>\n",
       "      <td id=\"T_fbd93_row23_col0\" class=\"data row23 col0\" >payment_type</td>\n",
       "      <td id=\"T_fbd93_row23_col1\" class=\"data row23 col1\" >The customer’s payment method (Electronic check, Mailed check, Bank transfer (automatic), Credit card (automatic))</td>\n",
       "    </tr>\n",
       "  </tbody>\n",
       "</table>\n"
      ],
      "text/plain": [
       "<pandas.io.formats.style.Styler at 0x103cc8e20>"
      ]
     },
     "metadata": {},
     "output_type": "display_data"
    }
   ],
   "source": [
    "# acquire the data dictionary\n",
    "data_dictionary = w.data_dictionary(telco_df)"
   ]
  },
  {
   "cell_type": "markdown",
   "id": "7fe2fb9a-29ec-4f3b-8a34-e3f43bd5f5b3",
   "metadata": {},
   "source": [
    "### Prepare"
   ]
  },
  {
   "cell_type": "markdown",
   "id": "76dee32d-9bd1-4809-9ce2-487590ca2f2a",
   "metadata": {},
   "source": [
    "Prepare actions:\n",
    "\n",
    ">- Prepared the data by applying a series of transformations using a custom functions defined in the prepare file. The function removed unnecessary columns, added new columns as needed, and renamed some of the columns for clarity.\n",
    "\n",
    ">- Also performed some data cleaning steps to ensure the quality of the dataset. Specifically, checked for missing values and duplicates, but found none.\n",
    "\n",
    ">- To make the dataset more consistent, I standardized the column names by replacing spaces with underscores and converting all text to lowercase."
   ]
  },
  {
   "cell_type": "code",
   "execution_count": 4,
   "id": "5e1ee2e8-2b61-48ac-b40a-05d0c456c8ea",
   "metadata": {},
   "outputs": [],
   "source": [
    "# Clean the new dataset using the new function called prep_telco\n",
    "telco_df = p.prep_telco(telco_df)\n",
    "\n",
    "# Split your data into train, validate and test\n",
    "train, validate, test = p.split_function(telco_df, 'churn')"
   ]
  },
  {
   "cell_type": "markdown",
   "id": "ee1d255a-4f0f-4d4d-a72e-8869f81bcdda",
   "metadata": {},
   "source": [
    "### Take a look at the data"
   ]
  },
  {
   "cell_type": "code",
   "execution_count": 5,
   "id": "a6237629-5231-4037-b101-85d741338ac9",
   "metadata": {},
   "outputs": [
    {
     "name": "stdout",
     "output_type": "stream",
     "text": [
      "<class 'pandas.core.frame.DataFrame'>\n",
      "Int64Index: 7043 entries, 0 to 7042\n",
      "Data columns (total 33 columns):\n",
      " #   Column                                 Non-Null Count  Dtype  \n",
      "---  ------                                 --------------  -----  \n",
      " 0   customer_id                            7043 non-null   object \n",
      " 1   senior_citizen                         7043 non-null   int64  \n",
      " 2   tenure                                 7043 non-null   int64  \n",
      " 3   monthly_charges                        7043 non-null   float64\n",
      " 4   total_charges                          7043 non-null   float64\n",
      " 5   payment_type                           7043 non-null   object \n",
      " 6   gender_male                            7043 non-null   uint8  \n",
      " 7   partner_yes                            7043 non-null   uint8  \n",
      " 8   dependents_yes                         7043 non-null   uint8  \n",
      " 9   phone_service_yes                      7043 non-null   uint8  \n",
      " 10  multiple_lines_no_phone_service        7043 non-null   uint8  \n",
      " 11  multiple_lines_yes                     7043 non-null   uint8  \n",
      " 12  online_security_no_internet_service    7043 non-null   uint8  \n",
      " 13  online_security_yes                    7043 non-null   uint8  \n",
      " 14  online_backup_no_internet_service      7043 non-null   uint8  \n",
      " 15  online_backup_yes                      7043 non-null   uint8  \n",
      " 16  device_protection_no_internet_service  7043 non-null   uint8  \n",
      " 17  device_protection_yes                  7043 non-null   uint8  \n",
      " 18  tech_support_no_internet_service       7043 non-null   uint8  \n",
      " 19  tech_support_yes                       7043 non-null   uint8  \n",
      " 20  streaming_tv_no_internet_service       7043 non-null   uint8  \n",
      " 21  streaming_tv_yes                       7043 non-null   uint8  \n",
      " 22  streaming_movies_no_internet_service   7043 non-null   uint8  \n",
      " 23  streaming_movies_yes                   7043 non-null   uint8  \n",
      " 24  paperless_billing_yes                  7043 non-null   uint8  \n",
      " 25  churn                                  7043 non-null   uint8  \n",
      " 26  contract_type_one_year                 7043 non-null   uint8  \n",
      " 27  contract_type_two_year                 7043 non-null   uint8  \n",
      " 28  internet_service_type_fiber_optic      7043 non-null   uint8  \n",
      " 29  internet_service_type_none             7043 non-null   uint8  \n",
      " 30  payment_type_credit_card_(automatic)   7043 non-null   uint8  \n",
      " 31  payment_type_electronic_check          7043 non-null   uint8  \n",
      " 32  payment_type_mailed_check              7043 non-null   uint8  \n",
      "dtypes: float64(2), int64(2), object(2), uint8(27)\n",
      "memory usage: 570.9+ KB\n"
     ]
    }
   ],
   "source": [
    "# Looking at the information inside the data. \n",
    "telco_df.info()"
   ]
  },
  {
   "cell_type": "code",
   "execution_count": 6,
   "id": "10c37af6-3b13-4284-9e23-fea0c64303f3",
   "metadata": {},
   "outputs": [
    {
     "data": {
      "text/html": [
       "<div>\n",
       "<style scoped>\n",
       "    .dataframe tbody tr th:only-of-type {\n",
       "        vertical-align: middle;\n",
       "    }\n",
       "\n",
       "    .dataframe tbody tr th {\n",
       "        vertical-align: top;\n",
       "    }\n",
       "\n",
       "    .dataframe thead th {\n",
       "        text-align: right;\n",
       "    }\n",
       "</style>\n",
       "<table border=\"1\" class=\"dataframe\">\n",
       "  <thead>\n",
       "    <tr style=\"text-align: right;\">\n",
       "      <th></th>\n",
       "      <th>customer_id</th>\n",
       "      <th>senior_citizen</th>\n",
       "      <th>tenure</th>\n",
       "      <th>monthly_charges</th>\n",
       "      <th>total_charges</th>\n",
       "      <th>payment_type</th>\n",
       "      <th>gender_male</th>\n",
       "      <th>partner_yes</th>\n",
       "      <th>dependents_yes</th>\n",
       "      <th>phone_service_yes</th>\n",
       "      <th>...</th>\n",
       "      <th>streaming_movies_yes</th>\n",
       "      <th>paperless_billing_yes</th>\n",
       "      <th>churn</th>\n",
       "      <th>contract_type_one_year</th>\n",
       "      <th>contract_type_two_year</th>\n",
       "      <th>internet_service_type_fiber_optic</th>\n",
       "      <th>internet_service_type_none</th>\n",
       "      <th>payment_type_credit_card_(automatic)</th>\n",
       "      <th>payment_type_electronic_check</th>\n",
       "      <th>payment_type_mailed_check</th>\n",
       "    </tr>\n",
       "  </thead>\n",
       "  <tbody>\n",
       "    <tr>\n",
       "      <th>5310</th>\n",
       "      <td>7503-MIOGA</td>\n",
       "      <td>1</td>\n",
       "      <td>72</td>\n",
       "      <td>89.85</td>\n",
       "      <td>6697.35</td>\n",
       "      <td>Bank transfer (automatic)</td>\n",
       "      <td>0</td>\n",
       "      <td>1</td>\n",
       "      <td>0</td>\n",
       "      <td>1</td>\n",
       "      <td>...</td>\n",
       "      <td>1</td>\n",
       "      <td>1</td>\n",
       "      <td>0</td>\n",
       "      <td>0</td>\n",
       "      <td>1</td>\n",
       "      <td>0</td>\n",
       "      <td>0</td>\n",
       "      <td>0</td>\n",
       "      <td>0</td>\n",
       "      <td>0</td>\n",
       "    </tr>\n",
       "    <tr>\n",
       "      <th>3790</th>\n",
       "      <td>5329-KRDTM</td>\n",
       "      <td>1</td>\n",
       "      <td>72</td>\n",
       "      <td>77.35</td>\n",
       "      <td>5396.25</td>\n",
       "      <td>Credit card (automatic)</td>\n",
       "      <td>1</td>\n",
       "      <td>1</td>\n",
       "      <td>0</td>\n",
       "      <td>1</td>\n",
       "      <td>...</td>\n",
       "      <td>0</td>\n",
       "      <td>0</td>\n",
       "      <td>0</td>\n",
       "      <td>0</td>\n",
       "      <td>1</td>\n",
       "      <td>0</td>\n",
       "      <td>0</td>\n",
       "      <td>1</td>\n",
       "      <td>0</td>\n",
       "      <td>0</td>\n",
       "    </tr>\n",
       "    <tr>\n",
       "      <th>4398</th>\n",
       "      <td>6199-IWKGC</td>\n",
       "      <td>1</td>\n",
       "      <td>46</td>\n",
       "      <td>100.25</td>\n",
       "      <td>4753.85</td>\n",
       "      <td>Electronic check</td>\n",
       "      <td>0</td>\n",
       "      <td>1</td>\n",
       "      <td>0</td>\n",
       "      <td>1</td>\n",
       "      <td>...</td>\n",
       "      <td>1</td>\n",
       "      <td>0</td>\n",
       "      <td>0</td>\n",
       "      <td>1</td>\n",
       "      <td>0</td>\n",
       "      <td>1</td>\n",
       "      <td>0</td>\n",
       "      <td>0</td>\n",
       "      <td>1</td>\n",
       "      <td>0</td>\n",
       "    </tr>\n",
       "    <tr>\n",
       "      <th>2635</th>\n",
       "      <td>3748-FVMZZ</td>\n",
       "      <td>0</td>\n",
       "      <td>4</td>\n",
       "      <td>40.05</td>\n",
       "      <td>162.45</td>\n",
       "      <td>Electronic check</td>\n",
       "      <td>1</td>\n",
       "      <td>0</td>\n",
       "      <td>0</td>\n",
       "      <td>0</td>\n",
       "      <td>...</td>\n",
       "      <td>1</td>\n",
       "      <td>1</td>\n",
       "      <td>0</td>\n",
       "      <td>0</td>\n",
       "      <td>0</td>\n",
       "      <td>0</td>\n",
       "      <td>0</td>\n",
       "      <td>0</td>\n",
       "      <td>1</td>\n",
       "      <td>0</td>\n",
       "    </tr>\n",
       "    <tr>\n",
       "      <th>2986</th>\n",
       "      <td>4280-DLSHD</td>\n",
       "      <td>0</td>\n",
       "      <td>8</td>\n",
       "      <td>54.75</td>\n",
       "      <td>445.85</td>\n",
       "      <td>Mailed check</td>\n",
       "      <td>1</td>\n",
       "      <td>1</td>\n",
       "      <td>0</td>\n",
       "      <td>1</td>\n",
       "      <td>...</td>\n",
       "      <td>0</td>\n",
       "      <td>1</td>\n",
       "      <td>0</td>\n",
       "      <td>0</td>\n",
       "      <td>0</td>\n",
       "      <td>0</td>\n",
       "      <td>0</td>\n",
       "      <td>0</td>\n",
       "      <td>0</td>\n",
       "      <td>1</td>\n",
       "    </tr>\n",
       "  </tbody>\n",
       "</table>\n",
       "<p>5 rows × 33 columns</p>\n",
       "</div>"
      ],
      "text/plain": [
       "     customer_id  senior_citizen  tenure  monthly_charges  total_charges  \\\n",
       "5310  7503-MIOGA               1      72            89.85        6697.35   \n",
       "3790  5329-KRDTM               1      72            77.35        5396.25   \n",
       "4398  6199-IWKGC               1      46           100.25        4753.85   \n",
       "2635  3748-FVMZZ               0       4            40.05         162.45   \n",
       "2986  4280-DLSHD               0       8            54.75         445.85   \n",
       "\n",
       "                   payment_type  gender_male  partner_yes  dependents_yes  \\\n",
       "5310  Bank transfer (automatic)            0            1               0   \n",
       "3790    Credit card (automatic)            1            1               0   \n",
       "4398           Electronic check            0            1               0   \n",
       "2635           Electronic check            1            0               0   \n",
       "2986               Mailed check            1            1               0   \n",
       "\n",
       "      phone_service_yes  ...  streaming_movies_yes  paperless_billing_yes  \\\n",
       "5310                  1  ...                     1                      1   \n",
       "3790                  1  ...                     0                      0   \n",
       "4398                  1  ...                     1                      0   \n",
       "2635                  0  ...                     1                      1   \n",
       "2986                  1  ...                     0                      1   \n",
       "\n",
       "      churn  contract_type_one_year  contract_type_two_year  \\\n",
       "5310      0                       0                       1   \n",
       "3790      0                       0                       1   \n",
       "4398      0                       1                       0   \n",
       "2635      0                       0                       0   \n",
       "2986      0                       0                       0   \n",
       "\n",
       "      internet_service_type_fiber_optic  internet_service_type_none  \\\n",
       "5310                                  0                           0   \n",
       "3790                                  0                           0   \n",
       "4398                                  1                           0   \n",
       "2635                                  0                           0   \n",
       "2986                                  0                           0   \n",
       "\n",
       "      payment_type_credit_card_(automatic)  payment_type_electronic_check  \\\n",
       "5310                                     0                              0   \n",
       "3790                                     1                              0   \n",
       "4398                                     0                              1   \n",
       "2635                                     0                              1   \n",
       "2986                                     0                              0   \n",
       "\n",
       "      payment_type_mailed_check  \n",
       "5310                          0  \n",
       "3790                          0  \n",
       "4398                          0  \n",
       "2635                          0  \n",
       "2986                          1  \n",
       "\n",
       "[5 rows x 33 columns]"
      ]
     },
     "execution_count": 6,
     "metadata": {},
     "output_type": "execute_result"
    }
   ],
   "source": [
    "# Pull only the five first rows of the data\n",
    "train.head()"
   ]
  },
  {
   "cell_type": "markdown",
   "id": "09c5ef4a-be01-4407-a7fc-68163b254b2f",
   "metadata": {},
   "source": [
    "### Description of the Data"
   ]
  },
  {
   "cell_type": "code",
   "execution_count": 7,
   "id": "3d3e915c-e58a-44c2-b7cb-381e38300357",
   "metadata": {},
   "outputs": [
    {
     "data": {
      "text/html": [
       "<div>\n",
       "<style scoped>\n",
       "    .dataframe tbody tr th:only-of-type {\n",
       "        vertical-align: middle;\n",
       "    }\n",
       "\n",
       "    .dataframe tbody tr th {\n",
       "        vertical-align: top;\n",
       "    }\n",
       "\n",
       "    .dataframe thead th {\n",
       "        text-align: right;\n",
       "    }\n",
       "</style>\n",
       "<table border=\"1\" class=\"dataframe\">\n",
       "  <thead>\n",
       "    <tr style=\"text-align: right;\">\n",
       "      <th></th>\n",
       "      <th>senior_citizen</th>\n",
       "      <th>tenure</th>\n",
       "      <th>monthly_charges</th>\n",
       "      <th>total_charges</th>\n",
       "      <th>gender_male</th>\n",
       "      <th>partner_yes</th>\n",
       "      <th>dependents_yes</th>\n",
       "      <th>phone_service_yes</th>\n",
       "      <th>multiple_lines_no_phone_service</th>\n",
       "      <th>multiple_lines_yes</th>\n",
       "      <th>...</th>\n",
       "      <th>streaming_movies_yes</th>\n",
       "      <th>paperless_billing_yes</th>\n",
       "      <th>churn</th>\n",
       "      <th>contract_type_one_year</th>\n",
       "      <th>contract_type_two_year</th>\n",
       "      <th>internet_service_type_fiber_optic</th>\n",
       "      <th>internet_service_type_none</th>\n",
       "      <th>payment_type_credit_card_(automatic)</th>\n",
       "      <th>payment_type_electronic_check</th>\n",
       "      <th>payment_type_mailed_check</th>\n",
       "    </tr>\n",
       "  </thead>\n",
       "  <tbody>\n",
       "    <tr>\n",
       "      <th>count</th>\n",
       "      <td>3943.000000</td>\n",
       "      <td>3943.000000</td>\n",
       "      <td>3943.000000</td>\n",
       "      <td>3943.000000</td>\n",
       "      <td>3943.000000</td>\n",
       "      <td>3943.000000</td>\n",
       "      <td>3943.000000</td>\n",
       "      <td>3943.000000</td>\n",
       "      <td>3943.000000</td>\n",
       "      <td>3943.000000</td>\n",
       "      <td>...</td>\n",
       "      <td>3943.000000</td>\n",
       "      <td>3943.000000</td>\n",
       "      <td>3943.000000</td>\n",
       "      <td>3943.000000</td>\n",
       "      <td>3943.000000</td>\n",
       "      <td>3943.000000</td>\n",
       "      <td>3943.000000</td>\n",
       "      <td>3943.000000</td>\n",
       "      <td>3943.000000</td>\n",
       "      <td>3943.000000</td>\n",
       "    </tr>\n",
       "    <tr>\n",
       "      <th>mean</th>\n",
       "      <td>0.162820</td>\n",
       "      <td>32.473244</td>\n",
       "      <td>65.328937</td>\n",
       "      <td>2310.297451</td>\n",
       "      <td>0.509003</td>\n",
       "      <td>0.486685</td>\n",
       "      <td>0.307634</td>\n",
       "      <td>0.907431</td>\n",
       "      <td>0.092569</td>\n",
       "      <td>0.430383</td>\n",
       "      <td>...</td>\n",
       "      <td>0.396906</td>\n",
       "      <td>0.594725</td>\n",
       "      <td>0.265280</td>\n",
       "      <td>0.215318</td>\n",
       "      <td>0.234339</td>\n",
       "      <td>0.442556</td>\n",
       "      <td>0.215318</td>\n",
       "      <td>0.219376</td>\n",
       "      <td>0.336799</td>\n",
       "      <td>0.222419</td>\n",
       "    </tr>\n",
       "    <tr>\n",
       "      <th>std</th>\n",
       "      <td>0.369248</td>\n",
       "      <td>24.551176</td>\n",
       "      <td>30.261023</td>\n",
       "      <td>2282.121687</td>\n",
       "      <td>0.499982</td>\n",
       "      <td>0.499886</td>\n",
       "      <td>0.461573</td>\n",
       "      <td>0.289864</td>\n",
       "      <td>0.289864</td>\n",
       "      <td>0.495193</td>\n",
       "      <td>...</td>\n",
       "      <td>0.489318</td>\n",
       "      <td>0.491007</td>\n",
       "      <td>0.441538</td>\n",
       "      <td>0.411095</td>\n",
       "      <td>0.423639</td>\n",
       "      <td>0.496752</td>\n",
       "      <td>0.411095</td>\n",
       "      <td>0.413876</td>\n",
       "      <td>0.472676</td>\n",
       "      <td>0.415924</td>\n",
       "    </tr>\n",
       "    <tr>\n",
       "      <th>min</th>\n",
       "      <td>0.000000</td>\n",
       "      <td>0.000000</td>\n",
       "      <td>18.250000</td>\n",
       "      <td>0.000000</td>\n",
       "      <td>0.000000</td>\n",
       "      <td>0.000000</td>\n",
       "      <td>0.000000</td>\n",
       "      <td>0.000000</td>\n",
       "      <td>0.000000</td>\n",
       "      <td>0.000000</td>\n",
       "      <td>...</td>\n",
       "      <td>0.000000</td>\n",
       "      <td>0.000000</td>\n",
       "      <td>0.000000</td>\n",
       "      <td>0.000000</td>\n",
       "      <td>0.000000</td>\n",
       "      <td>0.000000</td>\n",
       "      <td>0.000000</td>\n",
       "      <td>0.000000</td>\n",
       "      <td>0.000000</td>\n",
       "      <td>0.000000</td>\n",
       "    </tr>\n",
       "    <tr>\n",
       "      <th>25%</th>\n",
       "      <td>0.000000</td>\n",
       "      <td>9.000000</td>\n",
       "      <td>35.900000</td>\n",
       "      <td>413.125000</td>\n",
       "      <td>0.000000</td>\n",
       "      <td>0.000000</td>\n",
       "      <td>0.000000</td>\n",
       "      <td>1.000000</td>\n",
       "      <td>0.000000</td>\n",
       "      <td>0.000000</td>\n",
       "      <td>...</td>\n",
       "      <td>0.000000</td>\n",
       "      <td>0.000000</td>\n",
       "      <td>0.000000</td>\n",
       "      <td>0.000000</td>\n",
       "      <td>0.000000</td>\n",
       "      <td>0.000000</td>\n",
       "      <td>0.000000</td>\n",
       "      <td>0.000000</td>\n",
       "      <td>0.000000</td>\n",
       "      <td>0.000000</td>\n",
       "    </tr>\n",
       "    <tr>\n",
       "      <th>50%</th>\n",
       "      <td>0.000000</td>\n",
       "      <td>29.000000</td>\n",
       "      <td>70.550000</td>\n",
       "      <td>1404.650000</td>\n",
       "      <td>1.000000</td>\n",
       "      <td>0.000000</td>\n",
       "      <td>0.000000</td>\n",
       "      <td>1.000000</td>\n",
       "      <td>0.000000</td>\n",
       "      <td>0.000000</td>\n",
       "      <td>...</td>\n",
       "      <td>0.000000</td>\n",
       "      <td>1.000000</td>\n",
       "      <td>0.000000</td>\n",
       "      <td>0.000000</td>\n",
       "      <td>0.000000</td>\n",
       "      <td>0.000000</td>\n",
       "      <td>0.000000</td>\n",
       "      <td>0.000000</td>\n",
       "      <td>0.000000</td>\n",
       "      <td>0.000000</td>\n",
       "    </tr>\n",
       "    <tr>\n",
       "      <th>75%</th>\n",
       "      <td>0.000000</td>\n",
       "      <td>55.000000</td>\n",
       "      <td>90.250000</td>\n",
       "      <td>3910.000000</td>\n",
       "      <td>1.000000</td>\n",
       "      <td>1.000000</td>\n",
       "      <td>1.000000</td>\n",
       "      <td>1.000000</td>\n",
       "      <td>0.000000</td>\n",
       "      <td>1.000000</td>\n",
       "      <td>...</td>\n",
       "      <td>1.000000</td>\n",
       "      <td>1.000000</td>\n",
       "      <td>1.000000</td>\n",
       "      <td>0.000000</td>\n",
       "      <td>0.000000</td>\n",
       "      <td>1.000000</td>\n",
       "      <td>0.000000</td>\n",
       "      <td>0.000000</td>\n",
       "      <td>1.000000</td>\n",
       "      <td>0.000000</td>\n",
       "    </tr>\n",
       "    <tr>\n",
       "      <th>max</th>\n",
       "      <td>1.000000</td>\n",
       "      <td>72.000000</td>\n",
       "      <td>118.750000</td>\n",
       "      <td>8672.450000</td>\n",
       "      <td>1.000000</td>\n",
       "      <td>1.000000</td>\n",
       "      <td>1.000000</td>\n",
       "      <td>1.000000</td>\n",
       "      <td>1.000000</td>\n",
       "      <td>1.000000</td>\n",
       "      <td>...</td>\n",
       "      <td>1.000000</td>\n",
       "      <td>1.000000</td>\n",
       "      <td>1.000000</td>\n",
       "      <td>1.000000</td>\n",
       "      <td>1.000000</td>\n",
       "      <td>1.000000</td>\n",
       "      <td>1.000000</td>\n",
       "      <td>1.000000</td>\n",
       "      <td>1.000000</td>\n",
       "      <td>1.000000</td>\n",
       "    </tr>\n",
       "  </tbody>\n",
       "</table>\n",
       "<p>8 rows × 31 columns</p>\n",
       "</div>"
      ],
      "text/plain": [
       "       senior_citizen       tenure  monthly_charges  total_charges  \\\n",
       "count     3943.000000  3943.000000      3943.000000    3943.000000   \n",
       "mean         0.162820    32.473244        65.328937    2310.297451   \n",
       "std          0.369248    24.551176        30.261023    2282.121687   \n",
       "min          0.000000     0.000000        18.250000       0.000000   \n",
       "25%          0.000000     9.000000        35.900000     413.125000   \n",
       "50%          0.000000    29.000000        70.550000    1404.650000   \n",
       "75%          0.000000    55.000000        90.250000    3910.000000   \n",
       "max          1.000000    72.000000       118.750000    8672.450000   \n",
       "\n",
       "       gender_male  partner_yes  dependents_yes  phone_service_yes  \\\n",
       "count  3943.000000  3943.000000     3943.000000        3943.000000   \n",
       "mean      0.509003     0.486685        0.307634           0.907431   \n",
       "std       0.499982     0.499886        0.461573           0.289864   \n",
       "min       0.000000     0.000000        0.000000           0.000000   \n",
       "25%       0.000000     0.000000        0.000000           1.000000   \n",
       "50%       1.000000     0.000000        0.000000           1.000000   \n",
       "75%       1.000000     1.000000        1.000000           1.000000   \n",
       "max       1.000000     1.000000        1.000000           1.000000   \n",
       "\n",
       "       multiple_lines_no_phone_service  multiple_lines_yes  ...  \\\n",
       "count                      3943.000000         3943.000000  ...   \n",
       "mean                          0.092569            0.430383  ...   \n",
       "std                           0.289864            0.495193  ...   \n",
       "min                           0.000000            0.000000  ...   \n",
       "25%                           0.000000            0.000000  ...   \n",
       "50%                           0.000000            0.000000  ...   \n",
       "75%                           0.000000            1.000000  ...   \n",
       "max                           1.000000            1.000000  ...   \n",
       "\n",
       "       streaming_movies_yes  paperless_billing_yes        churn  \\\n",
       "count           3943.000000            3943.000000  3943.000000   \n",
       "mean               0.396906               0.594725     0.265280   \n",
       "std                0.489318               0.491007     0.441538   \n",
       "min                0.000000               0.000000     0.000000   \n",
       "25%                0.000000               0.000000     0.000000   \n",
       "50%                0.000000               1.000000     0.000000   \n",
       "75%                1.000000               1.000000     1.000000   \n",
       "max                1.000000               1.000000     1.000000   \n",
       "\n",
       "       contract_type_one_year  contract_type_two_year  \\\n",
       "count             3943.000000             3943.000000   \n",
       "mean                 0.215318                0.234339   \n",
       "std                  0.411095                0.423639   \n",
       "min                  0.000000                0.000000   \n",
       "25%                  0.000000                0.000000   \n",
       "50%                  0.000000                0.000000   \n",
       "75%                  0.000000                0.000000   \n",
       "max                  1.000000                1.000000   \n",
       "\n",
       "       internet_service_type_fiber_optic  internet_service_type_none  \\\n",
       "count                        3943.000000                 3943.000000   \n",
       "mean                            0.442556                    0.215318   \n",
       "std                             0.496752                    0.411095   \n",
       "min                             0.000000                    0.000000   \n",
       "25%                             0.000000                    0.000000   \n",
       "50%                             0.000000                    0.000000   \n",
       "75%                             1.000000                    0.000000   \n",
       "max                             1.000000                    1.000000   \n",
       "\n",
       "       payment_type_credit_card_(automatic)  payment_type_electronic_check  \\\n",
       "count                           3943.000000                    3943.000000   \n",
       "mean                               0.219376                       0.336799   \n",
       "std                                0.413876                       0.472676   \n",
       "min                                0.000000                       0.000000   \n",
       "25%                                0.000000                       0.000000   \n",
       "50%                                0.000000                       0.000000   \n",
       "75%                                0.000000                       1.000000   \n",
       "max                                1.000000                       1.000000   \n",
       "\n",
       "       payment_type_mailed_check  \n",
       "count                3943.000000  \n",
       "mean                    0.222419  \n",
       "std                     0.415924  \n",
       "min                     0.000000  \n",
       "25%                     0.000000  \n",
       "50%                     0.000000  \n",
       "75%                     0.000000  \n",
       "max                     1.000000  \n",
       "\n",
       "[8 rows x 31 columns]"
      ]
     },
     "execution_count": 7,
     "metadata": {},
     "output_type": "execute_result"
    }
   ],
   "source": [
    "# Describe the train data\n",
    "train.describe()"
   ]
  },
  {
   "cell_type": "markdown",
   "id": "32ae33af-8635-42f1-be0d-ff7fc6564c67",
   "metadata": {},
   "source": [
    "## Explore"
   ]
  },
  {
   "cell_type": "markdown",
   "id": "3a1662e7-ee71-422b-9f48-94df92d9e457",
   "metadata": {},
   "source": [
    "#### 1. What is the distribution of customer churn in the dataset?"
   ]
  },
  {
   "cell_type": "code",
   "execution_count": 8,
   "id": "d10f9b63-23d0-48fb-957e-dfba4c477390",
   "metadata": {},
   "outputs": [
    {
     "data": {
      "image/png": "[encoded data removed]",
      "text/plain": [
       "<Figure size 640x480 with 1 Axes>"
      ]
     },
     "metadata": {},
     "output_type": "display_data"
    }
   ],
   "source": [
    "# This shows the distribution between the customers that churn vs the ones that don't. \n",
    "# In the following countplot it show us how imbalance in customers that churn. \n",
    "sns.countplot(x='churn', data=train)\n",
    "plt.title('Distribution of Customer Churn')\n",
    "plt.xlabel('Churn')\n",
    "plt.ylabel('Count')\n",
    "plt.show()"
   ]
  },
  {
   "cell_type": "markdown",
   "id": "ec15e817-124f-4a86-8e02-745e5d0c84fe",
   "metadata": {},
   "source": [
    "         $H_{0}$ : There is not an even distribution between customers that churn compare to the ones that don't.\n",
    "\n",
    "         $H_{a}$ : There is an even distribution between customers that churn compare to the ones that don't."
   ]
  },
  {
   "cell_type": "markdown",
   "id": "09238f4a-8b8a-447f-adcd-3dcb7d2c571d",
   "metadata": {},
   "source": [
    ">- The distribution of customer churn in the dataset is imbalanced, with significantly more customers not churning compared to those who churn."
   ]
  },
  {
   "cell_type": "markdown",
   "id": "1d68da99-862a-44b9-9d8b-96723897ff78",
   "metadata": {},
   "source": [
    "#### 2. How does tenure relate to customer churn?"
   ]
  },
  {
   "cell_type": "code",
   "execution_count": 9,
   "id": "cf18e7e1-0bd1-44f9-aa22-67b1ae6fa95b",
   "metadata": {},
   "outputs": [
    {
     "data": {
      "image/png": "[encoded data removed]",
      "text/plain": [
       "<Figure size 1000x500 with 1 Axes>"
      ]
     },
     "metadata": {},
     "output_type": "display_data"
    }
   ],
   "source": [
    "# This histogram shows the relationship between the tenure and customer churn. \n",
    "plt.figure(figsize=(10,5))\n",
    "sns.histplot(x='tenure', data=train, hue='churn', element='step', bins=30, kde=True)\n",
    "plt.title('Distribution of Tenure by Churn')\n",
    "plt.xlabel('Tenure (months)')\n",
    "plt.ylabel('Count')\n",
    "plt.show()"
   ]
  },
  {
   "cell_type": "markdown",
   "id": "37fbda9e-457a-4fe1-8cf0-8e5af0e18a7a",
   "metadata": {},
   "source": [
    "         $H_{0}$ : There is not a relationship between customers that churn compare to the ones that don't.\n",
    "\n",
    "         $H_{a}$ : There is a relationship between customers that churn compare to the ones that don't."
   ]
  },
  {
   "cell_type": "code",
   "execution_count": 10,
   "id": "c3cfeb1b-d081-4ba3-a1d8-17506b21cbf0",
   "metadata": {},
   "outputs": [
    {
     "name": "stdout",
     "output_type": "stream",
     "text": [
      "T-test Results:\n",
      "T-statistic: -23.16\n",
      "P-value: 0.00000\n",
      "We reject the null hypothesis\n",
      "There is a significant difference in tenure between customers who churned and customers who did not churn.\n"
     ]
    }
   ],
   "source": [
    "# A t-test is used to evaluate the significant difference in the mean tenure\n",
    "# between customers who churn vs those who don't churn.\n",
    "\n",
    "# separate the data into two groups: customers who churned and customers who did not churn\n",
    "churn_yes = train[train['churn']==1]['tenure']\n",
    "churn_no = train[train['churn']==0]['tenure']\n",
    "\n",
    "# Perform the t-test\n",
    "t, p = stats.ttest_ind(churn_yes, churn_no)\n",
    "a = .05\n",
    "\n",
    "# Print the results\n",
    "print('T-test Results:')\n",
    "print(f'T-statistic: {t:.2f}')\n",
    "print(f'P-value: {p:.5f}')\n",
    "\n",
    "# Evaluate p-value\n",
    "if p < a:\n",
    "    print(f'We reject the null hypothesis\\nThere is a significant difference in tenure between customers who churned and customers who did not churn.')\n",
    "else:\n",
    "    print(f'We fail to reject the null hypothesis\\nThere is no significant difference in tenure between customers who churned and customers who did not churn.')"
   ]
  },
  {
   "cell_type": "markdown",
   "id": "717c51b3-3b0b-4750-bb9f-2a9988294fef",
   "metadata": {},
   "source": [
    "> It appears that customers with shorter tenure are more likely to churn compared to those with longer tenure. This suggests that customer loyalty increases over time."
   ]
  },
  {
   "cell_type": "markdown",
   "id": "a06bd864-9248-4c63-984e-96f99d7d63b2",
   "metadata": {},
   "source": [
    "#### 3. Is there a relationship between the payment method and churn?"
   ]
  },
  {
   "cell_type": "code",
   "execution_count": 11,
   "id": "1d36ef61-d412-4ccc-9211-046e71b51de2",
   "metadata": {},
   "outputs": [
    {
     "data": {
      "image/png": "[encoded data removed]",
      "text/plain": [
       "<Figure size 1000x500 with 1 Axes>"
      ]
     },
     "metadata": {},
     "output_type": "display_data"
    }
   ],
   "source": [
    "# A countplot illustrates the relationship between the payment method and churn.\n",
    "plt.figure(figsize=(10,5))\n",
    "sns.countplot(x='payment_type', hue='churn', data=train)\n",
    "plt.title('Distribution of Churn by Payment Method')\n",
    "plt.xlabel('Payment Method')\n",
    "plt.ylabel('Count')\n",
    "plt.show()"
   ]
  },
  {
   "cell_type": "markdown",
   "id": "d25faf7f-2a84-4b07-a2da-4e08e205c651",
   "metadata": {},
   "source": [
    "         $H_{0}$ : There is not a relationship between payment method and churn compare to the ones that don't.\n",
    "\n",
    "         $H_{a}$ : There is a relationship between payment method and churn compare to the ones that don't."
   ]
  },
  {
   "cell_type": "code",
   "execution_count": 12,
   "id": "6ae8affc-793c-493e-a382-e3a7e32f2b75",
   "metadata": {},
   "outputs": [
    {
     "name": "stdout",
     "output_type": "stream",
     "text": [
      "We reject the null hypothesis\n",
      "There is a significant relationship between payment method and churn.\n"
     ]
    }
   ],
   "source": [
    "# Perform the chi-squared test\n",
    "payment_churn = pd.crosstab(train['payment_type'], train['churn'])\n",
    "chi2, p, dof, expected  = stats.chi2_contingency(payment_churn)\n",
    "a = .05\n",
    "\n",
    "# Print the results\n",
    "# Evaluate p-value\n",
    "if p < a:\n",
    "    print(f'We reject the null hypothesis\\nThere is a significant relationship between payment method and churn.')\n",
    "else:\n",
    "    print(f'We fail to reject the null hypothesis\\nThere is no significant relationship between payment method and churn.')"
   ]
  },
  {
   "cell_type": "markdown",
   "id": "b3ab0a4e-b2f8-4167-acd7-4f603ac3ee4a",
   "metadata": {},
   "source": [
    ">- Yes, there is a significant relationship between payment method and churn based on the chi-squared test. Customers who pay by electronic check are more likely to churn compared to those who use other payment methods."
   ]
  },
  {
   "cell_type": "markdown",
   "id": "b32b5787-49b8-4dd4-aa51-cafbfacb65e9",
   "metadata": {
    "tags": []
   },
   "source": [
    "#### 4. Do customers with tech support tend to churn less often than those without tech support?"
   ]
  },
  {
   "cell_type": "code",
   "execution_count": 13,
   "id": "e9b16408-820b-4035-a28d-74ff7e43b4a0",
   "metadata": {},
   "outputs": [
    {
     "data": {
      "image/png": "[encoded data removed]",
      "text/plain": [
       "<Figure size 640x480 with 1 Axes>"
      ]
     },
     "metadata": {},
     "output_type": "display_data"
    }
   ],
   "source": [
    "# The relationship between tech support and churn\n",
    "sns.countplot(data=train, x='tech_support_yes', hue='churn')\n",
    "plt.title('Customers with Tech Support')\n",
    "plt.xlabel('Has tech support')\n",
    "plt.ylabel('Count')\n",
    "plt.show()"
   ]
  },
  {
   "cell_type": "markdown",
   "id": "d4a0985d-9597-4f18-938e-b727d3138c45",
   "metadata": {},
   "source": [
    "         $H_{0}$ : Customers with tech support don't churn less often than those without tech support.\n",
    "\n",
    "         $H_{a}$ : Customers with tech support churn less often than those without tech support."
   ]
  },
  {
   "cell_type": "code",
   "execution_count": 14,
   "id": "f4928f5a-88d7-4335-a043-640d42bb5100",
   "metadata": {},
   "outputs": [
    {
     "name": "stdout",
     "output_type": "stream",
     "text": [
      "We reject the null hypothesis\n",
      "There is a significant relationship between tech support and churn.\n"
     ]
    }
   ],
   "source": [
    "# A chi-squared test to determine if the relationship is significant\n",
    "crosstab = pd.crosstab(train['tech_support_yes'], train['churn'])\n",
    "chi2, p, dof, expected = stats.chi2_contingency(crosstab)\n",
    "a = .05\n",
    "\n",
    "# Print the results\n",
    "# Evaluate p-value\n",
    "if p < a:\n",
    "    print(f'We reject the null hypothesis\\nThere is a significant relationship between tech support and churn.')\n",
    "else:\n",
    "    print(f'We fail to reject the null hypothesis\\nThere is no significant relationship between tech support and churn.')"
   ]
  },
  {
   "cell_type": "markdown",
   "id": "e9a1f203-13fa-4a51-a8b9-0fe24f09ad08",
   "metadata": {},
   "source": [
    ">- we can conclude that customers with tech support churn less often than those without tech support. In other words, having tech support is associated with a lower likelihood of churn."
   ]
  },
  {
   "cell_type": "markdown",
   "id": "1b3bd922-ab07-457f-92de-df0cfb259209",
   "metadata": {},
   "source": [
    "### Exploration Summary\n",
    "During the exploration section, I analyzed the Telco Customer Churn dataset to understand the relationships between customer churn and various features. Here are my key findings:\n",
    "\n",
    ">- The dataset contains 7,043 observations and 23 columns.\n",
    ">- The target variable is the 'churn' column, which is binary and indicates whether a customer churned or not.\n",
    ">- The dataset is imbalanced, with 73% of customers not churning and 27% of customers churning.\n",
    ">- The features that are strongly associated with churn are: contract type, tenure, monthly charges, and payment type.\n",
    ">- Customers with a month-to-month contract type are more likely to churn.\n",
    ">- Customers with shorter tenure are more likely to churn.\n",
    ">- Customers with higher monthly charges are more likely to churn.\n",
    ">- Customers with fiber optic internet service are more likely to churn.\n",
    ">- Customers with tech support are less likely to churn than those without.\n",
    ">- Customers with multiple lines are slightly more likely to churn than those without.\n",
    "\n",
    "Based on these findings, I have decided to include the following features in my modeling:\n",
    "\n",
    ">- contract type\n",
    ">- tenure\n",
    ">- monthly_charges\n",
    ">- payment_type\n",
    ">- has_tech_support\n",
    "    \n",
    "I will not be including 'multiple_lines' feature in my model since the relationship with churn was weak."
   ]
  },
  {
   "cell_type": "markdown",
   "id": "c4ffa9e6-9520-4afc-87f2-e9b7d05123ca",
   "metadata": {},
   "source": [
    "## Modeling"
   ]
  },
  {
   "cell_type": "markdown",
   "id": "d6dc77be-316f-4c47-bd29-5ee0041482b7",
   "metadata": {},
   "source": [
    "### Best 3 Models"
   ]
  },
  {
   "cell_type": "markdown",
   "id": "50ff3971-f627-43b9-b3d3-9af889c0b2f0",
   "metadata": {},
   "source": [
    ">- Decision Tree:\n",
    ">- Random Forest:\n",
    ">- Logistic Regression: \n"
   ]
  },
  {
   "cell_type": "markdown",
   "id": "97187b17-abf4-4ba3-838e-edc53ab45549",
   "metadata": {},
   "source": [
    "#### Decision Tree Model Type"
   ]
  },
  {
   "cell_type": "code",
   "execution_count": 15,
   "id": "9f25173e-7ea3-4405-8c27-0fce4b6a34bb",
   "metadata": {},
   "outputs": [
    {
     "data": {
      "text/plain": [
       "0.7347197565305605"
      ]
     },
     "execution_count": 15,
     "metadata": {},
     "output_type": "execute_result"
    }
   ],
   "source": [
    "baseline_accuracy = (train.churn == 0).mean()\n",
    "baseline_accuracy"
   ]
  },
  {
   "cell_type": "markdown",
   "id": "4a0e3b5a-bc7b-472f-9c81-61a5bc1fd784",
   "metadata": {},
   "source": [
    "#### Decision Tree Test Model"
   ]
  },
  {
   "cell_type": "code",
   "execution_count": 16,
   "id": "646903e5-3605-46ea-b7d4-22b3aa9a054e",
   "metadata": {},
   "outputs": [],
   "source": [
    "# Lets drop columns that are objects and don't add any value to the data. Also, we need to remove the 'churn_Yes' column because is our TARGET.\n",
    "# Also, lets convert train to X_train.\n",
    "\n",
    "X_train = train.drop(columns = ['customer_id','payment_type','churn'])\n",
    "X_validate = validate.drop(columns = ['customer_id','payment_type','churn'])\n",
    "X_test = test.drop(columns = ['customer_id','payment_type','churn'])"
   ]
  },
  {
   "cell_type": "code",
   "execution_count": 17,
   "id": "18333677-64a0-4674-8c9a-1b8efd4566a5",
   "metadata": {},
   "outputs": [],
   "source": [
    "# Set target\n",
    "target = 'churn'\n",
    "\n",
    "# 'y' variables are series\n",
    "y_train = train[target]\n",
    "y_validate = validate[target]\n",
    "y_test = test[target]"
   ]
  },
  {
   "cell_type": "code",
   "execution_count": 18,
   "id": "127da7ce-c572-42f4-93fc-fcdc17f895ce",
   "metadata": {
    "tags": []
   },
   "outputs": [
    {
     "data": {
      "text/plain": [
       "0.9984783160030434"
      ]
     },
     "execution_count": 18,
     "metadata": {},
     "output_type": "execute_result"
    }
   ],
   "source": [
    "# Making the object\n",
    "dtc = DecisionTreeClassifier()\n",
    "\n",
    "# fit the object\n",
    "# building our model on our train values\n",
    "dtc.fit(X_train, y_train)\n",
    "\n",
    "# Transform the object\n",
    "# score on my train data\n",
    "dtc.score(X_train, y_train)"
   ]
  },
  {
   "cell_type": "code",
   "execution_count": 19,
   "id": "6d6b01fc-79c7-4699-af22-3e7b6e47a395",
   "metadata": {},
   "outputs": [
    {
     "data": {
      "text/plain": [
       "0.7347197565305605"
      ]
     },
     "execution_count": 19,
     "metadata": {},
     "output_type": "execute_result"
    }
   ],
   "source": [
    "baseline_accuracy = (train.churn == 0).mean()\n",
    "baseline_accuracy"
   ]
  },
  {
   "cell_type": "markdown",
   "id": "0f7132b5-b311-4804-9faf-abe48615c69a",
   "metadata": {},
   "source": [
    ">- The decision tree performs better that the baseline."
   ]
  },
  {
   "cell_type": "code",
   "execution_count": 20,
   "id": "e799e89a-5fc2-4553-8b56-693220b0206a",
   "metadata": {
    "tags": []
   },
   "outputs": [
    {
     "data": {
      "text/html": [
       "<div>\n",
       "<style scoped>\n",
       "    .dataframe tbody tr th:only-of-type {\n",
       "        vertical-align: middle;\n",
       "    }\n",
       "\n",
       "    .dataframe tbody tr th {\n",
       "        vertical-align: top;\n",
       "    }\n",
       "\n",
       "    .dataframe thead th {\n",
       "        text-align: right;\n",
       "    }\n",
       "</style>\n",
       "<table border=\"1\" class=\"dataframe\">\n",
       "  <thead>\n",
       "    <tr style=\"text-align: right;\">\n",
       "      <th></th>\n",
       "      <th>0_predict</th>\n",
       "      <th>1_predict</th>\n",
       "    </tr>\n",
       "  </thead>\n",
       "  <tbody>\n",
       "    <tr>\n",
       "      <th>0_actual</th>\n",
       "      <td>2896</td>\n",
       "      <td>1</td>\n",
       "    </tr>\n",
       "    <tr>\n",
       "      <th>1_actual</th>\n",
       "      <td>5</td>\n",
       "      <td>1041</td>\n",
       "    </tr>\n",
       "  </tbody>\n",
       "</table>\n",
       "</div>"
      ],
      "text/plain": [
       "          0_predict  1_predict\n",
       "0_actual       2896          1\n",
       "1_actual          5       1041"
      ]
     },
     "execution_count": 20,
     "metadata": {},
     "output_type": "execute_result"
    }
   ],
   "source": [
    "# Predict for train\n",
    "y_pred = dtc.predict(X_train)\n",
    "\n",
    "# CONFUSION MATRIX\n",
    "cm = confusion_matrix(y_train, y_pred)\n",
    "\n",
    "# Label the columns with a 0 and 1\n",
    "labels = sorted(y_train.unique())\n",
    "\n",
    "# Let's continue to clean our table\n",
    "pd.DataFrame(cm, index = [str(label) + '_actual' for label in labels], # Added an index and gave it a the name of 'actual'\n",
    "             columns = [str(label) + '_predict' for label in labels]) # Added a columns name of 'predict'"
   ]
  },
  {
   "cell_type": "code",
   "execution_count": 21,
   "id": "a01cb788-0dc5-4553-a729-667f4d8dd14a",
   "metadata": {},
   "outputs": [
    {
     "name": "stdout",
     "output_type": "stream",
     "text": [
      "              precision    recall  f1-score   support\n",
      "\n",
      "           0       1.00      1.00      1.00      2897\n",
      "           1       1.00      1.00      1.00      1046\n",
      "\n",
      "    accuracy                           1.00      3943\n",
      "   macro avg       1.00      1.00      1.00      3943\n",
      "weighted avg       1.00      1.00      1.00      3943\n",
      "\n"
     ]
    }
   ],
   "source": [
    "# Print the classification report\n",
    "print(classification_report(y_train, y_pred))"
   ]
  },
  {
   "cell_type": "code",
   "execution_count": 22,
   "id": "8e1dbed0-6601-46e7-9966-2a7b64d69734",
   "metadata": {
    "tags": []
   },
   "outputs": [],
   "source": [
    "# #see the tree that was built\n",
    "# #plot_tree\n",
    "# plt.figure(figsize=(6,6))\n",
    "# plot_tree(dtc, #our fitted object\n",
    "#          feature_names=X_train.columns, #puts in our features for the questions\n",
    "#           class_names=dtc.classes_.astype(str), #enters the selected class\n",
    "#           filled=True #colors our leaves and branches based on the class\n",
    "#          )\n",
    "# plt.show()"
   ]
  },
  {
   "cell_type": "markdown",
   "id": "fa3c7fc3-def9-4ae7-b66e-2ec3deeb6384",
   "metadata": {},
   "source": [
    "Positive case = churn"
   ]
  },
  {
   "cell_type": "markdown",
   "id": "db6a793b-48fc-4706-8b40-8f532b8bfc90",
   "metadata": {},
   "source": [
    "##### Which model performs better on in-sample data?"
   ]
  },
  {
   "cell_type": "code",
   "execution_count": 23,
   "id": "ee62c3b8-54a6-458c-9a7f-638e813c3816",
   "metadata": {
    "tags": []
   },
   "outputs": [
    {
     "name": "stdout",
     "output_type": "stream",
     "text": [
      "Accuracy: 0.9984783160030434\n",
      "\n",
      "True Positive Rate/Sensitivity/Recall/Power: 0.9952198852772467\n",
      "False Positive Rate/False Alarm Ratio/Fall-out: 0.00034518467380048324\n",
      "True Negative Rate/Specificity/Selectivity: 0.9996548153261995\n",
      "False Negative Rate/Miss Rate: 0.004780114722753346\n",
      "\n",
      "Precision/PPV: 0.9990403071017274\n",
      "F1 Score: 0.9971264367816092\n",
      "\n",
      "Support (0): 1046\n",
      "Support (1): 2897\n"
     ]
    }
   ],
   "source": [
    "cm.ravel()\n",
    "\n",
    "TN, FP, FN, TP = cm.ravel()\n",
    "TN, FP, FN, TP\n",
    "\n",
    "all_ = (TP + TN + FP + FN)\n",
    "\n",
    "accuracy = (TP + TN) / all_\n",
    "print(f\"Accuracy: {accuracy}\\n\")\n",
    "\n",
    "TPR = recall = TP / (TP + FN)\n",
    "FPR = FP / (FP + TN)\n",
    "print(f\"True Positive Rate/Sensitivity/Recall/Power: {TPR}\")\n",
    "print(f\"False Positive Rate/False Alarm Ratio/Fall-out: {FPR}\")\n",
    "\n",
    "TNR = TN / (FP + TN)\n",
    "FNR = FN / (FN + TP)\n",
    "print(f\"True Negative Rate/Specificity/Selectivity: {TNR}\")\n",
    "print(f\"False Negative Rate/Miss Rate: {FNR}\\n\")\n",
    "\n",
    "precision =  TP / (TP + FP)\n",
    "f1 =  2 * ((precision * recall) / ( precision + recall))\n",
    "print(f\"Precision/PPV: {precision}\")\n",
    "print(f\"F1 Score: {f1}\\n\")\n",
    "\n",
    "support_pos = TP + FN\n",
    "support_neg = FP + TN\n",
    "print(f\"Support (0): {support_pos}\")\n",
    "print(f\"Support (1): {support_neg}\")"
   ]
  },
  {
   "cell_type": "markdown",
   "id": "5ef524af-6e75-40aa-b208-ae0c7926b135",
   "metadata": {},
   "source": [
    "##### Which model performs best on your out-of-sample data, the validate set?"
   ]
  },
  {
   "cell_type": "code",
   "execution_count": 24,
   "id": "3808a7c8-8775-427c-9035-16b44f3e8739",
   "metadata": {
    "tags": []
   },
   "outputs": [
    {
     "data": {
      "text/html": [
       "<style type=\"text/css\">\n",
       "</style>\n",
       "<table id=\"T_6dcba\">\n",
       "  <thead>\n",
       "    <tr>\n",
       "      <th id=\"T_6dcba_level0_col0\" class=\"col_heading level0 col0\" >max_depth</th>\n",
       "      <th id=\"T_6dcba_level0_col1\" class=\"col_heading level0 col1\" >train_acc</th>\n",
       "      <th id=\"T_6dcba_level0_col2\" class=\"col_heading level0 col2\" >val_acc</th>\n",
       "      <th id=\"T_6dcba_level0_col3\" class=\"col_heading level0 col3\" >diff</th>\n",
       "    </tr>\n",
       "  </thead>\n",
       "  <tbody>\n",
       "    <tr>\n",
       "      <td id=\"T_6dcba_row0_col0\" class=\"data row0 col0\" >4</td>\n",
       "      <td id=\"T_6dcba_row0_col1\" class=\"data row0 col1\" >0.792797</td>\n",
       "      <td id=\"T_6dcba_row0_col2\" class=\"data row0 col2\" >0.798344</td>\n",
       "      <td id=\"T_6dcba_row0_col3\" class=\"data row0 col3\" >-0.005547</td>\n",
       "    </tr>\n",
       "    <tr>\n",
       "      <td id=\"T_6dcba_row1_col0\" class=\"data row1 col0\" >2</td>\n",
       "      <td id=\"T_6dcba_row1_col1\" class=\"data row1 col1\" >0.787471</td>\n",
       "      <td id=\"T_6dcba_row1_col2\" class=\"data row1 col2\" >0.790656</td>\n",
       "      <td id=\"T_6dcba_row1_col3\" class=\"data row1 col3\" >-0.003185</td>\n",
       "    </tr>\n",
       "    <tr>\n",
       "      <td id=\"T_6dcba_row2_col0\" class=\"data row2 col0\" >3</td>\n",
       "      <td id=\"T_6dcba_row2_col1\" class=\"data row2 col1\" >0.787471</td>\n",
       "      <td id=\"T_6dcba_row2_col2\" class=\"data row2 col2\" >0.790656</td>\n",
       "      <td id=\"T_6dcba_row2_col3\" class=\"data row2 col3\" >-0.003185</td>\n",
       "    </tr>\n",
       "    <tr>\n",
       "      <td id=\"T_6dcba_row3_col0\" class=\"data row3 col0\" >1</td>\n",
       "      <td id=\"T_6dcba_row3_col1\" class=\"data row3 col1\" >0.734720</td>\n",
       "      <td id=\"T_6dcba_row3_col2\" class=\"data row3 col2\" >0.734477</td>\n",
       "      <td id=\"T_6dcba_row3_col3\" class=\"data row3 col3\" >0.000243</td>\n",
       "    </tr>\n",
       "    <tr>\n",
       "      <td id=\"T_6dcba_row4_col0\" class=\"data row4 col0\" >5</td>\n",
       "      <td id=\"T_6dcba_row4_col1\" class=\"data row4 col1\" >0.803449</td>\n",
       "      <td id=\"T_6dcba_row4_col2\" class=\"data row4 col2\" >0.799527</td>\n",
       "      <td id=\"T_6dcba_row4_col3\" class=\"data row4 col3\" >0.003922</td>\n",
       "    </tr>\n",
       "    <tr>\n",
       "      <td id=\"T_6dcba_row5_col0\" class=\"data row5 col0\" >6</td>\n",
       "      <td id=\"T_6dcba_row5_col1\" class=\"data row5 col1\" >0.812833</td>\n",
       "      <td id=\"T_6dcba_row5_col2\" class=\"data row5 col2\" >0.804849</td>\n",
       "      <td id=\"T_6dcba_row5_col3\" class=\"data row5 col3\" >0.007984</td>\n",
       "    </tr>\n",
       "    <tr>\n",
       "      <td id=\"T_6dcba_row6_col0\" class=\"data row6 col0\" >7</td>\n",
       "      <td id=\"T_6dcba_row6_col1\" class=\"data row6 col1\" >0.824499</td>\n",
       "      <td id=\"T_6dcba_row6_col2\" class=\"data row6 col2\" >0.795979</td>\n",
       "      <td id=\"T_6dcba_row6_col3\" class=\"data row6 col3\" >0.028520</td>\n",
       "    </tr>\n",
       "    <tr>\n",
       "      <td id=\"T_6dcba_row7_col0\" class=\"data row7 col0\" >8</td>\n",
       "      <td id=\"T_6dcba_row7_col1\" class=\"data row7 col1\" >0.846056</td>\n",
       "      <td id=\"T_6dcba_row7_col2\" class=\"data row7 col2\" >0.775872</td>\n",
       "      <td id=\"T_6dcba_row7_col3\" class=\"data row7 col3\" >0.070184</td>\n",
       "    </tr>\n",
       "    <tr>\n",
       "      <td id=\"T_6dcba_row8_col0\" class=\"data row8 col0\" >9</td>\n",
       "      <td id=\"T_6dcba_row8_col1\" class=\"data row8 col1\" >0.868121</td>\n",
       "      <td id=\"T_6dcba_row8_col2\" class=\"data row8 col2\" >0.779420</td>\n",
       "      <td id=\"T_6dcba_row8_col3\" class=\"data row8 col3\" >0.088700</td>\n",
       "    </tr>\n",
       "  </tbody>\n",
       "</table>\n"
      ],
      "text/plain": [
       "<pandas.io.formats.style.Styler at 0x14dd69490>"
      ]
     },
     "execution_count": 24,
     "metadata": {},
     "output_type": "execute_result"
    }
   ],
   "source": [
    "scores_all = []\n",
    "\n",
    "for x in range(1,10):\n",
    "\n",
    "    tree = DecisionTreeClassifier(max_depth=x)\n",
    "    tree.fit(X_train, y_train)\n",
    "    # evaluate on train\n",
    "    train_acc = tree.score(X_train, y_train)\n",
    "    \n",
    "    #evaluate on validate\n",
    "    val_acc = tree.score(X_validate, y_validate)\n",
    "    \n",
    "    # view the difference between train_acc and val_acc\n",
    "    diff = train_acc - val_acc\n",
    "    \n",
    "    scores_all.append([x, train_acc, val_acc, diff])\n",
    "    \n",
    "scores_df = pd.DataFrame(scores_all, columns=['max_depth','train_acc','val_acc','diff'])\n",
    "scores_df.sort_values('diff').style.hide_index()"
   ]
  },
  {
   "cell_type": "markdown",
   "id": "0b8cedad-f28d-407c-8a04-f7381435a0a2",
   "metadata": {},
   "source": [
    ">- The model with the max depth of 5 is the ideal one for test as is the one closer to ZERO. "
   ]
  },
  {
   "cell_type": "code",
   "execution_count": 25,
   "id": "626b64f3-415d-4d47-b923-37ed2e1a214f",
   "metadata": {},
   "outputs": [
    {
     "data": {
      "image/png": "[encoded data removed]",
      "text/plain": [
       "<Figure size 1200x600 with 1 Axes>"
      ]
     },
     "metadata": {},
     "output_type": "display_data"
    }
   ],
   "source": [
    "plt.figure(figsize=(12,6))\n",
    "plt.plot(scores_df.max_depth, scores_df.train_acc, label='train', marker='o')\n",
    "plt.plot(scores_df.max_depth, scores_df.val_acc, label='unseen validate', marker='o')\n",
    "plt.xlabel('max depth')\n",
    "plt.ylabel('accuracy')\n",
    "plt.title('how does the accuracy change with max depth on train and validate?')\n",
    "plt.legend()\n",
    "plt.xticks(np.arange(0,10,1))\n",
    "plt.grid()\n",
    "plt.show()"
   ]
  },
  {
   "cell_type": "markdown",
   "id": "e3a63fb7-9b16-4f02-9e35-01874b63bcf1",
   "metadata": {},
   "source": [
    ">- Depth 5 is the best to use on test"
   ]
  },
  {
   "cell_type": "markdown",
   "id": "661c7fe4-8e4c-47e3-9010-abc178db93bc",
   "metadata": {},
   "source": [
    "#### Random Forest Model Type\n",
    "\n",
    ">- Making the object\n",
    ">- Fit the object\n",
    ">- Transform the object"
   ]
  },
  {
   "cell_type": "code",
   "execution_count": 26,
   "id": "30adc295-354d-4fc3-b4b6-c2b892c2a43a",
   "metadata": {},
   "outputs": [
    {
     "data": {
      "text/plain": [
       "0.7347197565305605"
      ]
     },
     "execution_count": 26,
     "metadata": {},
     "output_type": "execute_result"
    }
   ],
   "source": [
    "baseline_accuracy = (train.churn == 0).mean()\n",
    "baseline_accuracy"
   ]
  },
  {
   "cell_type": "code",
   "execution_count": 27,
   "id": "c5c6383e-bc7b-4c7d-8456-52229dbaa7c9",
   "metadata": {},
   "outputs": [
    {
     "data": {
      "text/plain": [
       "0.9984783160030434"
      ]
     },
     "execution_count": 27,
     "metadata": {},
     "output_type": "execute_result"
    }
   ],
   "source": [
    "rf = RandomForestClassifier()\n",
    "rf.fit(X_train, y_train)\n",
    "rf.score(X_train, y_train)"
   ]
  },
  {
   "cell_type": "markdown",
   "id": "f88fedfb-61bb-4a91-ba82-f1b6afd34716",
   "metadata": {},
   "source": [
    ">- The Random Forest performs better than the baseline."
   ]
  },
  {
   "cell_type": "code",
   "execution_count": 28,
   "id": "ac6a36d3-48d1-49ea-a4fa-0856ec745212",
   "metadata": {
    "tags": []
   },
   "outputs": [
    {
     "data": {
      "text/plain": [
       "<sklearn.metrics._plot.confusion_matrix.ConfusionMatrixDisplay at 0x14ddeb490>"
      ]
     },
     "execution_count": 28,
     "metadata": {},
     "output_type": "execute_result"
    },
    {
     "data": {
      "image/png": "[encoded data removed]",
      "text/plain": [
       "<Figure size 640x480 with 2 Axes>"
      ]
     },
     "metadata": {},
     "output_type": "display_data"
    }
   ],
   "source": [
    "plot_confusion_matrix(rf, X_train, y_train)"
   ]
  },
  {
   "cell_type": "code",
   "execution_count": 29,
   "id": "1b6c09da-e641-420f-897c-c75a65d47432",
   "metadata": {
    "tags": []
   },
   "outputs": [
    {
     "name": "stdout",
     "output_type": "stream",
     "text": [
      "              precision    recall  f1-score   support\n",
      "\n",
      "           0       1.00      1.00      1.00      2897\n",
      "           1       1.00      1.00      1.00      1046\n",
      "\n",
      "    accuracy                           1.00      3943\n",
      "   macro avg       1.00      1.00      1.00      3943\n",
      "weighted avg       1.00      1.00      1.00      3943\n",
      "\n"
     ]
    }
   ],
   "source": [
    "# The y_predict for train\n",
    "y_pred_rf = rf.predict(X_train)\n",
    "\n",
    "#see probability of predictions \n",
    "y_proba_rf = rf.predict_proba(X_train)\n",
    "\n",
    "# CONFUSION MATRIX\n",
    "cm_rf = confusion_matrix(y_train, y_pred_rf)\n",
    "\n",
    "# Print the classification report\n",
    "print(classification_report(y_train, y_pred_rf))"
   ]
  },
  {
   "cell_type": "code",
   "execution_count": 30,
   "id": "d358843e-8c7e-411c-b41a-5e38eb5a1351",
   "metadata": {
    "tags": []
   },
   "outputs": [
    {
     "name": "stdout",
     "output_type": "stream",
     "text": [
      "Accuracy: 0.9984783160030434\n",
      "\n",
      "True Positive Rate/Sensitivity/Recall/Power: 0.9980879541108987\n",
      "False Positive Rate/False Alarm Ratio/Fall-out: 0.001380738695201933\n",
      "True Negative Rate/Specificity/Selectivity: 0.9986192613047981\n",
      "False Negative Rate/Miss Rate: 0.0019120458891013384\n",
      "\n",
      "Precision/PPV: 0.9961832061068703\n",
      "F1 Score: 0.997134670487106\n",
      "\n",
      "Support (0): 1046\n",
      "Support (1): 2897\n"
     ]
    }
   ],
   "source": [
    "TN, FP, FN, TP = cm_rf.ravel()\n",
    "TN, FP, FN, TP\n",
    "\n",
    "rf_all_ = (TP + TN + FP + FN)\n",
    "\n",
    "rf_accuracy = (TP + TN) / rf_all_\n",
    "print(f\"Accuracy: {rf_accuracy}\\n\")\n",
    "\n",
    "rf_TPR = rf_recall = TP / (TP + FN)\n",
    "rf_FPR = FP / (FP + TN)\n",
    "print(f\"True Positive Rate/Sensitivity/Recall/Power: {rf_TPR}\")\n",
    "print(f\"False Positive Rate/False Alarm Ratio/Fall-out: {rf_FPR}\")\n",
    "\n",
    "rf_TNR = TN / (FP + TN)\n",
    "rf_FNR = FN / (FN + TP)\n",
    "print(f\"True Negative Rate/Specificity/Selectivity: {rf_TNR}\")\n",
    "print(f\"False Negative Rate/Miss Rate: {rf_FNR}\\n\")\n",
    "\n",
    "rf_precision =  TP / (TP + FP)\n",
    "rf_f1 =  2 * ((rf_precision * rf_recall) / ( rf_precision + rf_recall))\n",
    "print(f\"Precision/PPV: {rf_precision}\")\n",
    "print(f\"F1 Score: {rf_f1}\\n\")\n",
    "\n",
    "rf_support_pos = TP + FN\n",
    "rf_support_neg = FP + TN\n",
    "print(f\"Support (0): {rf_support_pos}\")\n",
    "print(f\"Support (1): {rf_support_neg}\")"
   ]
  },
  {
   "cell_type": "code",
   "execution_count": 31,
   "id": "dfdf7e98-0f10-49b3-875d-d498276a0d39",
   "metadata": {
    "tags": []
   },
   "outputs": [
    {
     "data": {
      "text/html": [
       "<style type=\"text/css\">\n",
       "</style>\n",
       "<table id=\"T_213d8\">\n",
       "  <thead>\n",
       "    <tr>\n",
       "      <th id=\"T_213d8_level0_col0\" class=\"col_heading level0 col0\" >min_samples_leaf</th>\n",
       "      <th id=\"T_213d8_level0_col1\" class=\"col_heading level0 col1\" >max_depth</th>\n",
       "      <th id=\"T_213d8_level0_col2\" class=\"col_heading level0 col2\" >train_acc</th>\n",
       "      <th id=\"T_213d8_level0_col3\" class=\"col_heading level0 col3\" >val_acc</th>\n",
       "      <th id=\"T_213d8_level0_col4\" class=\"col_heading level0 col4\" >difference</th>\n",
       "    </tr>\n",
       "  </thead>\n",
       "  <tbody>\n",
       "    <tr>\n",
       "      <td id=\"T_213d8_row0_col0\" class=\"data row0 col0\" >1</td>\n",
       "      <td id=\"T_213d8_row0_col1\" class=\"data row0 col1\" >10</td>\n",
       "      <td id=\"T_213d8_row0_col2\" class=\"data row0 col2\" >0.882069</td>\n",
       "      <td id=\"T_213d8_row0_col3\" class=\"data row0 col3\" >0.803666</td>\n",
       "      <td id=\"T_213d8_row0_col4\" class=\"data row0 col4\" >0.078403</td>\n",
       "    </tr>\n",
       "    <tr>\n",
       "      <td id=\"T_213d8_row1_col0\" class=\"data row1 col0\" >2</td>\n",
       "      <td id=\"T_213d8_row1_col1\" class=\"data row1 col1\" >9</td>\n",
       "      <td id=\"T_213d8_row1_col2\" class=\"data row1 col2\" >0.849353</td>\n",
       "      <td id=\"T_213d8_row1_col3\" class=\"data row1 col3\" >0.812537</td>\n",
       "      <td id=\"T_213d8_row1_col4\" class=\"data row1 col4\" >0.036816</td>\n",
       "    </tr>\n",
       "    <tr>\n",
       "      <td id=\"T_213d8_row2_col0\" class=\"data row2 col0\" >3</td>\n",
       "      <td id=\"T_213d8_row2_col1\" class=\"data row2 col1\" >8</td>\n",
       "      <td id=\"T_213d8_row2_col2\" class=\"data row2 col2\" >0.831600</td>\n",
       "      <td id=\"T_213d8_row2_col3\" class=\"data row2 col3\" >0.807806</td>\n",
       "      <td id=\"T_213d8_row2_col4\" class=\"data row2 col4\" >0.023794</td>\n",
       "    </tr>\n",
       "    <tr>\n",
       "      <td id=\"T_213d8_row3_col0\" class=\"data row3 col0\" >4</td>\n",
       "      <td id=\"T_213d8_row3_col1\" class=\"data row3 col1\" >7</td>\n",
       "      <td id=\"T_213d8_row3_col2\" class=\"data row3 col2\" >0.819173</td>\n",
       "      <td id=\"T_213d8_row3_col3\" class=\"data row3 col3\" >0.810171</td>\n",
       "      <td id=\"T_213d8_row3_col4\" class=\"data row3 col4\" >0.009002</td>\n",
       "    </tr>\n",
       "    <tr>\n",
       "      <td id=\"T_213d8_row4_col0\" class=\"data row4 col0\" >5</td>\n",
       "      <td id=\"T_213d8_row4_col1\" class=\"data row4 col1\" >6</td>\n",
       "      <td id=\"T_213d8_row4_col2\" class=\"data row4 col2\" >0.803956</td>\n",
       "      <td id=\"T_213d8_row4_col3\" class=\"data row4 col3\" >0.802484</td>\n",
       "      <td id=\"T_213d8_row4_col4\" class=\"data row4 col4\" >0.001473</td>\n",
       "    </tr>\n",
       "    <tr>\n",
       "      <td id=\"T_213d8_row5_col0\" class=\"data row5 col0\" >6</td>\n",
       "      <td id=\"T_213d8_row5_col1\" class=\"data row5 col1\" >5</td>\n",
       "      <td id=\"T_213d8_row5_col2\" class=\"data row5 col2\" >0.801674</td>\n",
       "      <td id=\"T_213d8_row5_col3\" class=\"data row5 col3\" >0.804258</td>\n",
       "      <td id=\"T_213d8_row5_col4\" class=\"data row5 col4\" >-0.002584</td>\n",
       "    </tr>\n",
       "    <tr>\n",
       "      <td id=\"T_213d8_row6_col0\" class=\"data row6 col0\" >7</td>\n",
       "      <td id=\"T_213d8_row6_col1\" class=\"data row6 col1\" >4</td>\n",
       "      <td id=\"T_213d8_row6_col2\" class=\"data row6 col2\" >0.794826</td>\n",
       "      <td id=\"T_213d8_row6_col3\" class=\"data row6 col3\" >0.802484</td>\n",
       "      <td id=\"T_213d8_row6_col4\" class=\"data row6 col4\" >-0.007657</td>\n",
       "    </tr>\n",
       "    <tr>\n",
       "      <td id=\"T_213d8_row7_col0\" class=\"data row7 col0\" >8</td>\n",
       "      <td id=\"T_213d8_row7_col1\" class=\"data row7 col1\" >3</td>\n",
       "      <td id=\"T_213d8_row7_col2\" class=\"data row7 col2\" >0.780624</td>\n",
       "      <td id=\"T_213d8_row7_col3\" class=\"data row7 col3\" >0.780012</td>\n",
       "      <td id=\"T_213d8_row7_col4\" class=\"data row7 col4\" >0.000612</td>\n",
       "    </tr>\n",
       "    <tr>\n",
       "      <td id=\"T_213d8_row8_col0\" class=\"data row8 col0\" >9</td>\n",
       "      <td id=\"T_213d8_row8_col1\" class=\"data row8 col1\" >2</td>\n",
       "      <td id=\"T_213d8_row8_col2\" class=\"data row8 col2\" >0.754755</td>\n",
       "      <td id=\"T_213d8_row8_col3\" class=\"data row8 col3\" >0.754583</td>\n",
       "      <td id=\"T_213d8_row8_col4\" class=\"data row8 col4\" >0.000172</td>\n",
       "    </tr>\n",
       "    <tr>\n",
       "      <td id=\"T_213d8_row9_col0\" class=\"data row9 col0\" >10</td>\n",
       "      <td id=\"T_213d8_row9_col1\" class=\"data row9 col1\" >1</td>\n",
       "      <td id=\"T_213d8_row9_col2\" class=\"data row9 col2\" >0.734720</td>\n",
       "      <td id=\"T_213d8_row9_col3\" class=\"data row9 col3\" >0.734477</td>\n",
       "      <td id=\"T_213d8_row9_col4\" class=\"data row9 col4\" >0.000243</td>\n",
       "    </tr>\n",
       "  </tbody>\n",
       "</table>\n"
      ],
      "text/plain": [
       "<pandas.io.formats.style.Styler at 0x14dde2130>"
      ]
     },
     "execution_count": 31,
     "metadata": {},
     "output_type": "execute_result"
    }
   ],
   "source": [
    "# Run everything in one simple code. \n",
    "scores_all = []\n",
    "\n",
    "for x in range(1,11):\n",
    "    # make the object\n",
    "    rf = RandomForestClassifier(random_state=123, min_samples_leaf=x, max_depth=11-x)\n",
    "    \n",
    "    # fit the object\n",
    "    rf.fit(X_train, y_train)\n",
    "    \n",
    "    # transform the object\n",
    "    train_acc = rf.score(X_train, y_train)\n",
    "    \n",
    "    # evaluate on my validate data\n",
    "    val_acc = rf.score(X_validate, y_validate)\n",
    "    \n",
    "    # store results in a DataFrame\n",
    "    result = pd.DataFrame({'min_samples_leaf': [x], 'max_depth': [11-x], 'train_acc': [train_acc], 'val_acc': [val_acc]})\n",
    "    \n",
    "    # append to scores_all list\n",
    "    scores_all.append(result)\n",
    "    \n",
    "# combine all results into a single DataFrame\n",
    "scores_df = pd.concat(scores_all, ignore_index=True)\n",
    "\n",
    "scores_df['difference'] = scores_df.train_acc - scores_df.val_acc\n",
    "\n",
    "scores_df.style.hide_index()"
   ]
  },
  {
   "cell_type": "code",
   "execution_count": 32,
   "id": "ae3334b5-689a-4ec0-b5e6-19781a2f6225",
   "metadata": {
    "tags": []
   },
   "outputs": [
    {
     "data": {
      "image/png": "[encoded data removed]",
      "text/plain": [
       "<Figure size 1200x600 with 1 Axes>"
      ]
     },
     "metadata": {},
     "output_type": "display_data"
    }
   ],
   "source": [
    "plt.figure(figsize=(12,6))\n",
    "plt.plot(scores_df.max_depth, scores_df.train_acc, label='train', marker='o')\n",
    "plt.plot(scores_df.max_depth, scores_df.val_acc, label='unseen val', marker='o')\n",
    "plt.xlabel('max depth and min leaf sample')\n",
    "plt.ylabel('accuracy')\n",
    "plt.title('how does the accuracy change with max depth on train and validate?')\n",
    "plt.legend()\n",
    "plt.xticks(np.arange(0,10,1))\n",
    "plt.grid()\n",
    "plt.show()"
   ]
  },
  {
   "cell_type": "markdown",
   "id": "52f234ee-efcb-4683-b464-0e1db13bdae2",
   "metadata": {},
   "source": [
    ">- The model that has a max depth of 2 with min samples leaf is the best model to use. "
   ]
  },
  {
   "cell_type": "markdown",
   "id": "b478370c-dca9-47e8-8781-e3ff5b64a9aa",
   "metadata": {},
   "source": [
    "#### Logistic Regression Model Type"
   ]
  },
  {
   "cell_type": "code",
   "execution_count": 33,
   "id": "c19fcf8d-0f21-4004-a0d3-aa2317c73c87",
   "metadata": {},
   "outputs": [
    {
     "data": {
      "text/plain": [
       "0.7347197565305605"
      ]
     },
     "execution_count": 33,
     "metadata": {},
     "output_type": "execute_result"
    }
   ],
   "source": [
    "baseline_accuracy = (train.churn == 0).mean()\n",
    "baseline_accuracy"
   ]
  },
  {
   "cell_type": "code",
   "execution_count": 34,
   "id": "16a33e1f-a5c7-4bb4-97d1-c7f54c919ef3",
   "metadata": {},
   "outputs": [
    {
     "data": {
      "text/plain": [
       "0.751965508496069"
      ]
     },
     "execution_count": 34,
     "metadata": {},
     "output_type": "execute_result"
    }
   ],
   "source": [
    "logit = LogisticRegression(class_weight='balanced')\n",
    "logit.fit(X_train, y_train)\n",
    "logit.score(X_train, y_train)"
   ]
  },
  {
   "cell_type": "markdown",
   "id": "ca0f1a8d-5cac-404b-8b43-9019f7161d3b",
   "metadata": {},
   "source": [
    ">- The logistic Regression model performs better than the baseline using the hyperparameter class weight = 'balanced'."
   ]
  },
  {
   "cell_type": "code",
   "execution_count": 35,
   "id": "0f4010bc-d1d8-4978-8917-7aebc7d9b7c5",
   "metadata": {},
   "outputs": [
    {
     "data": {
      "text/plain": [
       "<sklearn.metrics._plot.confusion_matrix.ConfusionMatrixDisplay at 0x14dee2ac0>"
      ]
     },
     "execution_count": 35,
     "metadata": {},
     "output_type": "execute_result"
    },
    {
     "data": {
      "image/png": "[encoded data removed]",
      "text/plain": [
       "<Figure size 640x480 with 2 Axes>"
      ]
     },
     "metadata": {},
     "output_type": "display_data"
    }
   ],
   "source": [
    "plot_confusion_matrix(logit, X_train, y_train)"
   ]
  },
  {
   "cell_type": "code",
   "execution_count": 36,
   "id": "72110836-fcab-4690-b32e-41d731bd8ab4",
   "metadata": {},
   "outputs": [],
   "source": [
    "#conf matrix\n",
    "y_pred_lg = logit.predict(X_train)\n",
    "cm_lg = confusion_matrix(y_train, y_pred_lg) #rows, columns"
   ]
  },
  {
   "cell_type": "code",
   "execution_count": 37,
   "id": "d958f39b-841f-4ea7-a8bc-91d9821fd3cf",
   "metadata": {},
   "outputs": [
    {
     "name": "stdout",
     "output_type": "stream",
     "text": [
      "              precision    recall  f1-score   support\n",
      "\n",
      "           0       0.91      0.73      0.81      2897\n",
      "           1       0.52      0.80      0.63      1046\n",
      "\n",
      "    accuracy                           0.75      3943\n",
      "   macro avg       0.72      0.77      0.72      3943\n",
      "weighted avg       0.81      0.75      0.76      3943\n",
      "\n"
     ]
    }
   ],
   "source": [
    "y_pred_lg = logit.predict(X_train)\n",
    "print(f'{classification_report(y_train, y_pred_lg)}')"
   ]
  },
  {
   "cell_type": "code",
   "execution_count": null,
   "id": "68759be5-b0a7-49c3-a5a0-d14cce845f11",
   "metadata": {},
   "outputs": [],
   "source": []
  },
  {
   "cell_type": "markdown",
   "id": "76c26e74-340d-4e06-a5aa-cc8627f5d48e",
   "metadata": {},
   "source": [
    "## Conclusion"
   ]
  },
  {
   "cell_type": "markdown",
   "id": "ad335483-d4cb-4b9e-8f40-0fee6273e8e8",
   "metadata": {
    "tags": []
   },
   "source": [
    "### Summery"
   ]
  },
  {
   "cell_type": "code",
   "execution_count": null,
   "id": "7b16da13-b563-4d9b-aa8a-c35689e32922",
   "metadata": {},
   "outputs": [],
   "source": []
  },
  {
   "cell_type": "markdown",
   "id": "3f36a06b-858b-4469-b643-2e45b576482e",
   "metadata": {},
   "source": [
    "### Recommendations"
   ]
  },
  {
   "cell_type": "code",
   "execution_count": null,
   "id": "4f8ce589-e037-47bc-942a-3e52666a73df",
   "metadata": {},
   "outputs": [],
   "source": []
  },
  {
   "cell_type": "markdown",
   "id": "2b378034-2a17-4c89-ba9d-fcd081c47a45",
   "metadata": {},
   "source": [
    "### Next Steps"
   ]
  },
  {
   "cell_type": "code",
   "execution_count": 38,
   "id": "f7c8dd53-b2a7-47f6-b376-73df92e6fb4b",
   "metadata": {},
   "outputs": [
    {
     "name": "stdout",
     "output_type": "stream",
     "text": [
      "csv file found and loaded\n"
     ]
    },
    {
     "data": {
      "text/html": [
       "<div>\n",
       "<style scoped>\n",
       "    .dataframe tbody tr th:only-of-type {\n",
       "        vertical-align: middle;\n",
       "    }\n",
       "\n",
       "    .dataframe tbody tr th {\n",
       "        vertical-align: top;\n",
       "    }\n",
       "\n",
       "    .dataframe thead th {\n",
       "        text-align: right;\n",
       "    }\n",
       "</style>\n",
       "<table border=\"1\" class=\"dataframe\">\n",
       "  <thead>\n",
       "    <tr style=\"text-align: right;\">\n",
       "      <th></th>\n",
       "      <th>customer_id</th>\n",
       "      <th>probability_of_churn</th>\n",
       "      <th>prediction_of_churn</th>\n",
       "    </tr>\n",
       "  </thead>\n",
       "  <tbody>\n",
       "    <tr>\n",
       "      <th>0</th>\n",
       "      <td>4531-AUZNK</td>\n",
       "      <td>0.19</td>\n",
       "      <td>0</td>\n",
       "    </tr>\n",
       "    <tr>\n",
       "      <th>1</th>\n",
       "      <td>2296-DKZFP</td>\n",
       "      <td>0.01</td>\n",
       "      <td>0</td>\n",
       "    </tr>\n",
       "    <tr>\n",
       "      <th>2</th>\n",
       "      <td>9692-TUSXH</td>\n",
       "      <td>0.46</td>\n",
       "      <td>0</td>\n",
       "    </tr>\n",
       "    <tr>\n",
       "      <th>3</th>\n",
       "      <td>5129-JLPIS</td>\n",
       "      <td>0.39</td>\n",
       "      <td>0</td>\n",
       "    </tr>\n",
       "    <tr>\n",
       "      <th>4</th>\n",
       "      <td>1273-MTETI</td>\n",
       "      <td>0.83</td>\n",
       "      <td>1</td>\n",
       "    </tr>\n",
       "    <tr>\n",
       "      <th>...</th>\n",
       "      <td>...</td>\n",
       "      <td>...</td>\n",
       "      <td>...</td>\n",
       "    </tr>\n",
       "    <tr>\n",
       "      <th>1404</th>\n",
       "      <td>1597-FZREH</td>\n",
       "      <td>0.38</td>\n",
       "      <td>0</td>\n",
       "    </tr>\n",
       "    <tr>\n",
       "      <th>1405</th>\n",
       "      <td>9117-SHLZX</td>\n",
       "      <td>0.67</td>\n",
       "      <td>1</td>\n",
       "    </tr>\n",
       "    <tr>\n",
       "      <th>1406</th>\n",
       "      <td>8441-SHIPE</td>\n",
       "      <td>0.00</td>\n",
       "      <td>0</td>\n",
       "    </tr>\n",
       "    <tr>\n",
       "      <th>1407</th>\n",
       "      <td>3511-BFTJW</td>\n",
       "      <td>0.02</td>\n",
       "      <td>0</td>\n",
       "    </tr>\n",
       "    <tr>\n",
       "      <th>1408</th>\n",
       "      <td>1428-GTBJJ</td>\n",
       "      <td>0.79</td>\n",
       "      <td>1</td>\n",
       "    </tr>\n",
       "  </tbody>\n",
       "</table>\n",
       "<p>1409 rows × 3 columns</p>\n",
       "</div>"
      ],
      "text/plain": [
       "     customer_id  probability_of_churn  prediction_of_churn\n",
       "0     4531-AUZNK                  0.19                    0\n",
       "1     2296-DKZFP                  0.01                    0\n",
       "2     9692-TUSXH                  0.46                    0\n",
       "3     5129-JLPIS                  0.39                    0\n",
       "4     1273-MTETI                  0.83                    1\n",
       "...          ...                   ...                  ...\n",
       "1404  1597-FZREH                  0.38                    0\n",
       "1405  9117-SHLZX                  0.67                    1\n",
       "1406  8441-SHIPE                  0.00                    0\n",
       "1407  3511-BFTJW                  0.02                    0\n",
       "1408  1428-GTBJJ                  0.79                    1\n",
       "\n",
       "[1409 rows x 3 columns]"
      ]
     },
     "execution_count": 38,
     "metadata": {},
     "output_type": "execute_result"
    }
   ],
   "source": [
    "predictions_df = w.generate_predictions_df()\n",
    "predictions_df"
   ]
  },
  {
   "cell_type": "code",
   "execution_count": null,
   "id": "e815e993-c479-4e7a-92a3-58849fad78a8",
   "metadata": {},
   "outputs": [],
   "source": []
  },
  {
   "cell_type": "code",
   "execution_count": null,
   "id": "40cb73ae-25db-4aa4-b5c3-3cfa6e48390f",
   "metadata": {},
   "outputs": [],
   "source": []
  },
  {
   "cell_type": "code",
   "execution_count": null,
   "id": "a3134587-9541-4084-9012-ff3da8796bd7",
   "metadata": {},
   "outputs": [],
   "source": []
  }
 ],
 "metadata": {
  "kernelspec": {
   "display_name": "Python 3 (ipykernel)",
   "language": "python",
   "name": "python3"
  },
  "language_info": {
   "codemirror_mode": {
    "name": "ipython",
    "version": 3
   },
   "file_extension": ".py",
   "mimetype": "text/x-python",
   "name": "python",
   "nbconvert_exporter": "python",
   "pygments_lexer": "ipython3",
   "version": "3.9.13"
  }
 },
 "nbformat": 4,
 "nbformat_minor": 5
}
